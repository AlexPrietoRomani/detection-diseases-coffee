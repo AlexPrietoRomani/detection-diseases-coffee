{
 "cells": [
  {
   "cell_type": "code",
   "execution_count": null,
   "id": "2f2bd593",
   "metadata": {},
   "outputs": [],
   "source": [
    "from pathlib import Path\n",
    "ROOT = Path(__file__).resolve().parents[1]\n",
    "DATA_DIR = ROOT / 'data'\n",
    "MODEL_DIR = ROOT / 'models'\n",
    "OUTPUT_DIR = ROOT / 'outputs'"
   ]
  },
  {
   "cell_type": "code",
   "execution_count": null,
   "metadata": {},
   "outputs": [],
   "source": [
    "from ultralytics import YOLO"
   ]
  },
  {
   "cell_type": "code",
   "execution_count": null,
   "metadata": {},
   "outputs": [
    {
     "name": "stdout",
     "output_type": "stream",
     "text": [
      "CUDA está disponible. GPU detectada: NVIDIA GeForce RTX 4070 Ti SUPER\n"
     ]
    }
   ],
   "source": [
    "import torch\n",
    "\n",
    "# Verifica si CUDA (GPU) está disponible\n",
    "if torch.cuda.is_available():\n",
    "    print(\"CUDA está disponible. GPU detectada:\", torch.cuda.get_device_name(0))\n",
    "else:\n",
    "    print(\"CUDA no está disponible. Se usará la CPU.\")\n"
   ]
  },
  {
   "cell_type": "code",
   "execution_count": null,
   "metadata": {},
   "outputs": [
    {
     "data": {
      "text/plain": [
       "'2.5.1'"
      ]
     },
     "metadata": {},
     "output_type": "display_data"
    }
   ],
   "source": [
    "torch.__version__"
   ]
  },
  {
   "cell_type": "markdown",
   "metadata": {},
   "source": [
    "# Dataset 1,2 y 8"
   ]
  },
  {
   "cell_type": "code",
   "execution_count": null,
   "metadata": {},
   "outputs": [],
   "source": [
    "import os\n",
    "import shutil\n",
    "import yaml\n",
    "import cv2\n",
    "import numpy as np\n",
    "import random\n",
    "from PIL import Image"
   ]
  },
  {
   "cell_type": "markdown",
   "metadata": {},
   "source": [
    "## Configurando la copia de archivos"
   ]
  },
  {
   "cell_type": "code",
   "execution_count": null,
   "metadata": {},
   "outputs": [],
   "source": [
    "# CONFIGURACIÓN DE RUTAS, DATASETS Y CLASES COMBINADAS\n",
    "\n",
    "base_path = DATA_DIR / 'raw'\n",
    "\n",
    "# Definición de cada dataset con su ruta, lista de nombres y mapeo a la lista combinada.\n",
    "# Nota: En D8 se asume que \"Miner\" y \"Rust\" deben fusionarse con \"miner\" y \"rust\" de D1.\n",
    "datasets = {\n",
    "    \"D1\": {\n",
    "        \"path\": os.path.join(base_path, \"D1 - Coffee leaf diseases classification.v5i.yolov11\"),\n",
    "        \"names\": ['cerscospora', 'healthy', 'miner', 'phoma', 'rust'],\n",
    "        \"mapping\": {0: 0, 1: 1, 2: 2, 3: 3, 4: 4}  # idéntico a la lista combinada\n",
    "    },\n",
    "    \"D2\": {\n",
    "        \"path\": os.path.join(base_path, \"D2- Hojas de cafe enfermedades.v2i.yolov11\"),\n",
    "        \"names\": ['Falta-de-boro', 'Falta-de-calcio', 'Falta-de-fosforo', 'Falta-de-hierro', \n",
    "                  'Falta-de-magnesio', 'Falta-de-manganeso', 'Falta-de-potasio', 'Falta-nitrogeno'],\n",
    "        # Se mapea para que los índices de D2 sigan a los de D1 (0 a 4)\n",
    "        \"mapping\": {0: 5, 1: 6, 2: 7, 3: 8, 4: 9, 5: 10, 6: 11, 7: 12}\n",
    "    },\n",
    "    \"D8\": {\n",
    "        \"path\": os.path.join(base_path, \"D8 - Coffee Leaves Detection.v1i.yolov11\"),\n",
    "        \"names\": ['Miner', 'Rust'],\n",
    "        # Se mapea: \"Miner\" se asume igual que \"miner\" (índice 2) y \"Rust\" a \"rust\" (índice 4)\n",
    "        \"mapping\": {0: 2, 1: 4}\n",
    "    }\n",
    "}\n",
    "\n",
    "# Lista combinada de nombres (la unión de las clases, en el orden deseado)\n",
    "combined_names = ['cerscospora', 'healthy', 'miner', 'phoma', 'rust',\n",
    "                  'Falta-de-boro', 'Falta-de-calcio', 'Falta-de-fosforo', 'Falta-de-hierro', \n",
    "                  'Falta-de-magnesio', 'Falta-de-manganeso', 'Falta-de-potasio', 'Falta-nitrogeno']"
   ]
  },
  {
   "cell_type": "code",
   "execution_count": null,
   "metadata": {},
   "outputs": [],
   "source": [
    "# CREAR ESTRUCTURA DE CARPETAS COMBINADA\n",
    "\n",
    "# Se creará una única carpeta \"combinado\" con subcarpetas \"train\", \"valid\" y \"test\"\n",
    "combined_path = os.path.join(base_path, \"combinado\")\n",
    "for split in [\"train\", \"valid\", \"test\"]:\n",
    "    os.makedirs(os.path.join(combined_path, split, \"images\"), exist_ok=True)\n",
    "    os.makedirs(os.path.join(combined_path, split, \"labels\"), exist_ok=True)"
   ]
  },
  {
   "cell_type": "code",
   "execution_count": null,
   "metadata": {},
   "outputs": [
    {
     "data": {
      "text/plain": [
       "'C:/Users/ALEX/OneDrive/Cursos/Maestría en Big Data y Data Science/Cursos-VIU/Oblgatorios/TFM/Datasets\\\\combinado'"
      ]
     },
     "metadata": {},
     "output_type": "display_data"
    }
   ],
   "source": [
    "combined_path"
   ]
  },
  {
   "cell_type": "code",
   "execution_count": null,
   "metadata": {},
   "outputs": [],
   "source": [
    "combined_path = os.path.normpath(combined_path)"
   ]
  },
  {
   "cell_type": "code",
   "execution_count": null,
   "metadata": {},
   "outputs": [
    {
     "name": "stdout",
     "output_type": "stream",
     "text": [
      "Procesando dataset D1 ...\n",
      "Procesando dataset D2 ...\n",
      "Procesando dataset D8 ...\n"
     ]
    }
   ],
   "source": [
    "# COPIAR Y REMAPEAR LOS ARCHIVOS DE CADA DATASET\n",
    "\n",
    "def copy_and_remap_dataset(dataset_name, dataset_info):\n",
    "    \"\"\"\n",
    "    Copia imágenes y etiquetas del dataset original a la estructura combinada.\n",
    "    Renombra los archivos para evitar conflictos y remapea los índices de clase.\n",
    "    \"\"\"\n",
    "    src_path = dataset_info[\"path\"]\n",
    "    mapping = dataset_info[\"mapping\"]\n",
    "    \n",
    "    for split in [\"train\", \"valid\", \"test\"]:\n",
    "        src_images = os.path.join(src_path, split, \"images\")\n",
    "        src_labels = os.path.join(src_path, split, \"labels\")\n",
    "        dst_images = os.path.join(combined_path, split, \"images\")\n",
    "        dst_labels = os.path.join(combined_path, split, \"labels\")\n",
    "        \n",
    "        # Copiar imágenes (se renombra con el prefijo del dataset)\n",
    "        if os.path.exists(src_images):\n",
    "            for fname in os.listdir(src_images):\n",
    "                src_file = os.path.join(src_images, fname)\n",
    "                new_fname = f\"{dataset_name}_{fname}\"\n",
    "                dst_file = os.path.join(dst_images, new_fname)\n",
    "                shutil.copy2(src_file, dst_file)\n",
    "        else:\n",
    "            print(f\"Advertencia: No existe la carpeta {src_images}\")\n",
    "        \n",
    "        # Copiar etiquetas y remapear índices\n",
    "        if os.path.exists(src_labels):\n",
    "            for fname in os.listdir(src_labels):\n",
    "                src_file = os.path.join(src_labels, fname)\n",
    "                new_fname = f\"{dataset_name}_{fname}\"\n",
    "                dst_file = os.path.join(dst_labels, new_fname)\n",
    "                with open(src_file, 'r') as f:\n",
    "                    lines = f.readlines()\n",
    "                new_lines = []\n",
    "                for line in lines:\n",
    "                    parts = line.strip().split()\n",
    "                    if parts:\n",
    "                        try:\n",
    "                            cls_old = int(parts[0])\n",
    "                            cls_new = mapping.get(cls_old, cls_old)\n",
    "                            new_line = str(cls_new) + \" \" + \" \".join(parts[1:]) + \"\\n\"\n",
    "                            new_lines.append(new_line)\n",
    "                        except Exception as e:\n",
    "                            new_lines.append(line)\n",
    "                    else:\n",
    "                        new_lines.append(line)\n",
    "                with open(dst_file, 'w') as f:\n",
    "                    f.writelines(new_lines)\n",
    "        else:\n",
    "            print(f\"Advertencia: No existe la carpeta {src_labels}\")\n",
    "\n",
    "# Procesar cada dataset\n",
    "for ds in datasets:\n",
    "    print(f\"Procesando dataset {ds} ...\")\n",
    "    copy_and_remap_dataset(ds, datasets[ds])\n"
   ]
  },
  {
   "cell_type": "code",
   "execution_count": null,
   "metadata": {},
   "outputs": [
    {
     "name": "stdout",
     "output_type": "stream",
     "text": [
      "Conteo inicial de imágenes por clase en TRAIN (combinado):\n",
      "  Clase 0 (cerscospora): 224 imágenes\n",
      "  Clase 1 (healthy): 187 imágenes\n",
      "  Clase 2 (miner): 347 imágenes\n",
      "  Clase 3 (phoma): 169 imágenes\n",
      "  Clase 4 (rust): 342 imágenes\n",
      "  Clase 5 (Falta-de-boro): 68 imágenes\n",
      "  Clase 6 (Falta-de-calcio): 112 imágenes\n",
      "  Clase 7 (Falta-de-fosforo): 157 imágenes\n",
      "  Clase 8 (Falta-de-hierro): 45 imágenes\n",
      "  Clase 9 (Falta-de-magnesio): 52 imágenes\n",
      "  Clase 10 (Falta-de-manganeso): 57 imágenes\n",
      "  Clase 11 (Falta-de-potasio): 67 imágenes\n",
      "  Clase 12 (Falta-nitrogeno): 45 imágenes\n"
     ]
    }
   ],
   "source": [
    "# CONTAR IMÁGENES POR CLASE EN TRAIN (CONJUNTO COMBINADO)\n",
    "\n",
    "def count_images_per_class_combined(combined_path, combined_names):\n",
    "    counts = {i: 0 for i in range(len(combined_names))}\n",
    "    labels_dir = os.path.join(combined_path, \"train\", \"labels\")\n",
    "    for fname in os.listdir(labels_dir):\n",
    "        file_path = os.path.join(labels_dir, fname)\n",
    "        try:\n",
    "            with open(file_path, 'r') as f:\n",
    "                lines = f.readlines()\n",
    "            file_classes = set()\n",
    "            for line in lines:\n",
    "                parts = line.strip().split()\n",
    "                if parts:\n",
    "                    try:\n",
    "                        cls = int(parts[0])\n",
    "                        file_classes.add(cls)\n",
    "                    except:\n",
    "                        continue\n",
    "            for cls in file_classes:\n",
    "                if cls in counts:\n",
    "                    counts[cls] += 1\n",
    "        except Exception as e:\n",
    "            print(f\"Error leyendo {file_path}: {e}\")\n",
    "    return counts\n",
    "\n",
    "initial_counts = count_images_per_class_combined(combined_path, combined_names)\n",
    "print(\"Conteo inicial de imágenes por clase en TRAIN (combinado):\")\n",
    "for cls, count in initial_counts.items():\n",
    "    print(f\"  Clase {cls} ({combined_names[cls]}): {count} imágenes\")"
   ]
  },
  {
   "cell_type": "markdown",
   "metadata": {},
   "source": [
    "## Realizando el dataaumentation"
   ]
  },
  {
   "cell_type": "code",
   "execution_count": null,
   "metadata": {},
   "outputs": [
    {
     "name": "stdout",
     "output_type": "stream",
     "text": [
      "\n",
      "Objetivo de imágenes por clase (TRAIN): 347\n",
      "Ronda de augmentación 0: mínimo actual = 45\n",
      "Ronda de augmentación 1: mínimo actual = 90\n",
      "Ronda de augmentación 2: mínimo actual = 135\n",
      "Ronda de augmentación 3: mínimo actual = 180\n",
      "Ronda de augmentación 4: mínimo actual = 225\n",
      "Ronda de augmentación 5: mínimo actual = 270\n",
      "Ronda de augmentación 6: mínimo actual = 315\n",
      "Ronda de augmentación 7: mínimo actual = 347\n",
      "\n",
      "Conteo final de imágenes por clase en TRAIN (combinado):\n",
      "  Clase 0 (cerscospora): 448 imágenes\n",
      "  Clase 1 (healthy): 374 imágenes\n",
      "  Clase 2 (miner): 347 imágenes\n",
      "  Clase 3 (phoma): 507 imágenes\n",
      "  Clase 4 (rust): 684 imágenes\n",
      "  Clase 5 (Falta-de-boro): 408 imágenes\n",
      "  Clase 6 (Falta-de-calcio): 448 imágenes\n",
      "  Clase 7 (Falta-de-fosforo): 471 imágenes\n",
      "  Clase 8 (Falta-de-hierro): 360 imágenes\n",
      "  Clase 9 (Falta-de-magnesio): 364 imágenes\n",
      "  Clase 10 (Falta-de-manganeso): 399 imágenes\n",
      "  Clase 11 (Falta-de-potasio): 402 imágenes\n",
      "  Clase 12 (Falta-nitrogeno): 360 imágenes\n"
     ]
    }
   ],
   "source": [
    "# DATA AUGMENTATION PARA HOMOGENIZAR LAS CLASES EN TRAIN\n",
    "\n",
    "def find_image_file(image_dir, base_name):\n",
    "    \"\"\"\n",
    "    Busca el archivo de imagen en image_dir que coincida con base_name\n",
    "    comprobando las extensiones más comunes.\n",
    "    \"\"\"\n",
    "    for ext in ['.jpg', '.jpeg', '.png']:\n",
    "        candidate = os.path.join(image_dir, base_name + ext)\n",
    "        if os.path.exists(candidate):\n",
    "            return candidate\n",
    "    return None\n",
    "\n",
    "def imread_with_pil(path):\n",
    "    try:\n",
    "        with Image.open(path) as im:\n",
    "            return np.array(im.convert(\"RGB\"))\n",
    "    except Exception as e:\n",
    "        print(\"Error al leer con PIL:\", path, e)\n",
    "        return None\n",
    "\n",
    "def augment_image_label(image_path, label_path, out_image_path, out_label_path, angle, brightness_factor):\n",
    "    # Intentar leer con cv2\n",
    "    img = cv2.imread(image_path)\n",
    "    if img is None:\n",
    "        # Si falla, intentar con PIL\n",
    "        img = imread_with_pil(image_path)\n",
    "        if img is None:\n",
    "            print(\"Error al leer la imagen:\", image_path)\n",
    "            return\n",
    "    \n",
    "    h, w = img.shape[:2]\n",
    "    \n",
    "    # Aplicar rotación según el ángulo especificado\n",
    "    if angle != 0:\n",
    "        if angle == 90:\n",
    "            img_aug = cv2.rotate(img, cv2.ROTATE_90_CLOCKWISE)\n",
    "        elif angle == 180:\n",
    "            img_aug = cv2.rotate(img, cv2.ROTATE_180)\n",
    "        elif angle == 270:\n",
    "            img_aug = cv2.rotate(img, cv2.ROTATE_90_COUNTERCLOCKWISE)\n",
    "        else:\n",
    "            img_aug = img.copy()\n",
    "    else:\n",
    "        img_aug = img.copy()\n",
    "    \n",
    "    # Ajustar brillo\n",
    "    img_aug = np.clip(img_aug * brightness_factor, 0, 255).astype(np.uint8)\n",
    "    \n",
    "    # Guardar imagen aumentada\n",
    "    cv2.imwrite(out_image_path, img_aug)\n",
    "    \n",
    "    # Procesar etiqueta: ajustar las coordenadas según la rotación\n",
    "    new_lines = []\n",
    "    if os.path.exists(label_path):\n",
    "        with open(label_path, 'r') as f:\n",
    "            lines = f.readlines()\n",
    "        for line in lines:\n",
    "            parts = line.strip().split()\n",
    "            if parts and len(parts) == 5:\n",
    "                try:\n",
    "                    cls = parts[0]\n",
    "                    x = float(parts[1])\n",
    "                    y = float(parts[2])\n",
    "                    bw = float(parts[3])\n",
    "                    bh = float(parts[4])\n",
    "                    # Ajustar coordenadas para rotaciones en formato YOLO\n",
    "                    if angle == 90:\n",
    "                        new_x = y\n",
    "                        new_y = 1 - x\n",
    "                        new_bw = bh\n",
    "                        new_bh = bw\n",
    "                    elif angle == 180:\n",
    "                        new_x = 1 - x\n",
    "                        new_y = 1 - y\n",
    "                        new_bw = bw\n",
    "                        new_bh = bh\n",
    "                    elif angle == 270:\n",
    "                        new_x = 1 - y\n",
    "                        new_y = x\n",
    "                        new_bw = bh\n",
    "                        new_bh = bw\n",
    "                    else:\n",
    "                        new_x, new_y, new_bw, new_bh = x, y, bw, bh\n",
    "                    new_line = f\"{cls} {new_x:.6f} {new_y:.6f} {new_bw:.6f} {new_bh:.6f}\\n\"\n",
    "                    new_lines.append(new_line)\n",
    "                except Exception as e:\n",
    "                    new_lines.append(line)\n",
    "            else:\n",
    "                new_lines.append(line)\n",
    "        with open(out_label_path, 'w') as f:\n",
    "            f.writelines(new_lines)\n",
    "    else:\n",
    "        open(out_label_path, 'w').close()\n",
    "\n",
    "# Definir el objetivo: igualar al máximo número de imágenes por clase en TRAIN\n",
    "current_counts = count_images_per_class_combined(combined_path, combined_names)\n",
    "target_count = max(current_counts.values())\n",
    "print(f\"\\nObjetivo de imágenes por clase (TRAIN): {target_count}\")\n",
    "\n",
    "train_images_dir = os.path.join(combined_path, \"train\", \"images\")\n",
    "train_labels_dir = os.path.join(combined_path, \"train\", \"labels\")\n",
    "label_files = os.listdir(train_labels_dir)\n",
    "\n",
    "augmented_counter = 0\n",
    "augmentation_round = 0\n",
    "max_rounds = 8  # para evitar ciclos infinitos\n",
    "\n",
    "while True:\n",
    "    current_counts = count_images_per_class_combined(combined_path, combined_names)\n",
    "    min_count = min(current_counts.values())\n",
    "    print(f\"Ronda de augmentación {augmentation_round}: mínimo actual = {min_count}\")\n",
    "    if min_count >= target_count or augmentation_round >= max_rounds:\n",
    "        break\n",
    "    # Recorre cada archivo de etiqueta en TRAIN\n",
    "    for fname in label_files:\n",
    "        label_path = os.path.join(train_labels_dir, fname)\n",
    "        # Leer clases presentes en la imagen\n",
    "        with open(label_path, 'r') as f:\n",
    "            lines = f.readlines()\n",
    "        if not lines:\n",
    "            continue\n",
    "        image_classes = set()\n",
    "        for line in lines:\n",
    "            parts = line.strip().split()\n",
    "            if parts:\n",
    "                try:\n",
    "                    cls = int(parts[0])\n",
    "                    image_classes.add(cls)\n",
    "                except:\n",
    "                    continue\n",
    "        # Aquí se modifica la condición:\n",
    "        # Solo se aumenta si PARA TODAS las clases de la imagen el conteo actual es menor que target_count.\n",
    "        underrepresented = all(current_counts[cls] < target_count for cls in image_classes)\n",
    "        if underrepresented:\n",
    "            # Se supone que el nombre de la etiqueta y de la imagen son iguales (sin la extensión)\n",
    "            base_name = os.path.splitext(fname)[0]\n",
    "            # Buscar la imagen con extensión correcta\n",
    "            image_path = find_image_file(train_images_dir, base_name)\n",
    "            if image_path is None:\n",
    "                print(\"No se encontró la imagen para:\", base_name)\n",
    "                continue\n",
    "            # Nombres para los archivos aumentados\n",
    "            aug_image_name = base_name + f\"_aug{augmented_counter}\"\n",
    "            aug_label_name = base_name + f\"_aug{augmented_counter}.txt\"\n",
    "            # Mantener la misma extensión que la imagen encontrada\n",
    "            _, ext = os.path.splitext(image_path)\n",
    "            out_image_path = os.path.join(train_images_dir, aug_image_name + ext)\n",
    "            out_label_path = os.path.join(train_labels_dir, aug_label_name)\n",
    "            # Parámetros aleatorios de augmentación\n",
    "            angle = random.choice([0, 90, 180, 270])\n",
    "            brightness_factor = random.uniform(0.7, 1.3)\n",
    "            augment_image_label(image_path, label_path, out_image_path, out_label_path, angle, brightness_factor)\n",
    "            augmented_counter += 1\n",
    "    augmentation_round += 1\n",
    "\n",
    "final_counts = count_images_per_class_combined(combined_path, combined_names)\n",
    "print(\"\\nConteo final de imágenes por clase en TRAIN (combinado):\")\n",
    "for cls, count in final_counts.items():\n",
    "    print(f\"  Clase {cls} ({combined_names[cls]}): {count} imágenes\")"
   ]
  },
  {
   "cell_type": "code",
   "execution_count": null,
   "metadata": {},
   "outputs": [
    {
     "name": "stdout",
     "output_type": "stream",
     "text": [
      "Conteo final de imágenes por clase en TRAIN (combinado):\n",
      "  Clase 0 (cerscospora): 448 imágenes\n",
      "  Clase 1 (healthy): 374 imágenes\n",
      "  Clase 2 (miner): 347 imágenes\n",
      "  Clase 3 (phoma): 507 imágenes\n",
      "  Clase 4 (rust): 684 imágenes\n",
      "  Clase 5 (Falta-de-boro): 408 imágenes\n",
      "  Clase 6 (Falta-de-calcio): 448 imágenes\n",
      "  Clase 7 (Falta-de-fosforo): 471 imágenes\n",
      "  Clase 8 (Falta-de-hierro): 360 imágenes\n",
      "  Clase 9 (Falta-de-magnesio): 364 imágenes\n",
      "  Clase 10 (Falta-de-manganeso): 399 imágenes\n",
      "  Clase 11 (Falta-de-potasio): 402 imágenes\n",
      "  Clase 12 (Falta-nitrogeno): 360 imágenes\n"
     ]
    }
   ],
   "source": [
    "initial_counts = count_images_per_class_combined(combined_path, combined_names)\n",
    "print(\"Conteo final de imágenes por clase en TRAIN (combinado):\")\n",
    "for cls, count in initial_counts.items():\n",
    "    print(f\"  Clase {cls} ({combined_names[cls]}): {count} imágenes\")"
   ]
  },
  {
   "cell_type": "code",
   "execution_count": null,
   "metadata": {},
   "outputs": [
    {
     "name": "stdout",
     "output_type": "stream",
     "text": [
      "\n",
      "data.yaml combinado generado en: C:\\Users\\ALEX\\OneDrive\\Cursos\\Maestría en Big Data y Data Science\\Cursos-VIU\\Oblgatorios\\TFM\\Datasets\\combinado\\data.yaml\n"
     ]
    }
   ],
   "source": [
    "# GENERAR data.yaml COMBINADO\n",
    "\n",
    "data_yaml = {\n",
    "    \"train\": os.path.join(combined_path, \"train\", \"images\").replace(\"\\\\\", \"/\"),\n",
    "    \"val\": os.path.join(combined_path, \"valid\", \"images\").replace(\"\\\\\", \"/\"),\n",
    "    \"test\": os.path.join(combined_path, \"test\", \"images\").replace(\"\\\\\", \"/\"),\n",
    "    \"nc\": len(combined_names),\n",
    "    \"names\": combined_names\n",
    "}\n",
    "yaml_path = DATA_DIR / 'processed' / 'combinado' / 'data.yaml'\n",
    "with open(yaml_path, 'w') as f:\n",
    "    yaml.dump(data_yaml, f, sort_keys=False)\n",
    "print(\"\\ndata.yaml combinado generado en:\", yaml_path)"
   ]
  },
  {
   "cell_type": "markdown",
   "metadata": {},
   "source": [
    "## Realizar entrenamiento"
   ]
  },
  {
   "cell_type": "code",
   "execution_count": null,
   "metadata": {},
   "outputs": [],
   "source": [
    "import os\n",
    "import time\n",
    "import random\n",
    "import numpy as np\n",
    "import pandas as pd\n",
    "import yaml\n",
    "from ultralytics import YOLO\n",
    "import onnxruntime as ort\n",
    "import shutil\n",
    "import subprocess\n",
    "from ptflops import get_model_complexity_info"
   ]
  },
  {
   "cell_type": "markdown",
   "metadata": {},
   "source": [
    "### Funciones a utilizar"
   ]
  },
  {
   "cell_type": "code",
   "execution_count": null,
   "metadata": {},
   "outputs": [],
   "source": [
    "# Evaluación y extracción de métricas\n",
    "def extract_metrics(model):\n",
    "    \"\"\"\n",
    "    Evalúa el modelo usando model.val() y extrae las métricas de validación.\n",
    "    \n",
    "    Si el objeto retornado no es un diccionario, se intenta extraer atributos públicos.\n",
    "    Si no se obtiene una métrica clave (por ejemplo, \"metrics/precision(B)\"), se intenta leer\n",
    "    la última fila del CSV de resultados ubicado en 'runs/detect/train/results.csv'.\n",
    "    \n",
    "    Retorna:\n",
    "      - metrics_dict (dict): Diccionario con las métricas.\n",
    "    \"\"\"\n",
    "    metrics_obj = model.val()\n",
    "    if isinstance(metrics_obj, dict):\n",
    "        metrics_dict = metrics_obj\n",
    "    else:\n",
    "        try:\n",
    "            metrics_dict = metrics_obj.results_dict()\n",
    "        except Exception as e:\n",
    "            print(\"No se pudo usar results_dict(), se intentará extrayendo atributos.\", e)\n",
    "            try:\n",
    "                metrics_dict = {attr: getattr(metrics_obj, attr) \n",
    "                                for attr in dir(metrics_obj)\n",
    "                                if not attr.startswith('_') and not callable(getattr(metrics_obj, attr))}\n",
    "            except Exception as e:\n",
    "                print(\"Error extrayendo atributos del objeto de validación:\", e)\n",
    "                metrics_dict = {}\n",
    "    \n",
    "    # Verificar si se obtuvo la métrica clave; de lo contrario, leer el CSV\n",
    "    if not metrics_dict or \"metrics/precision(B)\" not in metrics_dict:\n",
    "        try:\n",
    "            csv_path = r\"runs\\detect\\train\\results.csv\"\n",
    "            if os.path.exists(csv_path):\n",
    "                results_df = pd.read_csv(csv_path)\n",
    "                # Se toma la última fila, que corresponde a las métricas finales\n",
    "                final_metrics = results_df.iloc[-1].to_dict()\n",
    "                metrics_dict = final_metrics\n",
    "        except Exception as e:\n",
    "            print(\"Error leyendo el CSV de resultados:\", e)\n",
    "    return metrics_dict"
   ]
  },
  {
   "cell_type": "code",
   "execution_count": null,
   "metadata": {},
   "outputs": [],
   "source": [
    "# Exportar el modelo a ONNX y copiarlo con el nombre deseado\n",
    "def export_and_copy_onnx(model, model_name, imgsz, opset=12):\n",
    "    \"\"\"\n",
    "    Exporta el modelo a ONNX usando model.export(). Por defecto, Ultralytics guarda el ONNX\n",
    "    como 'best.onnx' en 'runs/detect/train/weights'. Esta función espera a que dicho archivo exista,\n",
    "    lo copia a la carpeta 'exports' con el nombre f\"{model_name}.onnx\" y retorna la ruta de destino.\n",
    "    \n",
    "    Se fuerza el parámetro opset para evitar problemas de compatibilidad (por ejemplo, Constant version 19).\n",
    "    \n",
    "    Parámetros:\n",
    "        - model: Instancia del modelo YOLO.\n",
    "        - model_name (str): Nombre identificativo del modelo.\n",
    "        - imgsz (int): Tamaño de la imagen.\n",
    "        - opset (int): Versión del opset para exportar (por ejemplo, 12).\n",
    "    \n",
    "    Retorna:\n",
    "        - onnx_dest_path (str): Ruta al archivo ONNX copiado en la carpeta 'exports'.\n",
    "    \"\"\"\n",
    "    onnx_dest_path = os.path.join(\"exports\", f\"{model_name}.onnx\")\n",
    "    os.makedirs(\"exports\", exist_ok=True)\n",
    "    \n",
    "    # Exporta el modelo con el opset especificado\n",
    "    model.export(format=\"onnx\", imgsz=imgsz, exist_ok=True, opset=opset)\n",
    "    \n",
    "    default_onnx_path = MODEL_DIR / 'fine_tuned' / 'YOLO11n.onnx'\n",
    "    timeout = 60\n",
    "    start_time = time.time()\n",
    "    # Esperar a que default_onnx_path se cree\n",
    "    while not os.path.exists(default_onnx_path) and (time.time() - start_time) < timeout:\n",
    "        time.sleep(1)\n",
    "    if os.path.exists(default_onnx_path):\n",
    "        shutil.copy2(default_onnx_path, onnx_dest_path)\n",
    "    else:\n",
    "        print(f\"Error: No se encontró el archivo ONNX por defecto en {default_onnx_path}\")\n",
    "    \n",
    "    # Esperar a que el archivo copiado exista en exports\n",
    "    start_time = time.time()\n",
    "    while not os.path.exists(onnx_dest_path) and (time.time() - start_time) < timeout:\n",
    "        time.sleep(1)\n",
    "    if not os.path.exists(onnx_dest_path):\n",
    "        print(f\"Error: No se encontró el archivo ONNX en {onnx_dest_path}\")\n",
    "    \n",
    "    return onnx_dest_path"
   ]
  },
  {
   "cell_type": "code",
   "execution_count": null,
   "metadata": {},
   "outputs": [],
   "source": [
    "# Exportar el modelo a TensorRT y copiarlo con el nombre deseado\n",
    "def export_and_copy_trt(model, model_name, imgsz, opset=12):\n",
    "    \"\"\"\n",
    "    Exporta el modelo a TensorRT usando model.export(format=\"trt\"). Por defecto, \n",
    "    Ultralytics guarda el engine en 'runs/detect/train/weights' como 'best.trt'. \n",
    "    Esta función espera a que dicho archivo exista, lo copia a la carpeta 'exports' con el nombre\n",
    "    f\"{model_name}.trt\" y retorna la ruta de destino.\n",
    "    \n",
    "    Se fuerza el parámetro opset para la conversión. Si tensorrt no está instalado, se captura la excepción.\n",
    "    \n",
    "    Parámetros:\n",
    "        - model: Instancia del modelo YOLO.\n",
    "        - model_name (str): Nombre identificativo del modelo.\n",
    "        - imgsz (int): Tamaño de la imagen.\n",
    "        - opset (int): Versión del opset para exportar.\n",
    "    \n",
    "    Retorna:\n",
    "        - trt_dest_path (str) o None.\n",
    "    \"\"\"\n",
    "    try:\n",
    "        model.export(format=\"trt\", imgsz=imgsz, exist_ok=True, opset=opset)\n",
    "    except ModuleNotFoundError as e:\n",
    "        print(\"TensorRT no está instalado. Se retornará None para la velocidad TRT.\")\n",
    "        return None\n",
    "    except Exception as e:\n",
    "        print(\"Error exportando a TensorRT:\", e)\n",
    "        return None\n",
    "\n",
    "    trt_dest_path = os.path.join(\"exports\", f\"{model_name}.trt\")\n",
    "    os.makedirs(\"exports\", exist_ok=True)\n",
    "    \n",
    "    default_trt_path = os.path.join(\"runs\", \"detect\", \"train\", \"weights\", \"best.trt\")\n",
    "    timeout = 60\n",
    "    start_time = time.time()\n",
    "    while not os.path.exists(default_trt_path) and (time.time() - start_time) < timeout:\n",
    "        time.sleep(1)\n",
    "    if os.path.exists(default_trt_path):\n",
    "        shutil.copy2(default_trt_path, trt_dest_path)\n",
    "    else:\n",
    "        print(f\"Error: No se encontró el archivo TRT por defecto en {default_trt_path}\")\n",
    "    \n",
    "    start_time = time.time()\n",
    "    while not os.path.exists(trt_dest_path) and (time.time() - start_time) < timeout:\n",
    "        time.sleep(1)\n",
    "    if not os.path.exists(trt_dest_path):\n",
    "        print(f\"Error: No se encontró el archivo TRT en {trt_dest_path}\")\n",
    "        return None\n",
    "    return trt_dest_path"
   ]
  },
  {
   "cell_type": "code",
   "execution_count": null,
   "metadata": {},
   "outputs": [],
   "source": [
    "# Función para exportar y copiar el checkpoint en formato PT\n",
    "def export_and_copy_pt(model, model_name):\n",
    "    \"\"\"\n",
    "    Copia el checkpoint del modelo en formato .pt. Por defecto, Ultralytics guarda el checkpoint\n",
    "    como 'best.pt' en 'runs/detect/train/weights'. Esta función espera a que dicho archivo exista,\n",
    "    lo copia a la carpeta 'exports' con el nombre f\"{model_name}.pt\" y retorna la ruta de destino.\n",
    "    \n",
    "    Retorna:\n",
    "      - pt_dest_path (str): Ruta al archivo .pt copiado en la carpeta 'exports'.\n",
    "    \"\"\"\n",
    "    pt_dest_path = os.path.join(\"exports\", f\"{model_name}.pt\")\n",
    "    os.makedirs(\"exports\", exist_ok=True)\n",
    "    \n",
    "    default_pt_path = os.path.join(\"runs\", \"detect\", \"train\", \"weights\", \"best.pt\")\n",
    "    timeout = 60\n",
    "    start_time = time.time()\n",
    "    # Esperar a que se cree el checkpoint por defecto\n",
    "    while not os.path.exists(default_pt_path) and (time.time() - start_time) < timeout:\n",
    "        time.sleep(1)\n",
    "    if os.path.exists(default_pt_path):\n",
    "        shutil.copy2(default_pt_path, pt_dest_path)\n",
    "    else:\n",
    "        print(f\"Error: No se encontró el archivo PT por defecto en {default_pt_path}\")\n",
    "    \n",
    "    # Esperar a que el archivo copiado exista en exports\n",
    "    start_time = time.time()\n",
    "    while not os.path.exists(pt_dest_path) and (time.time() - start_time) < timeout:\n",
    "        time.sleep(1)\n",
    "    if not os.path.exists(pt_dest_path):\n",
    "        print(f\"Error: No se encontró el archivo PT en {pt_dest_path}\")\n",
    "    \n",
    "    return pt_dest_path"
   ]
  },
  {
   "cell_type": "code",
   "execution_count": null,
   "metadata": {},
   "outputs": [],
   "source": [
    "# Función para medir la velocidad de inferencia en CPU usando ONNX\n",
    "def measure_onnx_inference_speed(onnx_path, imgsz, n_iter=20):\n",
    "    \"\"\"\n",
    "    Mide la velocidad de inferencia en CPU usando onnxruntime.\n",
    "    \n",
    "    Parámetros:\n",
    "      - onnx_path (str): Ruta al archivo ONNX.\n",
    "      - imgsz (int): Tamaño de la imagen (ancho y alto).\n",
    "      - n_iter (int): Número de iteraciones para promediar.\n",
    "    \n",
    "    Retorna:\n",
    "      - Tiempo promedio en milisegundos.\n",
    "    \"\"\"\n",
    "    try:\n",
    "        ort_session = ort.InferenceSession(onnx_path)\n",
    "        dummy_input = np.random.rand(1, 3, imgsz, imgsz).astype(np.float32)\n",
    "        # Warm-up\n",
    "        for _ in range(5):\n",
    "            _ = ort_session.run(None, {\"images\": dummy_input})\n",
    "        start = time.time()\n",
    "        for _ in range(n_iter):\n",
    "            _ = ort_session.run(None, {\"images\": dummy_input})\n",
    "        end = time.time()\n",
    "        avg_time = (end - start) / n_iter * 1000  # ms\n",
    "        return avg_time\n",
    "    except Exception as e:\n",
    "        print(f\"Error midiendo ONNX runtime: {e}\")\n",
    "        return None"
   ]
  },
  {
   "cell_type": "code",
   "execution_count": null,
   "metadata": {},
   "outputs": [],
   "source": [
    "# Medir la velocidad de inferencia en T4 TensorRT usando trtexec\n",
    "def measure_trt_inference_speed(trt_engine_path, n_iter=20):\n",
    "    \"\"\"\n",
    "    Mide la velocidad de inferencia en una GPU T4 utilizando la herramienta 'trtexec'.\n",
    "    Se asume que 'trtexec' está instalado y en el PATH.\n",
    "    \n",
    "    Parámetros:\n",
    "      - trt_engine_path (str): Ruta al engine de TensorRT (archivo .trt).\n",
    "      - n_iter (int): Número de iteraciones para promediar.\n",
    "    \n",
    "    Retorna:\n",
    "      - Tiempo promedio en milisegundos (float) o None en caso de error.\n",
    "    \"\"\"\n",
    "    if trt_engine_path is None:\n",
    "        return None\n",
    "    try:\n",
    "        cmd = [\"trtexec\", f\"--loadEngine={trt_engine_path}\", f\"--iterations={n_iter}\"]\n",
    "        proc = subprocess.Popen(cmd, stdout=subprocess.PIPE, stderr=subprocess.PIPE, universal_newlines=True)\n",
    "        stdout, stderr = proc.communicate(timeout=120)\n",
    "        avg_time = None\n",
    "        for line in stdout.splitlines():\n",
    "            if \"Average latency\" in line:\n",
    "                parts = line.split(\":\")\n",
    "                if len(parts) > 1:\n",
    "                    avg_time = float(parts[1].strip().split()[0])\n",
    "                    break\n",
    "        if avg_time is None:\n",
    "            print(\"No se pudo extraer el tiempo promedio de la salida de trtexec.\")\n",
    "        return avg_time\n",
    "    except Exception as e:\n",
    "        print(f\"Error midiendo TensorRT runtime: {e}\")\n",
    "        return None"
   ]
  },
  {
   "cell_type": "code",
   "execution_count": null,
   "metadata": {},
   "outputs": [],
   "source": [
    "# Calular los flops\n",
    "def compute_flops(model, imgsz):\n",
    "    # get_model_complexity_info devuelve un string y el número total de FLOPs\n",
    "    # Asegúrate de que model.model es el objeto PyTorch con el que se pueda contar FLOPs.\n",
    "    macs, params = get_model_complexity_info(model.model, (3, imgsz, imgsz), as_strings=False, print_per_layer_stat=False)\n",
    "    flops = 2 * macs  # MACs a FLOPs (multiplicamos por 2)\n",
    "    return flops"
   ]
  },
  {
   "cell_type": "code",
   "execution_count": null,
   "metadata": {},
   "outputs": [],
   "source": [
    "# Calcular parámetros y combinar todos los resultados\n",
    "def compute_model_params(model):\n",
    "    \"\"\"\n",
    "    Calcula la cantidad de parámetros del modelo en millones.\n",
    "    \n",
    "    Retorna:\n",
    "      - params (float): Número de parámetros en millones.\n",
    "    \"\"\"\n",
    "    return sum(p.numel() for p in model.model.parameters()) / 1e6\n",
    "\n",
    "def combine_results(model_name, imgsz, metrics_dict, avg_time_cpu, avg_time_trt, params, flops):\n",
    "    \"\"\"\n",
    "    Combina el nombre del modelo, el tamaño de la imagen, las métricas, la velocidad de inferencia,\n",
    "    la cantidad de parámetros y los FLOPs en un único diccionario.\n",
    "    \n",
    "    Retorna:\n",
    "      - results (dict): Diccionario con toda la información.\n",
    "    \"\"\"\n",
    "    results = {\n",
    "        \"Modelo\": model_name,\n",
    "        \"Tamaño (píxeles)\": imgsz,\n",
    "    }\n",
    "    results.update(metrics_dict)\n",
    "    results.update({\n",
    "        \"Velocidad CPU ONNX (ms)\": avg_time_cpu,\n",
    "        \"Velocidad T4 TensorRT (ms)\": avg_time_trt,\n",
    "        \"Parámetros (M)\": params,\n",
    "        \"FLOPs (B)\": flops\n",
    "    })\n",
    "    return results"
   ]
  },
  {
   "cell_type": "markdown",
   "metadata": {},
   "source": [
    "### Configuraciones iniciales"
   ]
  },
  {
   "cell_type": "code",
   "execution_count": null,
   "metadata": {},
   "outputs": [],
   "source": [
    "# Configuración de Fine Tuning y evaluación de modelos\n",
    "\n",
    "# Lista de modelos a fine-tunear. Debes tener disponibles los pesos preentrenados.\n",
    "models_info = [\n",
    "    {\"name\": \"YOLO11n\", \"weights\": MODEL_DIR / \"base\" / \"yolo11n.pt\"},\n",
    "    {\"name\": \"YOLO12n\", \"weights\": MODEL_DIR / \"base\" / \"yolo12n.pt\"},\n",
    "    {\"name\": \"YOLO11s\", \"weights\": MODEL_DIR / \"base\" / \"yolo11s.pt\"},\n",
    "    {\"name\": \"YOLO12s\", \"weights\": MODEL_DIR / \"base\" / \"yolo12s.pt\"}\n",
    "]\n",
    "\n",
    "# Parámetros de entrenamiento\n",
    "epochs = 50\n",
    "imgsz = 640\n",
    "batch = 16\n",
    "patience = 5\n",
    "device = 'cuda:0'\n",
    "\n",
    "# Ruta al archivo data.yaml del dataset combinado\n",
    "yaml_path = DATA_DIR / 'processed' / 'combinado' / 'data.yaml'\n",
    "\n",
    "results_list = []"
   ]
  },
  {
   "cell_type": "markdown",
   "metadata": {},
   "source": [
    "### Entrenamiento de YOLO11n"
   ]
  },
  {
   "cell_type": "code",
   "execution_count": null,
   "metadata": {},
   "outputs": [
    {
     "name": "stdout",
     "output_type": "stream",
     "text": [
      "New https://pypi.org/project/ultralytics/8.3.84 available  Update with 'pip install -U ultralytics'\n",
      "Ultralytics 8.3.82  Python-3.10.16 torch-2.5.1 CUDA:0 (NVIDIA GeForce RTX 4070 Ti SUPER, 16376MiB)\n",
      "\u001b[34m\u001b[1mengine\\trainer: \u001b[0mtask=detect, mode=train, model=yolo11n.pt, data=C:/Users/ALEX/OneDrive/Cursos/Maestra en Big Data y Data Science/Cursos-VIU/Oblgatorios/TFM/detection-diseases-coffee/combinado/data.yaml, epochs=50, time=None, patience=5, batch=16, imgsz=640, save=True, save_period=-1, cache=False, device=cuda:0, workers=8, project=None, name=train, exist_ok=True, pretrained=True, optimizer=auto, verbose=True, seed=0, deterministic=True, single_cls=False, rect=False, cos_lr=False, close_mosaic=10, resume=False, amp=True, fraction=1.0, profile=False, freeze=None, multi_scale=False, overlap_mask=True, mask_ratio=4, dropout=0.0, val=True, split=val, save_json=False, save_hybrid=False, conf=None, iou=0.7, max_det=300, half=False, dnn=False, plots=True, source=None, vid_stride=1, stream_buffer=False, visualize=False, augment=False, agnostic_nms=False, classes=None, retina_masks=False, embed=None, show=False, save_frames=False, save_txt=False, save_conf=False, save_crop=False, show_labels=True, show_conf=True, show_boxes=True, line_width=None, format=torchscript, keras=False, optimize=False, int8=False, dynamic=False, simplify=True, opset=None, workspace=None, nms=False, lr0=0.01, lrf=0.01, momentum=0.937, weight_decay=0.0005, warmup_epochs=3.0, warmup_momentum=0.8, warmup_bias_lr=0.1, box=7.5, cls=0.5, dfl=1.5, pose=12.0, kobj=1.0, nbs=64, hsv_h=0.015, hsv_s=0.7, hsv_v=0.4, degrees=0.0, translate=0.1, scale=0.5, shear=0.0, perspective=0.0, flipud=0.0, fliplr=0.5, bgr=0.0, mosaic=1.0, mixup=0.0, copy_paste=0.0, copy_paste_mode=flip, auto_augment=randaugment, erasing=0.4, crop_fraction=1.0, cfg=None, tracker=botsort.yaml, save_dir=runs\\detect\\train\n",
      "Overriding model.yaml nc=80 with nc=13\n",
      "\n",
      "                   from  n    params  module                                       arguments                     \n",
      "  0                  -1  1       464  ultralytics.nn.modules.conv.Conv             [3, 16, 3, 2]                 \n",
      "  1                  -1  1      4672  ultralytics.nn.modules.conv.Conv             [16, 32, 3, 2]                \n",
      "  2                  -1  1      6640  ultralytics.nn.modules.block.C3k2            [32, 64, 1, False, 0.25]      \n",
      "  3                  -1  1     36992  ultralytics.nn.modules.conv.Conv             [64, 64, 3, 2]                \n",
      "  4                  -1  1     26080  ultralytics.nn.modules.block.C3k2            [64, 128, 1, False, 0.25]     \n",
      "  5                  -1  1    147712  ultralytics.nn.modules.conv.Conv             [128, 128, 3, 2]              \n",
      "  6                  -1  1     87040  ultralytics.nn.modules.block.C3k2            [128, 128, 1, True]           \n",
      "  7                  -1  1    295424  ultralytics.nn.modules.conv.Conv             [128, 256, 3, 2]              \n",
      "  8                  -1  1    346112  ultralytics.nn.modules.block.C3k2            [256, 256, 1, True]           \n",
      "  9                  -1  1    164608  ultralytics.nn.modules.block.SPPF            [256, 256, 5]                 \n",
      " 10                  -1  1    249728  ultralytics.nn.modules.block.C2PSA           [256, 256, 1]                 \n",
      " 11                  -1  1         0  torch.nn.modules.upsampling.Upsample         [None, 2, 'nearest']          \n",
      " 12             [-1, 6]  1         0  ultralytics.nn.modules.conv.Concat           [1]                           \n",
      " 13                  -1  1    111296  ultralytics.nn.modules.block.C3k2            [384, 128, 1, False]          \n",
      " 14                  -1  1         0  torch.nn.modules.upsampling.Upsample         [None, 2, 'nearest']          \n",
      " 15             [-1, 4]  1         0  ultralytics.nn.modules.conv.Concat           [1]                           \n",
      " 16                  -1  1     32096  ultralytics.nn.modules.block.C3k2            [256, 64, 1, False]           \n",
      " 17                  -1  1     36992  ultralytics.nn.modules.conv.Conv             [64, 64, 3, 2]                \n",
      " 18            [-1, 13]  1         0  ultralytics.nn.modules.conv.Concat           [1]                           \n",
      " 19                  -1  1     86720  ultralytics.nn.modules.block.C3k2            [192, 128, 1, False]          \n",
      " 20                  -1  1    147712  ultralytics.nn.modules.conv.Conv             [128, 128, 3, 2]              \n",
      " 21            [-1, 10]  1         0  ultralytics.nn.modules.conv.Concat           [1]                           \n",
      " 22                  -1  1    378880  ultralytics.nn.modules.block.C3k2            [384, 256, 1, True]           \n",
      " 23        [16, 19, 22]  1    433207  ultralytics.nn.modules.head.Detect           [13, [64, 128, 256]]          \n",
      "YOLO11n summary: 181 layers, 2,592,375 parameters, 2,592,359 gradients, 6.5 GFLOPs\n",
      "\n",
      "Transferred 448/499 items from pretrained weights\n",
      "Freezing layer 'model.23.dfl.conv.weight'\n",
      "\u001b[34m\u001b[1mAMP: \u001b[0mrunning Automatic Mixed Precision (AMP) checks...\n",
      "\u001b[34m\u001b[1mAMP: \u001b[0mchecks passed \n"
     ]
    },
    {
     "name": "stderr",
     "output_type": "stream",
     "text": [
      "\u001b[34m\u001b[1mtrain: \u001b[0mScanning C:\\Users\\ALEX\\OneDrive\\Cursos\\Maestría en Big Data y Data Science\\Cursos-VIU\\Oblgatorios\\TFM\\detection-diseases-coffee\\combinado\\train\\labels.cache... 1876 images, 4 backgrounds, 0 corrupt: 100%|██████████| 1876/1876 [00:00<?, ?it/s]"
     ]
    },
    {
     "name": "stdout",
     "output_type": "stream",
     "text": [
      "\u001b[34m\u001b[1mtrain: \u001b[0mWARNING  C:\\Users\\ALEX\\OneDrive\\Cursos\\Maestra en Big Data y Data Science\\Cursos-VIU\\Oblgatorios\\TFM\\detection-diseases-coffee\\combinado\\train\\images\\D2_Fe-21-_jpg.rf.edc47339d1daf7530340e96080dc2f82.jpg: 1 duplicate labels removed\n",
      "WARNING  Box and segment counts should be equal, but got len(segments) = 603, len(boxes) = 2472. To resolve this only boxes will be used and all segments will be removed. To avoid this please supply either a detect or segment dataset, not a detect-segment mixed dataset.\n"
     ]
    },
    {
     "name": "stderr",
     "output_type": "stream",
     "text": [
      "\n",
      "\u001b[34m\u001b[1mval: \u001b[0mScanning C:\\Users\\ALEX\\OneDrive\\Cursos\\Maestría en Big Data y Data Science\\Cursos-VIU\\Oblgatorios\\TFM\\detection-diseases-coffee\\combinado\\train\\labels.cache... 1876 images, 4 backgrounds, 0 corrupt: 100%|██████████| 1876/1876 [00:00<?, ?it/s]"
     ]
    },
    {
     "name": "stdout",
     "output_type": "stream",
     "text": [
      "\u001b[34m\u001b[1mtrain: \u001b[0mWARNING  C:\\Users\\ALEX\\OneDrive\\Cursos\\Maestra en Big Data y Data Science\\Cursos-VIU\\Oblgatorios\\TFM\\detection-diseases-coffee\\combinado\\train\\images\\D2_Fe-21-_jpg.rf.edc47339d1daf7530340e96080dc2f82.jpg: 1 duplicate labels removed\n",
      "WARNING  Box and segment counts should be equal, but got len(segments) = 603, len(boxes) = 2472. To resolve this only boxes will be used and all segments will be removed. To avoid this please supply either a detect or segment dataset, not a detect-segment mixed dataset.\n"
     ]
    },
    {
     "name": "stderr",
     "output_type": "stream",
     "text": [
      "\n"
     ]
    },
    {
     "name": "stdout",
     "output_type": "stream",
     "text": [
      "Plotting labels to runs\\detect\\train\\labels.jpg... \n",
      "\u001b[34m\u001b[1moptimizer:\u001b[0m 'optimizer=auto' found, ignoring 'lr0=0.01' and 'momentum=0.937' and determining best 'optimizer', 'lr0' and 'momentum' automatically... \n",
      "\u001b[34m\u001b[1moptimizer:\u001b[0m AdamW(lr=0.000588, momentum=0.9) with parameter groups 81 weight(decay=0.0), 88 weight(decay=0.0005), 87 bias(decay=0.0)\n",
      "Image sizes 640 train, 640 val\n",
      "Using 8 dataloader workers\n",
      "Logging results to \u001b[1mruns\\detect\\train\u001b[0m\n",
      "Starting training for 50 epochs...\n",
      "\n",
      "      Epoch    GPU_mem   box_loss   cls_loss   dfl_loss  Instances       Size\n"
     ]
    },
    {
     "name": "stderr",
     "output_type": "stream",
     "text": [
      "       1/50      2.32G     0.8398      3.475      1.371         13        640: 100%|██████████| 118/118 [00:12<00:00,  9.59it/s]\n",
      "                 Class     Images  Instances      Box(P          R      mAP50  mAP50-95): 100%|██████████| 59/59 [00:06<00:00,  8.64it/s]\n"
     ]
    },
    {
     "name": "stdout",
     "output_type": "stream",
     "text": [
      "                   all       1876       2472      0.246      0.589      0.279      0.227\n",
      "\n",
      "      Epoch    GPU_mem   box_loss   cls_loss   dfl_loss  Instances       Size\n"
     ]
    },
    {
     "name": "stderr",
     "output_type": "stream",
     "text": [
      "       2/50      2.38G     0.8346      2.189      1.347         11        640: 100%|██████████| 118/118 [00:10<00:00, 10.95it/s]\n",
      "                 Class     Images  Instances      Box(P          R      mAP50  mAP50-95): 100%|██████████| 59/59 [00:06<00:00,  9.27it/s]\n"
     ]
    },
    {
     "name": "stdout",
     "output_type": "stream",
     "text": [
      "                   all       1876       2472      0.417      0.606      0.512      0.384\n",
      "\n",
      "      Epoch    GPU_mem   box_loss   cls_loss   dfl_loss  Instances       Size\n"
     ]
    },
    {
     "name": "stderr",
     "output_type": "stream",
     "text": [
      "       3/50       2.4G     0.8006      1.823      1.309         15        640: 100%|██████████| 118/118 [00:10<00:00, 11.55it/s]\n",
      "                 Class     Images  Instances      Box(P          R      mAP50  mAP50-95): 100%|██████████| 59/59 [00:06<00:00,  9.47it/s]\n"
     ]
    },
    {
     "name": "stdout",
     "output_type": "stream",
     "text": [
      "                   all       1876       2472       0.42      0.655      0.526      0.399\n",
      "\n",
      "      Epoch    GPU_mem   box_loss   cls_loss   dfl_loss  Instances       Size\n"
     ]
    },
    {
     "name": "stderr",
     "output_type": "stream",
     "text": [
      "       4/50      2.38G     0.7638      1.627      1.273         10        640: 100%|██████████| 118/118 [00:10<00:00, 11.71it/s]\n",
      "                 Class     Images  Instances      Box(P          R      mAP50  mAP50-95): 100%|██████████| 59/59 [00:06<00:00,  9.29it/s]\n"
     ]
    },
    {
     "name": "stdout",
     "output_type": "stream",
     "text": [
      "                   all       1876       2472      0.503      0.644      0.603      0.507\n",
      "\n",
      "      Epoch    GPU_mem   box_loss   cls_loss   dfl_loss  Instances       Size\n"
     ]
    },
    {
     "name": "stderr",
     "output_type": "stream",
     "text": [
      "       5/50      2.38G     0.7609      1.498      1.271         10        640: 100%|██████████| 118/118 [00:10<00:00, 11.66it/s]\n",
      "                 Class     Images  Instances      Box(P          R      mAP50  mAP50-95): 100%|██████████| 59/59 [00:06<00:00,  9.43it/s]\n"
     ]
    },
    {
     "name": "stdout",
     "output_type": "stream",
     "text": [
      "                   all       1876       2472      0.514      0.743      0.652      0.438\n",
      "\n",
      "      Epoch    GPU_mem   box_loss   cls_loss   dfl_loss  Instances       Size\n"
     ]
    },
    {
     "name": "stderr",
     "output_type": "stream",
     "text": [
      "       6/50      2.37G     0.7229      1.404      1.256         17        640: 100%|██████████| 118/118 [00:10<00:00, 11.69it/s]\n",
      "                 Class     Images  Instances      Box(P          R      mAP50  mAP50-95): 100%|██████████| 59/59 [00:06<00:00,  9.27it/s]\n"
     ]
    },
    {
     "name": "stdout",
     "output_type": "stream",
     "text": [
      "                   all       1876       2472      0.671      0.704      0.683      0.585\n",
      "\n",
      "      Epoch    GPU_mem   box_loss   cls_loss   dfl_loss  Instances       Size\n"
     ]
    },
    {
     "name": "stderr",
     "output_type": "stream",
     "text": [
      "       7/50      2.38G     0.7207       1.32      1.238         10        640: 100%|██████████| 118/118 [00:10<00:00, 11.58it/s]\n",
      "                 Class     Images  Instances      Box(P          R      mAP50  mAP50-95): 100%|██████████| 59/59 [00:06<00:00,  9.49it/s]\n"
     ]
    },
    {
     "name": "stdout",
     "output_type": "stream",
     "text": [
      "                   all       1876       2472       0.64      0.733      0.726      0.628\n",
      "\n",
      "      Epoch    GPU_mem   box_loss   cls_loss   dfl_loss  Instances       Size\n"
     ]
    },
    {
     "name": "stderr",
     "output_type": "stream",
     "text": [
      "       8/50      2.38G     0.7109      1.222       1.24         10        640: 100%|██████████| 118/118 [00:10<00:00, 11.30it/s]\n",
      "                 Class     Images  Instances      Box(P          R      mAP50  mAP50-95): 100%|██████████| 59/59 [00:06<00:00,  9.21it/s]"
     ]
    },
    {
     "name": "stdout",
     "output_type": "stream",
     "text": [
      "                   all       1876       2472      0.633      0.719      0.734       0.63\n"
     ]
    },
    {
     "name": "stderr",
     "output_type": "stream",
     "text": [
      "\n"
     ]
    },
    {
     "name": "stdout",
     "output_type": "stream",
     "text": [
      "\n",
      "      Epoch    GPU_mem   box_loss   cls_loss   dfl_loss  Instances       Size\n"
     ]
    },
    {
     "name": "stderr",
     "output_type": "stream",
     "text": [
      "       9/50      2.38G     0.6752       1.19      1.211         10        640: 100%|██████████| 118/118 [00:10<00:00, 11.25it/s]\n",
      "                 Class     Images  Instances      Box(P          R      mAP50  mAP50-95): 100%|██████████| 59/59 [00:06<00:00,  9.16it/s]\n"
     ]
    },
    {
     "name": "stdout",
     "output_type": "stream",
     "text": [
      "                   all       1876       2472      0.711      0.723      0.768      0.674\n",
      "\n",
      "      Epoch    GPU_mem   box_loss   cls_loss   dfl_loss  Instances       Size\n"
     ]
    },
    {
     "name": "stderr",
     "output_type": "stream",
     "text": [
      "      10/50      2.37G     0.6739      1.099      1.207         11        640: 100%|██████████| 118/118 [00:10<00:00, 11.14it/s]\n",
      "                 Class     Images  Instances      Box(P          R      mAP50  mAP50-95): 100%|██████████| 59/59 [00:06<00:00,  9.21it/s]\n"
     ]
    },
    {
     "name": "stdout",
     "output_type": "stream",
     "text": [
      "                   all       1876       2472      0.668      0.792      0.788      0.692\n",
      "\n",
      "      Epoch    GPU_mem   box_loss   cls_loss   dfl_loss  Instances       Size\n"
     ]
    },
    {
     "name": "stderr",
     "output_type": "stream",
     "text": [
      "      11/50      2.38G     0.6835      1.116      1.213         16        640: 100%|██████████| 118/118 [00:10<00:00, 11.24it/s]\n",
      "                 Class     Images  Instances      Box(P          R      mAP50  mAP50-95): 100%|██████████| 59/59 [00:06<00:00,  9.20it/s]\n"
     ]
    },
    {
     "name": "stdout",
     "output_type": "stream",
     "text": [
      "                   all       1876       2472      0.639       0.72      0.751      0.631\n",
      "\n",
      "      Epoch    GPU_mem   box_loss   cls_loss   dfl_loss  Instances       Size\n"
     ]
    },
    {
     "name": "stderr",
     "output_type": "stream",
     "text": [
      "      12/50      2.37G     0.6543      1.068      1.199          8        640: 100%|██████████| 118/118 [00:10<00:00, 11.29it/s]\n",
      "                 Class     Images  Instances      Box(P          R      mAP50  mAP50-95): 100%|██████████| 59/59 [00:06<00:00,  9.17it/s]\n"
     ]
    },
    {
     "name": "stdout",
     "output_type": "stream",
     "text": [
      "                   all       1876       2472      0.683      0.745      0.767      0.675\n",
      "\n",
      "      Epoch    GPU_mem   box_loss   cls_loss   dfl_loss  Instances       Size\n"
     ]
    },
    {
     "name": "stderr",
     "output_type": "stream",
     "text": [
      "      13/50      2.38G      0.665      1.037      1.211         13        640: 100%|██████████| 118/118 [00:10<00:00, 11.28it/s]\n",
      "                 Class     Images  Instances      Box(P          R      mAP50  mAP50-95): 100%|██████████| 59/59 [00:06<00:00,  9.18it/s]"
     ]
    },
    {
     "name": "stdout",
     "output_type": "stream",
     "text": [
      "                   all       1876       2472      0.676      0.749      0.717      0.627\n"
     ]
    },
    {
     "name": "stderr",
     "output_type": "stream",
     "text": [
      "\n"
     ]
    },
    {
     "name": "stdout",
     "output_type": "stream",
     "text": [
      "\n",
      "      Epoch    GPU_mem   box_loss   cls_loss   dfl_loss  Instances       Size\n"
     ]
    },
    {
     "name": "stderr",
     "output_type": "stream",
     "text": [
      "      14/50      2.37G     0.6551     0.9921      1.189         12        640: 100%|██████████| 118/118 [00:10<00:00, 11.12it/s]\n",
      "                 Class     Images  Instances      Box(P          R      mAP50  mAP50-95): 100%|██████████| 59/59 [00:06<00:00,  9.19it/s]"
     ]
    },
    {
     "name": "stdout",
     "output_type": "stream",
     "text": [
      "                   all       1876       2472      0.668      0.793      0.812      0.712\n"
     ]
    },
    {
     "name": "stderr",
     "output_type": "stream",
     "text": [
      "\n"
     ]
    },
    {
     "name": "stdout",
     "output_type": "stream",
     "text": [
      "\n",
      "      Epoch    GPU_mem   box_loss   cls_loss   dfl_loss  Instances       Size\n"
     ]
    },
    {
     "name": "stderr",
     "output_type": "stream",
     "text": [
      "      15/50      2.37G     0.6346     0.9672      1.188         11        640: 100%|██████████| 118/118 [00:10<00:00, 11.19it/s]\n",
      "                 Class     Images  Instances      Box(P          R      mAP50  mAP50-95): 100%|██████████| 59/59 [00:06<00:00,  9.27it/s]"
     ]
    },
    {
     "name": "stdout",
     "output_type": "stream",
     "text": [
      "                   all       1876       2472      0.751      0.807      0.833      0.741\n"
     ]
    },
    {
     "name": "stderr",
     "output_type": "stream",
     "text": [
      "\n"
     ]
    },
    {
     "name": "stdout",
     "output_type": "stream",
     "text": [
      "\n",
      "      Epoch    GPU_mem   box_loss   cls_loss   dfl_loss  Instances       Size\n"
     ]
    },
    {
     "name": "stderr",
     "output_type": "stream",
     "text": [
      "      16/50      2.36G     0.6392     0.9555      1.183          9        640: 100%|██████████| 118/118 [00:10<00:00, 11.22it/s]\n",
      "                 Class     Images  Instances      Box(P          R      mAP50  mAP50-95): 100%|██████████| 59/59 [00:06<00:00,  9.19it/s]\n"
     ]
    },
    {
     "name": "stdout",
     "output_type": "stream",
     "text": [
      "                   all       1876       2472      0.743      0.795      0.832      0.739\n",
      "\n",
      "      Epoch    GPU_mem   box_loss   cls_loss   dfl_loss  Instances       Size\n"
     ]
    },
    {
     "name": "stderr",
     "output_type": "stream",
     "text": [
      "      17/50      2.37G      0.654     0.9412      1.185         11        640: 100%|██████████| 118/118 [00:10<00:00, 11.21it/s]\n",
      "                 Class     Images  Instances      Box(P          R      mAP50  mAP50-95): 100%|██████████| 59/59 [00:06<00:00,  9.25it/s]\n"
     ]
    },
    {
     "name": "stdout",
     "output_type": "stream",
     "text": [
      "                   all       1876       2472      0.755       0.81      0.836      0.747\n",
      "\n",
      "      Epoch    GPU_mem   box_loss   cls_loss   dfl_loss  Instances       Size\n"
     ]
    },
    {
     "name": "stderr",
     "output_type": "stream",
     "text": [
      "      18/50      2.38G     0.6159     0.9038      1.166         14        640: 100%|██████████| 118/118 [00:10<00:00, 11.28it/s]\n",
      "                 Class     Images  Instances      Box(P          R      mAP50  mAP50-95): 100%|██████████| 59/59 [00:06<00:00,  9.22it/s]"
     ]
    },
    {
     "name": "stdout",
     "output_type": "stream",
     "text": [
      "                   all       1876       2472      0.749       0.85      0.843       0.75\n"
     ]
    },
    {
     "name": "stderr",
     "output_type": "stream",
     "text": [
      "\n"
     ]
    },
    {
     "name": "stdout",
     "output_type": "stream",
     "text": [
      "\n",
      "      Epoch    GPU_mem   box_loss   cls_loss   dfl_loss  Instances       Size\n"
     ]
    },
    {
     "name": "stderr",
     "output_type": "stream",
     "text": [
      "      19/50      2.38G     0.6093     0.8908      1.162         10        640: 100%|██████████| 118/118 [00:10<00:00, 11.17it/s]\n",
      "                 Class     Images  Instances      Box(P          R      mAP50  mAP50-95): 100%|██████████| 59/59 [00:06<00:00,  9.16it/s]"
     ]
    },
    {
     "name": "stdout",
     "output_type": "stream",
     "text": [
      "                   all       1876       2472      0.762      0.784      0.827      0.737\n"
     ]
    },
    {
     "name": "stderr",
     "output_type": "stream",
     "text": [
      "\n"
     ]
    },
    {
     "name": "stdout",
     "output_type": "stream",
     "text": [
      "\n",
      "      Epoch    GPU_mem   box_loss   cls_loss   dfl_loss  Instances       Size\n"
     ]
    },
    {
     "name": "stderr",
     "output_type": "stream",
     "text": [
      "      20/50      2.38G     0.6051     0.8733      1.157         16        640: 100%|██████████| 118/118 [00:10<00:00, 11.19it/s]\n",
      "                 Class     Images  Instances      Box(P          R      mAP50  mAP50-95): 100%|██████████| 59/59 [00:06<00:00,  9.18it/s]"
     ]
    },
    {
     "name": "stdout",
     "output_type": "stream",
     "text": [
      "                   all       1876       2472       0.77       0.83      0.853      0.772\n"
     ]
    },
    {
     "name": "stderr",
     "output_type": "stream",
     "text": [
      "\n"
     ]
    },
    {
     "name": "stdout",
     "output_type": "stream",
     "text": [
      "\n",
      "      Epoch    GPU_mem   box_loss   cls_loss   dfl_loss  Instances       Size\n"
     ]
    },
    {
     "name": "stderr",
     "output_type": "stream",
     "text": [
      "      21/50      2.37G     0.5926     0.8362      1.155         12        640: 100%|██████████| 118/118 [00:10<00:00, 11.19it/s]\n",
      "                 Class     Images  Instances      Box(P          R      mAP50  mAP50-95): 100%|██████████| 59/59 [00:06<00:00,  9.27it/s]"
     ]
    },
    {
     "name": "stdout",
     "output_type": "stream",
     "text": [
      "                   all       1876       2472       0.77      0.849      0.852      0.769\n"
     ]
    },
    {
     "name": "stderr",
     "output_type": "stream",
     "text": [
      "\n"
     ]
    },
    {
     "name": "stdout",
     "output_type": "stream",
     "text": [
      "\n",
      "      Epoch    GPU_mem   box_loss   cls_loss   dfl_loss  Instances       Size\n"
     ]
    },
    {
     "name": "stderr",
     "output_type": "stream",
     "text": [
      "      22/50      2.37G     0.6129     0.8505      1.158         19        640: 100%|██████████| 118/118 [00:10<00:00, 11.25it/s]\n",
      "                 Class     Images  Instances      Box(P          R      mAP50  mAP50-95): 100%|██████████| 59/59 [00:06<00:00,  9.23it/s]\n"
     ]
    },
    {
     "name": "stdout",
     "output_type": "stream",
     "text": [
      "                   all       1876       2472      0.799      0.833       0.88      0.798\n",
      "\n",
      "      Epoch    GPU_mem   box_loss   cls_loss   dfl_loss  Instances       Size\n"
     ]
    },
    {
     "name": "stderr",
     "output_type": "stream",
     "text": [
      "      23/50      2.38G     0.5966     0.8187      1.154         13        640: 100%|██████████| 118/118 [00:10<00:00, 11.13it/s]\n",
      "                 Class     Images  Instances      Box(P          R      mAP50  mAP50-95): 100%|██████████| 59/59 [00:06<00:00,  9.39it/s]\n"
     ]
    },
    {
     "name": "stdout",
     "output_type": "stream",
     "text": [
      "                   all       1876       2472      0.821      0.788      0.857      0.773\n",
      "\n",
      "      Epoch    GPU_mem   box_loss   cls_loss   dfl_loss  Instances       Size\n"
     ]
    },
    {
     "name": "stderr",
     "output_type": "stream",
     "text": [
      "      24/50      2.38G     0.6053     0.8117      1.154          8        640: 100%|██████████| 118/118 [00:10<00:00, 11.23it/s]\n",
      "                 Class     Images  Instances      Box(P          R      mAP50  mAP50-95): 100%|██████████| 59/59 [00:06<00:00,  9.20it/s]"
     ]
    },
    {
     "name": "stdout",
     "output_type": "stream",
     "text": [
      "                   all       1876       2472      0.792      0.848      0.878      0.798\n"
     ]
    },
    {
     "name": "stderr",
     "output_type": "stream",
     "text": [
      "\n"
     ]
    },
    {
     "name": "stdout",
     "output_type": "stream",
     "text": [
      "\n",
      "      Epoch    GPU_mem   box_loss   cls_loss   dfl_loss  Instances       Size\n"
     ]
    },
    {
     "name": "stderr",
     "output_type": "stream",
     "text": [
      "      25/50      2.37G     0.6182     0.8116      1.158         14        640: 100%|██████████| 118/118 [00:10<00:00, 11.02it/s]\n",
      "                 Class     Images  Instances      Box(P          R      mAP50  mAP50-95): 100%|██████████| 59/59 [00:06<00:00,  9.29it/s]"
     ]
    },
    {
     "name": "stdout",
     "output_type": "stream",
     "text": [
      "                   all       1876       2472       0.83      0.822      0.884      0.803\n"
     ]
    },
    {
     "name": "stderr",
     "output_type": "stream",
     "text": [
      "\n"
     ]
    },
    {
     "name": "stdout",
     "output_type": "stream",
     "text": [
      "\n",
      "      Epoch    GPU_mem   box_loss   cls_loss   dfl_loss  Instances       Size\n"
     ]
    },
    {
     "name": "stderr",
     "output_type": "stream",
     "text": [
      "      26/50      2.37G     0.5901     0.7897      1.143         13        640: 100%|██████████| 118/118 [00:10<00:00, 11.22it/s]\n",
      "                 Class     Images  Instances      Box(P          R      mAP50  mAP50-95): 100%|██████████| 59/59 [00:06<00:00,  9.29it/s]"
     ]
    },
    {
     "name": "stdout",
     "output_type": "stream",
     "text": [
      "                   all       1876       2472      0.819      0.861      0.886      0.812\n"
     ]
    },
    {
     "name": "stderr",
     "output_type": "stream",
     "text": [
      "\n"
     ]
    },
    {
     "name": "stdout",
     "output_type": "stream",
     "text": [
      "\n",
      "      Epoch    GPU_mem   box_loss   cls_loss   dfl_loss  Instances       Size\n"
     ]
    },
    {
     "name": "stderr",
     "output_type": "stream",
     "text": [
      "      27/50      2.38G     0.5603     0.7646      1.129         15        640: 100%|██████████| 118/118 [00:10<00:00, 11.06it/s]\n",
      "                 Class     Images  Instances      Box(P          R      mAP50  mAP50-95): 100%|██████████| 59/59 [00:06<00:00,  9.27it/s]"
     ]
    },
    {
     "name": "stdout",
     "output_type": "stream",
     "text": [
      "                   all       1876       2472        0.8      0.877      0.888      0.814\n"
     ]
    },
    {
     "name": "stderr",
     "output_type": "stream",
     "text": [
      "\n"
     ]
    },
    {
     "name": "stdout",
     "output_type": "stream",
     "text": [
      "\n",
      "      Epoch    GPU_mem   box_loss   cls_loss   dfl_loss  Instances       Size\n"
     ]
    },
    {
     "name": "stderr",
     "output_type": "stream",
     "text": [
      "      28/50      2.38G     0.5744     0.7645      1.134          9        640: 100%|██████████| 118/118 [00:10<00:00, 11.16it/s]\n",
      "                 Class     Images  Instances      Box(P          R      mAP50  mAP50-95): 100%|██████████| 59/59 [00:06<00:00,  9.32it/s]"
     ]
    },
    {
     "name": "stdout",
     "output_type": "stream",
     "text": [
      "                   all       1876       2472      0.825      0.868      0.904       0.82\n"
     ]
    },
    {
     "name": "stderr",
     "output_type": "stream",
     "text": [
      "\n"
     ]
    },
    {
     "name": "stdout",
     "output_type": "stream",
     "text": [
      "\n",
      "      Epoch    GPU_mem   box_loss   cls_loss   dfl_loss  Instances       Size\n"
     ]
    },
    {
     "name": "stderr",
     "output_type": "stream",
     "text": [
      "      29/50      2.38G     0.5638     0.7595      1.128          9        640: 100%|██████████| 118/118 [00:10<00:00, 11.17it/s]\n",
      "                 Class     Images  Instances      Box(P          R      mAP50  mAP50-95): 100%|██████████| 59/59 [00:06<00:00,  9.11it/s]"
     ]
    },
    {
     "name": "stdout",
     "output_type": "stream",
     "text": [
      "                   all       1876       2472      0.825      0.883        0.9      0.824\n"
     ]
    },
    {
     "name": "stderr",
     "output_type": "stream",
     "text": [
      "\n"
     ]
    },
    {
     "name": "stdout",
     "output_type": "stream",
     "text": [
      "\n",
      "      Epoch    GPU_mem   box_loss   cls_loss   dfl_loss  Instances       Size\n"
     ]
    },
    {
     "name": "stderr",
     "output_type": "stream",
     "text": [
      "      30/50      2.38G     0.5707     0.7223      1.135         12        640: 100%|██████████| 118/118 [00:10<00:00, 11.12it/s]\n",
      "                 Class     Images  Instances      Box(P          R      mAP50  mAP50-95): 100%|██████████| 59/59 [00:06<00:00,  9.23it/s]"
     ]
    },
    {
     "name": "stdout",
     "output_type": "stream",
     "text": [
      "                   all       1876       2472      0.847      0.856      0.898      0.825\n"
     ]
    },
    {
     "name": "stderr",
     "output_type": "stream",
     "text": [
      "\n"
     ]
    },
    {
     "name": "stdout",
     "output_type": "stream",
     "text": [
      "\n",
      "      Epoch    GPU_mem   box_loss   cls_loss   dfl_loss  Instances       Size\n"
     ]
    },
    {
     "name": "stderr",
     "output_type": "stream",
     "text": [
      "      31/50      2.38G     0.5587     0.7237      1.124          9        640: 100%|██████████| 118/118 [00:10<00:00, 11.07it/s]\n",
      "                 Class     Images  Instances      Box(P          R      mAP50  mAP50-95): 100%|██████████| 59/59 [00:06<00:00,  9.31it/s]"
     ]
    },
    {
     "name": "stdout",
     "output_type": "stream",
     "text": [
      "                   all       1876       2472      0.852      0.879      0.917      0.842\n"
     ]
    },
    {
     "name": "stderr",
     "output_type": "stream",
     "text": [
      "\n"
     ]
    },
    {
     "name": "stdout",
     "output_type": "stream",
     "text": [
      "\n",
      "      Epoch    GPU_mem   box_loss   cls_loss   dfl_loss  Instances       Size\n"
     ]
    },
    {
     "name": "stderr",
     "output_type": "stream",
     "text": [
      "      32/50      2.38G     0.5563     0.7322      1.117         12        640: 100%|██████████| 118/118 [00:10<00:00, 11.21it/s]\n",
      "                 Class     Images  Instances      Box(P          R      mAP50  mAP50-95): 100%|██████████| 59/59 [00:06<00:00,  9.28it/s]"
     ]
    },
    {
     "name": "stdout",
     "output_type": "stream",
     "text": [
      "                   all       1876       2472      0.844      0.834      0.902      0.826\n"
     ]
    },
    {
     "name": "stderr",
     "output_type": "stream",
     "text": [
      "\n"
     ]
    },
    {
     "name": "stdout",
     "output_type": "stream",
     "text": [
      "\n",
      "      Epoch    GPU_mem   box_loss   cls_loss   dfl_loss  Instances       Size\n"
     ]
    },
    {
     "name": "stderr",
     "output_type": "stream",
     "text": [
      "      33/50      2.38G     0.5487       0.69      1.117         10        640: 100%|██████████| 118/118 [00:10<00:00, 11.28it/s]\n",
      "                 Class     Images  Instances      Box(P          R      mAP50  mAP50-95): 100%|██████████| 59/59 [00:06<00:00,  9.32it/s]"
     ]
    },
    {
     "name": "stdout",
     "output_type": "stream",
     "text": [
      "                   all       1876       2472      0.849      0.883      0.917      0.841\n"
     ]
    },
    {
     "name": "stderr",
     "output_type": "stream",
     "text": [
      "\n"
     ]
    },
    {
     "name": "stdout",
     "output_type": "stream",
     "text": [
      "\n",
      "      Epoch    GPU_mem   box_loss   cls_loss   dfl_loss  Instances       Size\n"
     ]
    },
    {
     "name": "stderr",
     "output_type": "stream",
     "text": [
      "      34/50      2.37G     0.5608      0.705      1.125         10        640: 100%|██████████| 118/118 [00:10<00:00, 11.33it/s]\n",
      "                 Class     Images  Instances      Box(P          R      mAP50  mAP50-95): 100%|██████████| 59/59 [00:06<00:00,  9.24it/s]"
     ]
    },
    {
     "name": "stdout",
     "output_type": "stream",
     "text": [
      "                   all       1876       2472      0.889      0.883      0.928      0.849\n"
     ]
    },
    {
     "name": "stderr",
     "output_type": "stream",
     "text": [
      "\n"
     ]
    },
    {
     "name": "stdout",
     "output_type": "stream",
     "text": [
      "\n",
      "      Epoch    GPU_mem   box_loss   cls_loss   dfl_loss  Instances       Size\n"
     ]
    },
    {
     "name": "stderr",
     "output_type": "stream",
     "text": [
      "      35/50      2.38G     0.5434     0.6745      1.117          9        640: 100%|██████████| 118/118 [00:10<00:00, 11.18it/s]\n",
      "                 Class     Images  Instances      Box(P          R      mAP50  mAP50-95): 100%|██████████| 59/59 [00:06<00:00,  9.14it/s]"
     ]
    },
    {
     "name": "stdout",
     "output_type": "stream",
     "text": [
      "                   all       1876       2472      0.887      0.871      0.923      0.855\n"
     ]
    },
    {
     "name": "stderr",
     "output_type": "stream",
     "text": [
      "\n"
     ]
    },
    {
     "name": "stdout",
     "output_type": "stream",
     "text": [
      "\n",
      "      Epoch    GPU_mem   box_loss   cls_loss   dfl_loss  Instances       Size\n"
     ]
    },
    {
     "name": "stderr",
     "output_type": "stream",
     "text": [
      "      36/50      2.38G       0.55     0.6654      1.112         13        640: 100%|██████████| 118/118 [00:10<00:00, 11.17it/s]\n",
      "                 Class     Images  Instances      Box(P          R      mAP50  mAP50-95): 100%|██████████| 59/59 [00:06<00:00,  9.20it/s]"
     ]
    },
    {
     "name": "stdout",
     "output_type": "stream",
     "text": [
      "                   all       1876       2472      0.856      0.904       0.93       0.86\n"
     ]
    },
    {
     "name": "stderr",
     "output_type": "stream",
     "text": [
      "\n"
     ]
    },
    {
     "name": "stdout",
     "output_type": "stream",
     "text": [
      "\n",
      "      Epoch    GPU_mem   box_loss   cls_loss   dfl_loss  Instances       Size\n"
     ]
    },
    {
     "name": "stderr",
     "output_type": "stream",
     "text": [
      "      37/50      2.37G     0.5455     0.6821      1.113         12        640: 100%|██████████| 118/118 [00:10<00:00, 11.24it/s]\n",
      "                 Class     Images  Instances      Box(P          R      mAP50  mAP50-95): 100%|██████████| 59/59 [00:06<00:00,  9.05it/s]"
     ]
    },
    {
     "name": "stdout",
     "output_type": "stream",
     "text": [
      "                   all       1876       2472      0.867      0.912      0.941      0.864\n"
     ]
    },
    {
     "name": "stderr",
     "output_type": "stream",
     "text": [
      "\n"
     ]
    },
    {
     "name": "stdout",
     "output_type": "stream",
     "text": [
      "\n",
      "      Epoch    GPU_mem   box_loss   cls_loss   dfl_loss  Instances       Size\n"
     ]
    },
    {
     "name": "stderr",
     "output_type": "stream",
     "text": [
      "      38/50      2.38G     0.5508      0.652      1.111         10        640: 100%|██████████| 118/118 [00:10<00:00, 11.06it/s]\n",
      "                 Class     Images  Instances      Box(P          R      mAP50  mAP50-95): 100%|██████████| 59/59 [00:06<00:00,  9.31it/s]"
     ]
    },
    {
     "name": "stdout",
     "output_type": "stream",
     "text": [
      "                   all       1876       2472      0.855      0.924      0.934      0.866\n"
     ]
    },
    {
     "name": "stderr",
     "output_type": "stream",
     "text": [
      "\n"
     ]
    },
    {
     "name": "stdout",
     "output_type": "stream",
     "text": [
      "\n",
      "      Epoch    GPU_mem   box_loss   cls_loss   dfl_loss  Instances       Size\n"
     ]
    },
    {
     "name": "stderr",
     "output_type": "stream",
     "text": [
      "      39/50      2.37G      0.543     0.6443      1.111         10        640: 100%|██████████| 118/118 [00:10<00:00, 11.02it/s]\n",
      "                 Class     Images  Instances      Box(P          R      mAP50  mAP50-95): 100%|██████████| 59/59 [00:06<00:00,  9.25it/s]"
     ]
    },
    {
     "name": "stdout",
     "output_type": "stream",
     "text": [
      "                   all       1876       2472      0.895      0.892      0.946      0.877\n"
     ]
    },
    {
     "name": "stderr",
     "output_type": "stream",
     "text": [
      "\n"
     ]
    },
    {
     "name": "stdout",
     "output_type": "stream",
     "text": [
      "\n",
      "      Epoch    GPU_mem   box_loss   cls_loss   dfl_loss  Instances       Size\n"
     ]
    },
    {
     "name": "stderr",
     "output_type": "stream",
     "text": [
      "      40/50      2.37G     0.5419     0.6452      1.105         12        640: 100%|██████████| 118/118 [00:10<00:00, 11.22it/s]\n",
      "                 Class     Images  Instances      Box(P          R      mAP50  mAP50-95): 100%|██████████| 59/59 [00:06<00:00,  9.29it/s]"
     ]
    },
    {
     "name": "stdout",
     "output_type": "stream",
     "text": [
      "                   all       1876       2472      0.891      0.918      0.946      0.875\n"
     ]
    },
    {
     "name": "stderr",
     "output_type": "stream",
     "text": [
      "\n"
     ]
    },
    {
     "name": "stdout",
     "output_type": "stream",
     "text": [
      "Closing dataloader mosaic\n",
      "\n",
      "      Epoch    GPU_mem   box_loss   cls_loss   dfl_loss  Instances       Size\n"
     ]
    },
    {
     "name": "stderr",
     "output_type": "stream",
     "text": [
      "      41/50      2.37G     0.5698     0.5892      1.131         10        640: 100%|██████████| 118/118 [00:10<00:00, 11.11it/s]\n",
      "                 Class     Images  Instances      Box(P          R      mAP50  mAP50-95): 100%|██████████| 59/59 [00:06<00:00,  9.33it/s]"
     ]
    },
    {
     "name": "stdout",
     "output_type": "stream",
     "text": [
      "                   all       1876       2472      0.914      0.914      0.957      0.889\n"
     ]
    },
    {
     "name": "stderr",
     "output_type": "stream",
     "text": [
      "\n"
     ]
    },
    {
     "name": "stdout",
     "output_type": "stream",
     "text": [
      "\n",
      "      Epoch    GPU_mem   box_loss   cls_loss   dfl_loss  Instances       Size\n"
     ]
    },
    {
     "name": "stderr",
     "output_type": "stream",
     "text": [
      "      42/50      2.37G     0.5596      0.562      1.134          4        640: 100%|██████████| 118/118 [00:09<00:00, 11.82it/s]\n",
      "                 Class     Images  Instances      Box(P          R      mAP50  mAP50-95): 100%|██████████| 59/59 [00:06<00:00,  9.27it/s]"
     ]
    },
    {
     "name": "stdout",
     "output_type": "stream",
     "text": [
      "                   all       1876       2472      0.896      0.924      0.956       0.89\n"
     ]
    },
    {
     "name": "stderr",
     "output_type": "stream",
     "text": [
      "\n"
     ]
    },
    {
     "name": "stdout",
     "output_type": "stream",
     "text": [
      "\n",
      "      Epoch    GPU_mem   box_loss   cls_loss   dfl_loss  Instances       Size\n"
     ]
    },
    {
     "name": "stderr",
     "output_type": "stream",
     "text": [
      "      43/50      2.36G     0.5507     0.5406      1.127          4        640: 100%|██████████| 118/118 [00:09<00:00, 11.82it/s]\n",
      "                 Class     Images  Instances      Box(P          R      mAP50  mAP50-95): 100%|██████████| 59/59 [00:06<00:00,  9.27it/s]"
     ]
    },
    {
     "name": "stdout",
     "output_type": "stream",
     "text": [
      "                   all       1876       2472      0.894      0.924      0.955      0.891\n"
     ]
    },
    {
     "name": "stderr",
     "output_type": "stream",
     "text": [
      "\n"
     ]
    },
    {
     "name": "stdout",
     "output_type": "stream",
     "text": [
      "\n",
      "      Epoch    GPU_mem   box_loss   cls_loss   dfl_loss  Instances       Size\n"
     ]
    },
    {
     "name": "stderr",
     "output_type": "stream",
     "text": [
      "      44/50      2.36G     0.5439     0.5306      1.114          8        640: 100%|██████████| 118/118 [00:09<00:00, 11.84it/s]\n",
      "                 Class     Images  Instances      Box(P          R      mAP50  mAP50-95): 100%|██████████| 59/59 [00:06<00:00,  9.26it/s]"
     ]
    },
    {
     "name": "stdout",
     "output_type": "stream",
     "text": [
      "                   all       1876       2472      0.892      0.904      0.945      0.883\n"
     ]
    },
    {
     "name": "stderr",
     "output_type": "stream",
     "text": [
      "\n"
     ]
    },
    {
     "name": "stdout",
     "output_type": "stream",
     "text": [
      "\n",
      "      Epoch    GPU_mem   box_loss   cls_loss   dfl_loss  Instances       Size\n"
     ]
    },
    {
     "name": "stderr",
     "output_type": "stream",
     "text": [
      "      45/50      2.36G     0.5427      0.517      1.108          8        640: 100%|██████████| 118/118 [00:10<00:00, 11.79it/s]\n",
      "                 Class     Images  Instances      Box(P          R      mAP50  mAP50-95): 100%|██████████| 59/59 [00:06<00:00,  9.14it/s]"
     ]
    },
    {
     "name": "stdout",
     "output_type": "stream",
     "text": [
      "                   all       1876       2472      0.902      0.933       0.96      0.897\n"
     ]
    },
    {
     "name": "stderr",
     "output_type": "stream",
     "text": [
      "\n"
     ]
    },
    {
     "name": "stdout",
     "output_type": "stream",
     "text": [
      "\n",
      "      Epoch    GPU_mem   box_loss   cls_loss   dfl_loss  Instances       Size\n"
     ]
    },
    {
     "name": "stderr",
     "output_type": "stream",
     "text": [
      "      46/50      2.36G     0.5337     0.5067      1.112          5        640: 100%|██████████| 118/118 [00:09<00:00, 11.88it/s]\n",
      "                 Class     Images  Instances      Box(P          R      mAP50  mAP50-95): 100%|██████████| 59/59 [00:06<00:00,  9.23it/s]"
     ]
    },
    {
     "name": "stdout",
     "output_type": "stream",
     "text": [
      "                   all       1876       2472      0.907      0.932      0.964      0.903\n"
     ]
    },
    {
     "name": "stderr",
     "output_type": "stream",
     "text": [
      "\n"
     ]
    },
    {
     "name": "stdout",
     "output_type": "stream",
     "text": [
      "\n",
      "      Epoch    GPU_mem   box_loss   cls_loss   dfl_loss  Instances       Size\n"
     ]
    },
    {
     "name": "stderr",
     "output_type": "stream",
     "text": [
      "      47/50      2.36G     0.5312     0.4947      1.102          7        640: 100%|██████████| 118/118 [00:09<00:00, 11.81it/s]\n",
      "                 Class     Images  Instances      Box(P          R      mAP50  mAP50-95): 100%|██████████| 59/59 [00:06<00:00,  9.31it/s]"
     ]
    },
    {
     "name": "stdout",
     "output_type": "stream",
     "text": [
      "                   all       1876       2472      0.905      0.939      0.964      0.906\n"
     ]
    },
    {
     "name": "stderr",
     "output_type": "stream",
     "text": [
      "\n"
     ]
    },
    {
     "name": "stdout",
     "output_type": "stream",
     "text": [
      "\n",
      "      Epoch    GPU_mem   box_loss   cls_loss   dfl_loss  Instances       Size\n"
     ]
    },
    {
     "name": "stderr",
     "output_type": "stream",
     "text": [
      "      48/50      2.36G     0.5209      0.477      1.101          8        640: 100%|██████████| 118/118 [00:09<00:00, 11.83it/s]\n",
      "                 Class     Images  Instances      Box(P          R      mAP50  mAP50-95): 100%|██████████| 59/59 [00:06<00:00,  9.34it/s]"
     ]
    },
    {
     "name": "stdout",
     "output_type": "stream",
     "text": [
      "                   all       1876       2472      0.908      0.946      0.967      0.908\n"
     ]
    },
    {
     "name": "stderr",
     "output_type": "stream",
     "text": [
      "\n"
     ]
    },
    {
     "name": "stdout",
     "output_type": "stream",
     "text": [
      "\n",
      "      Epoch    GPU_mem   box_loss   cls_loss   dfl_loss  Instances       Size\n"
     ]
    },
    {
     "name": "stderr",
     "output_type": "stream",
     "text": [
      "      49/50      2.36G     0.5165     0.4716      1.093          6        640: 100%|██████████| 118/118 [00:10<00:00, 11.62it/s]\n",
      "                 Class     Images  Instances      Box(P          R      mAP50  mAP50-95): 100%|██████████| 59/59 [00:06<00:00,  9.23it/s]"
     ]
    },
    {
     "name": "stdout",
     "output_type": "stream",
     "text": [
      "                   all       1876       2472      0.923      0.937      0.969       0.91\n"
     ]
    },
    {
     "name": "stderr",
     "output_type": "stream",
     "text": [
      "\n"
     ]
    },
    {
     "name": "stdout",
     "output_type": "stream",
     "text": [
      "\n",
      "      Epoch    GPU_mem   box_loss   cls_loss   dfl_loss  Instances       Size\n"
     ]
    },
    {
     "name": "stderr",
     "output_type": "stream",
     "text": [
      "      50/50      2.36G     0.5157     0.4596      1.095          4        640: 100%|██████████| 118/118 [00:09<00:00, 11.84it/s]\n",
      "                 Class     Images  Instances      Box(P          R      mAP50  mAP50-95): 100%|██████████| 59/59 [00:06<00:00,  9.37it/s]"
     ]
    },
    {
     "name": "stdout",
     "output_type": "stream",
     "text": [
      "                   all       1876       2472      0.924      0.936       0.97      0.911\n"
     ]
    },
    {
     "name": "stderr",
     "output_type": "stream",
     "text": [
      "\n"
     ]
    },
    {
     "name": "stdout",
     "output_type": "stream",
     "text": [
      "\n",
      "50 epochs completed in 0.245 hours.\n",
      "Optimizer stripped from runs\\detect\\train\\weights\\last.pt, 5.5MB\n",
      "Optimizer stripped from runs\\detect\\train\\weights\\best.pt, 5.5MB\n",
      "\n",
      "Validating runs\\detect\\train\\weights\\best.pt...\n",
      "Ultralytics 8.3.82  Python-3.10.16 torch-2.5.1 CUDA:0 (NVIDIA GeForce RTX 4070 Ti SUPER, 16376MiB)\n",
      "YOLO11n summary (fused): 100 layers, 2,584,687 parameters, 0 gradients, 6.3 GFLOPs\n"
     ]
    },
    {
     "name": "stderr",
     "output_type": "stream",
     "text": [
      "                 Class     Images  Instances      Box(P          R      mAP50  mAP50-95): 100%|██████████| 59/59 [00:07<00:00,  8.26it/s]\n"
     ]
    },
    {
     "name": "stdout",
     "output_type": "stream",
     "text": [
      "                   all       1876       2472      0.923      0.936       0.97      0.911\n",
      "           cerscospora        224        224      0.996      0.999      0.994      0.965\n",
      "               healthy        187        190      0.963      0.963      0.981       0.83\n",
      "                 miner        347        709       0.96      0.983       0.99      0.793\n",
      "                 phoma        169        169      0.997          1      0.995      0.974\n",
      "                  rust        342        577      0.892       0.79      0.932      0.629\n",
      "         Falta-de-boro         68         68       0.97      0.985       0.99       0.99\n",
      "       Falta-de-calcio        112        112      0.926      0.991      0.991      0.987\n",
      "      Falta-de-fosforo        157        157      0.968      0.981      0.994      0.987\n",
      "       Falta-de-hierro         45         45      0.855      0.933      0.958      0.938\n",
      "     Falta-de-magnesio         52         52      0.761      0.904      0.915      0.915\n",
      "    Falta-de-manganeso         57         57      0.847      0.807       0.92      0.915\n",
      "      Falta-de-potasio         67         67      0.894      0.877      0.967      0.967\n",
      "       Falta-nitrogeno         45         45      0.977      0.949      0.984      0.959\n",
      "Speed: 0.1ms preprocess, 0.7ms inference, 0.0ms loss, 0.7ms postprocess per image\n",
      "Results saved to \u001b[1mruns\\detect\\train\u001b[0m\n"
     ]
    }
   ],
   "source": [
    "# Procesar el primer modelo: YOLO11n\n",
    "info = models_info[0]\n",
    "model_name = info[\"name\"]\n",
    "weights_path = info[\"weights\"]\n",
    "model = YOLO(weights_path)\n",
    "\n",
    "# 1. Entrenamiento del modelo (fine tuning)\n",
    "train_results = model.train(project=OUTPUT_DIR / \"runs\", \n",
    "        data=yaml_path,\n",
    "        epochs=epochs,\n",
    "        imgsz=imgsz,\n",
    "        batch=batch,\n",
    "        patience=patience,\n",
    "        device=device,\n",
    "        exist_ok=True,\n",
    "        pretrained=True\n",
    "        )"
   ]
  },
  {
   "cell_type": "code",
   "execution_count": null,
   "metadata": {},
   "outputs": [
    {
     "name": "stdout",
     "output_type": "stream",
     "text": [
      "Ultralytics 8.3.82  Python-3.10.16 torch-2.5.1 CUDA:0 (NVIDIA GeForce RTX 4070 Ti SUPER, 16376MiB)\n",
      "YOLO11n summary (fused): 100 layers, 2,584,687 parameters, 0 gradients, 6.3 GFLOPs\n"
     ]
    },
    {
     "name": "stderr",
     "output_type": "stream",
     "text": [
      "\u001b[34m\u001b[1mval: \u001b[0mScanning C:\\Users\\ALEX\\OneDrive\\Cursos\\Maestría en Big Data y Data Science\\Cursos-VIU\\Oblgatorios\\TFM\\detection-diseases-coffee\\combinado\\train\\labels.cache... 1876 images, 4 backgrounds, 0 corrupt: 100%|██████████| 1876/1876 [00:00<?, ?it/s]"
     ]
    },
    {
     "name": "stdout",
     "output_type": "stream",
     "text": [
      "\u001b[34m\u001b[1mtrain: \u001b[0mWARNING  C:\\Users\\ALEX\\OneDrive\\Cursos\\Maestra en Big Data y Data Science\\Cursos-VIU\\Oblgatorios\\TFM\\detection-diseases-coffee\\combinado\\train\\images\\D2_Fe-21-_jpg.rf.edc47339d1daf7530340e96080dc2f82.jpg: 1 duplicate labels removed\n",
      "WARNING  Box and segment counts should be equal, but got len(segments) = 603, len(boxes) = 2472. To resolve this only boxes will be used and all segments will be removed. To avoid this please supply either a detect or segment dataset, not a detect-segment mixed dataset.\n"
     ]
    },
    {
     "name": "stderr",
     "output_type": "stream",
     "text": [
      "\n",
      "                 Class     Images  Instances      Box(P          R      mAP50  mAP50-95): 100%|██████████| 118/118 [00:07<00:00, 14.84it/s]\n"
     ]
    },
    {
     "name": "stdout",
     "output_type": "stream",
     "text": [
      "                   all       1876       2472      0.924      0.936       0.97      0.912\n",
      "           cerscospora        224        224      0.996      0.999      0.994      0.967\n",
      "               healthy        187        190      0.963      0.963      0.981       0.83\n",
      "                 miner        347        709      0.959      0.982       0.99      0.794\n",
      "                 phoma        169        169      0.997          1      0.995      0.974\n",
      "                  rust        342        577      0.896       0.79      0.932       0.63\n",
      "         Falta-de-boro         68         68       0.97      0.985       0.99       0.99\n",
      "       Falta-de-calcio        112        112      0.926      0.991      0.991      0.987\n",
      "      Falta-de-fosforo        157        157      0.968      0.981      0.994      0.987\n",
      "       Falta-de-hierro         45         45      0.855      0.933      0.958      0.938\n",
      "     Falta-de-magnesio         52         52      0.763      0.904      0.916      0.914\n",
      "    Falta-de-manganeso         57         57      0.847      0.807       0.92      0.915\n",
      "      Falta-de-potasio         67         67      0.893      0.876      0.966      0.966\n",
      "       Falta-nitrogeno         45         45      0.977       0.95      0.984      0.959\n",
      "Speed: 0.2ms preprocess, 1.1ms inference, 0.0ms loss, 0.6ms postprocess per image\n",
      "Results saved to \u001b[1mruns\\detect\\train\u001b[0m\n",
      "No se pudo usar results_dict(), se intentará extrayendo atributos. 'dict' object is not callable\n"
     ]
    },
    {
     "data": {
      "text/plain": [
       "{'epoch': 50.0,\n",
       " 'time': 883.183,\n",
       " 'train/box_loss': 0.51573,\n",
       " 'train/cls_loss': 0.45963,\n",
       " 'train/dfl_loss': 1.09464,\n",
       " 'metrics/precision(B)': 0.9237,\n",
       " 'metrics/recall(B)': 0.93555,\n",
       " 'metrics/mAP50(B)': 0.96995,\n",
       " 'metrics/mAP50-95(B)': 0.91132,\n",
       " 'val/box_loss': 0.48951,\n",
       " 'val/cls_loss': 0.41305,\n",
       " 'val/dfl_loss': 0.89411,\n",
       " 'lr/pg0': 1.75224e-05,\n",
       " 'lr/pg1': 1.75224e-05,\n",
       " 'lr/pg2': 1.75224e-05}"
      ]
     },
     "metadata": {},
     "output_type": "display_data"
    }
   ],
   "source": [
    "# 2. Evaluación y extracción de métricas\n",
    "metrics_dict = extract_metrics(model)\n",
    "\n",
    "metrics_dict"
   ]
  },
  {
   "cell_type": "code",
   "execution_count": null,
   "metadata": {},
   "outputs": [
    {
     "name": "stdout",
     "output_type": "stream",
     "text": [
      "Ultralytics 8.3.82  Python-3.10.16 torch-2.5.1 CPU (AMD Ryzen 7 7700X 8-Core Processor)\n",
      "\n",
      "\u001b[34m\u001b[1mPyTorch:\u001b[0m starting from 'runs\\detect\\train\\weights\\best.pt' with input shape (1, 3, 640, 640) BCHW and output shape(s) (1, 17, 8400) (5.3 MB)\n",
      "\n",
      "\u001b[34m\u001b[1mONNX:\u001b[0m starting export with onnx 1.17.0 opset 12...\n",
      "\u001b[34m\u001b[1mONNX:\u001b[0m slimming with onnxslim 0.1.48...\n",
      "\u001b[34m\u001b[1mONNX:\u001b[0m export success  1.2s, saved as 'runs\\detect\\train\\weights\\best.onnx' (10.1 MB)\n",
      "\n",
      "Export complete (1.3s)\n",
      "Results saved to \u001b[1mC:\\Users\\ALEX\\OneDrive\\Cursos\\Maestra en Big Data y Data Science\\Cursos-VIU\\Oblgatorios\\TFM\\detection-diseases-coffee\\runs\\detect\\train\\weights\u001b[0m\n",
      "Predict:         yolo predict task=detect model=runs\\detect\\train\\weights\\best.onnx imgsz=640  \n",
      "Validate:        yolo val task=detect model=runs\\detect\\train\\weights\\best.onnx imgsz=640 data=C:/Users/ALEX/OneDrive/Cursos/Maestra en Big Data y Data Science/Cursos-VIU/Oblgatorios/TFM/detection-diseases-coffee/combinado/data.yaml  \n",
      "Visualize:       https://netron.app\n",
      "WARNING  TensorRT requires GPU export, automatically assigning device=0\n",
      "Ultralytics 8.3.82  Python-3.10.16 torch-2.5.1 CUDA:0 (NVIDIA GeForce RTX 4070 Ti SUPER, 16376MiB)\n",
      "\n",
      "\u001b[34m\u001b[1mPyTorch:\u001b[0m starting from 'runs\\detect\\train\\weights\\best.pt' with input shape (1, 3, 640, 640) BCHW and output shape(s) (1, 17, 8400) (5.3 MB)\n",
      "\n",
      "\u001b[34m\u001b[1mONNX:\u001b[0m starting export with onnx 1.17.0 opset 12...\n",
      "\u001b[34m\u001b[1mONNX:\u001b[0m slimming with onnxslim 0.1.48...\n",
      "\u001b[34m\u001b[1mONNX:\u001b[0m export success  0.9s, saved as 'runs\\detect\\train\\weights\\best.onnx' (10.1 MB)\n",
      "\u001b[34m\u001b[1mTensorRT:\u001b[0m export failure  0.9s: No module named 'tensorrt'\n",
      "TensorRT no está instalado. Se retornará None para la velocidad TRT.\n"
     ]
    },
    {
     "data": {
      "text/plain": [
       "[{'Modelo': 'YOLO11n',\n",
       "  'Tamaño (píxeles)': 640,\n",
       "  'epoch': 50.0,\n",
       "  'time': 883.183,\n",
       "  'train/box_loss': 0.51573,\n",
       "  'train/cls_loss': 0.45963,\n",
       "  'train/dfl_loss': 1.09464,\n",
       "  'metrics/precision(B)': 0.9237,\n",
       "  'metrics/recall(B)': 0.93555,\n",
       "  'metrics/mAP50(B)': 0.96995,\n",
       "  'metrics/mAP50-95(B)': 0.91132,\n",
       "  'val/box_loss': 0.48951,\n",
       "  'val/cls_loss': 0.41305,\n",
       "  'val/dfl_loss': 0.89411,\n",
       "  'lr/pg0': 1.75224e-05,\n",
       "  'lr/pg1': 1.75224e-05,\n",
       "  'lr/pg2': 1.75224e-05,\n",
       "  'Velocidad CPU ONNX (ms)': 22.33635187149048,\n",
       "  'Velocidad T4 TensorRT (ms)': None,\n",
       "  'Parámetros (M)': 2.584687,\n",
       "  'FLOPs (B)': 6393562400}]"
      ]
     },
     "metadata": {},
     "output_type": "display_data"
    }
   ],
   "source": [
    "# Guardar ruta de exortación en formato pt\n",
    "pt_export_path = export_and_copy_pt(model, model_name)\n",
    "\n",
    "# 3. Exportar a ONNX y copiarlo con el nombre deseado\n",
    "onnx_export_path = export_and_copy_onnx(model, model_name, imgsz)\n",
    "avg_time_cpu = measure_onnx_inference_speed(onnx_export_path, imgsz)\n",
    "\n",
    "# 4. Exportar a TensorRT y medir velocidad (si es posible)\n",
    "trt_engine_path = export_and_copy_trt(model, model_name, imgsz)\n",
    "avg_time_trt = measure_trt_inference_speed(trt_engine_path, n_iter=20)\n",
    "\n",
    "# 5. Calcular parámetros y definir placeholder para FLOPs\n",
    "params = compute_model_params(model)\n",
    "\n",
    "flops = compute_flops(model, imgsz)\n",
    "\n",
    "# 6. Combinar toda la información\n",
    "results_yolo11n = combine_results(model_name, imgsz, metrics_dict, avg_time_cpu, avg_time_trt, params, flops)\n",
    "\n",
    "results_list.append(results_yolo11n)\n",
    "\n",
    "results_list"
   ]
  },
  {
   "cell_type": "markdown",
   "metadata": {},
   "source": [
    "### Entrenamiento de YOLO12n"
   ]
  },
  {
   "cell_type": "code",
   "execution_count": null,
   "metadata": {},
   "outputs": [
    {
     "name": "stdout",
     "output_type": "stream",
     "text": [
      "New https://pypi.org/project/ultralytics/8.3.84 available  Update with 'pip install -U ultralytics'\n",
      "Ultralytics 8.3.82  Python-3.10.16 torch-2.5.1 CUDA:0 (NVIDIA GeForce RTX 4070 Ti SUPER, 16376MiB)\n",
      "\u001b[34m\u001b[1mengine\\trainer: \u001b[0mtask=detect, mode=train, model=yolo12n.pt, data=C:/Users/ALEX/OneDrive/Cursos/Maestra en Big Data y Data Science/Cursos-VIU/Oblgatorios/TFM/detection-diseases-coffee/combinado/data.yaml, epochs=50, time=None, patience=5, batch=16, imgsz=640, save=True, save_period=-1, cache=False, device=cuda:0, workers=8, project=None, name=train, exist_ok=True, pretrained=True, optimizer=auto, verbose=True, seed=0, deterministic=True, single_cls=False, rect=False, cos_lr=False, close_mosaic=10, resume=False, amp=True, fraction=1.0, profile=False, freeze=None, multi_scale=False, overlap_mask=True, mask_ratio=4, dropout=0.0, val=True, split=val, save_json=False, save_hybrid=False, conf=None, iou=0.7, max_det=300, half=False, dnn=False, plots=True, source=None, vid_stride=1, stream_buffer=False, visualize=False, augment=False, agnostic_nms=False, classes=None, retina_masks=False, embed=None, show=False, save_frames=False, save_txt=False, save_conf=False, save_crop=False, show_labels=True, show_conf=True, show_boxes=True, line_width=None, format=torchscript, keras=False, optimize=False, int8=False, dynamic=False, simplify=True, opset=None, workspace=None, nms=False, lr0=0.01, lrf=0.01, momentum=0.937, weight_decay=0.0005, warmup_epochs=3.0, warmup_momentum=0.8, warmup_bias_lr=0.1, box=7.5, cls=0.5, dfl=1.5, pose=12.0, kobj=1.0, nbs=64, hsv_h=0.015, hsv_s=0.7, hsv_v=0.4, degrees=0.0, translate=0.1, scale=0.5, shear=0.0, perspective=0.0, flipud=0.0, fliplr=0.5, bgr=0.0, mosaic=1.0, mixup=0.0, copy_paste=0.0, copy_paste_mode=flip, auto_augment=randaugment, erasing=0.4, crop_fraction=1.0, cfg=None, tracker=botsort.yaml, save_dir=runs\\detect\\train\n",
      "Overriding model.yaml nc=80 with nc=13\n",
      "\n",
      "                   from  n    params  module                                       arguments                     \n",
      "  0                  -1  1       464  ultralytics.nn.modules.conv.Conv             [3, 16, 3, 2]                 \n",
      "  1                  -1  1      4672  ultralytics.nn.modules.conv.Conv             [16, 32, 3, 2]                \n",
      "  2                  -1  1      6640  ultralytics.nn.modules.block.C3k2            [32, 64, 1, False, 0.25]      \n",
      "  3                  -1  1     36992  ultralytics.nn.modules.conv.Conv             [64, 64, 3, 2]                \n",
      "  4                  -1  1     26080  ultralytics.nn.modules.block.C3k2            [64, 128, 1, False, 0.25]     \n",
      "  5                  -1  1    147712  ultralytics.nn.modules.conv.Conv             [128, 128, 3, 2]              \n",
      "  6                  -1  2    180864  ultralytics.nn.modules.block.A2C2f           [128, 128, 2, True, 4]        \n",
      "  7                  -1  1    295424  ultralytics.nn.modules.conv.Conv             [128, 256, 3, 2]              \n",
      "  8                  -1  2    689408  ultralytics.nn.modules.block.A2C2f           [256, 256, 2, True, 1]        \n",
      "  9                  -1  1         0  torch.nn.modules.upsampling.Upsample         [None, 2, 'nearest']          \n",
      " 10             [-1, 6]  1         0  ultralytics.nn.modules.conv.Concat           [1]                           \n",
      " 11                  -1  1     86912  ultralytics.nn.modules.block.A2C2f           [384, 128, 1, False, -1]      \n",
      " 12                  -1  1         0  torch.nn.modules.upsampling.Upsample         [None, 2, 'nearest']          \n",
      " 13             [-1, 4]  1         0  ultralytics.nn.modules.conv.Concat           [1]                           \n",
      " 14                  -1  1     24000  ultralytics.nn.modules.block.A2C2f           [256, 64, 1, False, -1]       \n",
      " 15                  -1  1     36992  ultralytics.nn.modules.conv.Conv             [64, 64, 3, 2]                \n",
      " 16            [-1, 11]  1         0  ultralytics.nn.modules.conv.Concat           [1]                           \n",
      " 17                  -1  1     74624  ultralytics.nn.modules.block.A2C2f           [192, 128, 1, False, -1]      \n",
      " 18                  -1  1    147712  ultralytics.nn.modules.conv.Conv             [128, 128, 3, 2]              \n",
      " 19             [-1, 8]  1         0  ultralytics.nn.modules.conv.Concat           [1]                           \n",
      " 20                  -1  1    378880  ultralytics.nn.modules.block.C3k2            [384, 256, 1, True]           \n",
      " 21        [14, 17, 20]  1    433207  ultralytics.nn.modules.head.Detect           [13, [64, 128, 256]]          \n",
      "YOLOv12n summary: 272 layers, 2,570,583 parameters, 2,570,567 gradients, 6.5 GFLOPs\n",
      "\n",
      "Transferred 640/691 items from pretrained weights\n",
      "Freezing layer 'model.21.dfl.conv.weight'\n",
      "\u001b[34m\u001b[1mAMP: \u001b[0mrunning Automatic Mixed Precision (AMP) checks...\n",
      "\u001b[34m\u001b[1mAMP: \u001b[0mchecks passed \n"
     ]
    },
    {
     "name": "stderr",
     "output_type": "stream",
     "text": [
      "\u001b[34m\u001b[1mtrain: \u001b[0mScanning C:\\Users\\ALEX\\OneDrive\\Cursos\\Maestría en Big Data y Data Science\\Cursos-VIU\\Oblgatorios\\TFM\\detection-diseases-coffee\\combinado\\train\\labels.cache... 1876 images, 4 backgrounds, 0 corrupt: 100%|██████████| 1876/1876 [00:00<?, ?it/s]"
     ]
    },
    {
     "name": "stdout",
     "output_type": "stream",
     "text": [
      "\u001b[34m\u001b[1mtrain: \u001b[0mWARNING  C:\\Users\\ALEX\\OneDrive\\Cursos\\Maestra en Big Data y Data Science\\Cursos-VIU\\Oblgatorios\\TFM\\detection-diseases-coffee\\combinado\\train\\images\\D2_Fe-21-_jpg.rf.edc47339d1daf7530340e96080dc2f82.jpg: 1 duplicate labels removed\n",
      "WARNING  Box and segment counts should be equal, but got len(segments) = 603, len(boxes) = 2472. To resolve this only boxes will be used and all segments will be removed. To avoid this please supply either a detect or segment dataset, not a detect-segment mixed dataset.\n"
     ]
    },
    {
     "name": "stderr",
     "output_type": "stream",
     "text": [
      "\n",
      "\u001b[34m\u001b[1mval: \u001b[0mScanning C:\\Users\\ALEX\\OneDrive\\Cursos\\Maestría en Big Data y Data Science\\Cursos-VIU\\Oblgatorios\\TFM\\detection-diseases-coffee\\combinado\\train\\labels.cache... 1876 images, 4 backgrounds, 0 corrupt: 100%|██████████| 1876/1876 [00:00<?, ?it/s]"
     ]
    },
    {
     "name": "stdout",
     "output_type": "stream",
     "text": [
      "\u001b[34m\u001b[1mtrain: \u001b[0mWARNING  C:\\Users\\ALEX\\OneDrive\\Cursos\\Maestra en Big Data y Data Science\\Cursos-VIU\\Oblgatorios\\TFM\\detection-diseases-coffee\\combinado\\train\\images\\D2_Fe-21-_jpg.rf.edc47339d1daf7530340e96080dc2f82.jpg: 1 duplicate labels removed\n",
      "WARNING  Box and segment counts should be equal, but got len(segments) = 603, len(boxes) = 2472. To resolve this only boxes will be used and all segments will be removed. To avoid this please supply either a detect or segment dataset, not a detect-segment mixed dataset.\n"
     ]
    },
    {
     "name": "stderr",
     "output_type": "stream",
     "text": [
      "\n"
     ]
    },
    {
     "name": "stdout",
     "output_type": "stream",
     "text": [
      "Plotting labels to runs\\detect\\train\\labels.jpg... \n",
      "\u001b[34m\u001b[1moptimizer:\u001b[0m 'optimizer=auto' found, ignoring 'lr0=0.01' and 'momentum=0.937' and determining best 'optimizer', 'lr0' and 'momentum' automatically... \n",
      "\u001b[34m\u001b[1moptimizer:\u001b[0m AdamW(lr=0.000588, momentum=0.9) with parameter groups 113 weight(decay=0.0), 120 weight(decay=0.0005), 119 bias(decay=0.0)\n",
      "Image sizes 640 train, 640 val\n",
      "Using 8 dataloader workers\n",
      "Logging results to \u001b[1mruns\\detect\\train\u001b[0m\n",
      "Starting training for 50 epochs...\n",
      "\n",
      "      Epoch    GPU_mem   box_loss   cls_loss   dfl_loss  Instances       Size\n"
     ]
    },
    {
     "name": "stderr",
     "output_type": "stream",
     "text": [
      "       1/50      3.29G     0.8255      3.341      1.368         13        640: 100%|██████████| 118/118 [00:16<00:00,  7.10it/s]\n",
      "                 Class     Images  Instances      Box(P          R      mAP50  mAP50-95): 100%|██████████| 59/59 [00:07<00:00,  7.71it/s]\n"
     ]
    },
    {
     "name": "stdout",
     "output_type": "stream",
     "text": [
      "                   all       1876       2472      0.521      0.398       0.36      0.273\n",
      "\n",
      "      Epoch    GPU_mem   box_loss   cls_loss   dfl_loss  Instances       Size\n"
     ]
    },
    {
     "name": "stderr",
     "output_type": "stream",
     "text": [
      "       2/50      3.42G     0.8672      2.122      1.364         11        640: 100%|██████████| 118/118 [00:14<00:00,  7.90it/s]\n",
      "                 Class     Images  Instances      Box(P          R      mAP50  mAP50-95): 100%|██████████| 59/59 [00:07<00:00,  7.61it/s]\n"
     ]
    },
    {
     "name": "stdout",
     "output_type": "stream",
     "text": [
      "                   all       1876       2472      0.395      0.571      0.493      0.361\n",
      "\n",
      "      Epoch    GPU_mem   box_loss   cls_loss   dfl_loss  Instances       Size\n"
     ]
    },
    {
     "name": "stderr",
     "output_type": "stream",
     "text": [
      "       3/50      3.42G      0.826      1.784      1.317         15        640: 100%|██████████| 118/118 [00:14<00:00,  8.23it/s]\n",
      "                 Class     Images  Instances      Box(P          R      mAP50  mAP50-95): 100%|██████████| 59/59 [00:07<00:00,  7.76it/s]\n"
     ]
    },
    {
     "name": "stdout",
     "output_type": "stream",
     "text": [
      "                   all       1876       2472      0.439      0.681      0.534      0.414\n",
      "\n",
      "      Epoch    GPU_mem   box_loss   cls_loss   dfl_loss  Instances       Size\n"
     ]
    },
    {
     "name": "stderr",
     "output_type": "stream",
     "text": [
      "       4/50      3.41G     0.7918        1.6      1.282         10        640: 100%|██████████| 118/118 [00:14<00:00,  8.34it/s]\n",
      "                 Class     Images  Instances      Box(P          R      mAP50  mAP50-95): 100%|██████████| 59/59 [00:07<00:00,  7.74it/s]\n"
     ]
    },
    {
     "name": "stdout",
     "output_type": "stream",
     "text": [
      "                   all       1876       2472      0.459      0.685      0.619      0.386\n",
      "\n",
      "      Epoch    GPU_mem   box_loss   cls_loss   dfl_loss  Instances       Size\n"
     ]
    },
    {
     "name": "stderr",
     "output_type": "stream",
     "text": [
      "       5/50       3.4G     0.7789       1.49       1.28         10        640: 100%|██████████| 118/118 [00:14<00:00,  8.33it/s]\n",
      "                 Class     Images  Instances      Box(P          R      mAP50  mAP50-95): 100%|██████████| 59/59 [00:07<00:00,  7.75it/s]"
     ]
    },
    {
     "name": "stdout",
     "output_type": "stream",
     "text": [
      "                   all       1876       2472      0.507      0.718      0.665      0.542\n"
     ]
    },
    {
     "name": "stderr",
     "output_type": "stream",
     "text": [
      "\n"
     ]
    },
    {
     "name": "stdout",
     "output_type": "stream",
     "text": [
      "\n",
      "      Epoch    GPU_mem   box_loss   cls_loss   dfl_loss  Instances       Size\n"
     ]
    },
    {
     "name": "stderr",
     "output_type": "stream",
     "text": [
      "       6/50       3.4G     0.7457      1.385      1.258         17        640: 100%|██████████| 118/118 [00:14<00:00,  8.33it/s]\n",
      "                 Class     Images  Instances      Box(P          R      mAP50  mAP50-95): 100%|██████████| 59/59 [00:07<00:00,  7.84it/s]"
     ]
    },
    {
     "name": "stdout",
     "output_type": "stream",
     "text": [
      "                   all       1876       2472      0.587      0.703       0.67      0.577\n"
     ]
    },
    {
     "name": "stderr",
     "output_type": "stream",
     "text": [
      "\n"
     ]
    },
    {
     "name": "stdout",
     "output_type": "stream",
     "text": [
      "\n",
      "      Epoch    GPU_mem   box_loss   cls_loss   dfl_loss  Instances       Size\n"
     ]
    },
    {
     "name": "stderr",
     "output_type": "stream",
     "text": [
      "       7/50      3.42G     0.7414      1.302      1.254         10        640: 100%|██████████| 118/118 [00:14<00:00,  8.37it/s]\n",
      "                 Class     Images  Instances      Box(P          R      mAP50  mAP50-95): 100%|██████████| 59/59 [00:07<00:00,  7.89it/s]"
     ]
    },
    {
     "name": "stdout",
     "output_type": "stream",
     "text": [
      "                   all       1876       2472      0.612      0.739      0.697      0.596\n"
     ]
    },
    {
     "name": "stderr",
     "output_type": "stream",
     "text": [
      "\n"
     ]
    },
    {
     "name": "stdout",
     "output_type": "stream",
     "text": [
      "\n",
      "      Epoch    GPU_mem   box_loss   cls_loss   dfl_loss  Instances       Size\n"
     ]
    },
    {
     "name": "stderr",
     "output_type": "stream",
     "text": [
      "       8/50      3.41G     0.7335      1.216      1.248         10        640: 100%|██████████| 118/118 [00:14<00:00,  8.33it/s]\n",
      "                 Class     Images  Instances      Box(P          R      mAP50  mAP50-95): 100%|██████████| 59/59 [00:07<00:00,  7.85it/s]"
     ]
    },
    {
     "name": "stdout",
     "output_type": "stream",
     "text": [
      "                   all       1876       2472      0.785      0.618      0.717      0.603\n"
     ]
    },
    {
     "name": "stderr",
     "output_type": "stream",
     "text": [
      "\n"
     ]
    },
    {
     "name": "stdout",
     "output_type": "stream",
     "text": [
      "\n",
      "      Epoch    GPU_mem   box_loss   cls_loss   dfl_loss  Instances       Size\n"
     ]
    },
    {
     "name": "stderr",
     "output_type": "stream",
     "text": [
      "       9/50      3.41G      0.697      1.202      1.223         10        640: 100%|██████████| 118/118 [00:14<00:00,  8.28it/s]\n",
      "                 Class     Images  Instances      Box(P          R      mAP50  mAP50-95): 100%|██████████| 59/59 [00:07<00:00,  7.93it/s]"
     ]
    },
    {
     "name": "stdout",
     "output_type": "stream",
     "text": [
      "                   all       1876       2472      0.648      0.713       0.72      0.622\n"
     ]
    },
    {
     "name": "stderr",
     "output_type": "stream",
     "text": [
      "\n"
     ]
    },
    {
     "name": "stdout",
     "output_type": "stream",
     "text": [
      "\n",
      "      Epoch    GPU_mem   box_loss   cls_loss   dfl_loss  Instances       Size\n"
     ]
    },
    {
     "name": "stderr",
     "output_type": "stream",
     "text": [
      "      10/50       3.4G     0.7095      1.103      1.229         11        640: 100%|██████████| 118/118 [00:14<00:00,  8.38it/s]\n",
      "                 Class     Images  Instances      Box(P          R      mAP50  mAP50-95): 100%|██████████| 59/59 [00:07<00:00,  7.93it/s]"
     ]
    },
    {
     "name": "stdout",
     "output_type": "stream",
     "text": [
      "                   all       1876       2472      0.646      0.772      0.724      0.624\n"
     ]
    },
    {
     "name": "stderr",
     "output_type": "stream",
     "text": [
      "\n"
     ]
    },
    {
     "name": "stdout",
     "output_type": "stream",
     "text": [
      "\n",
      "      Epoch    GPU_mem   box_loss   cls_loss   dfl_loss  Instances       Size\n"
     ]
    },
    {
     "name": "stderr",
     "output_type": "stream",
     "text": [
      "      11/50      3.41G     0.6933      1.099      1.219         16        640: 100%|██████████| 118/118 [00:14<00:00,  8.27it/s]\n",
      "                 Class     Images  Instances      Box(P          R      mAP50  mAP50-95): 100%|██████████| 59/59 [00:07<00:00,  7.90it/s]"
     ]
    },
    {
     "name": "stdout",
     "output_type": "stream",
     "text": [
      "                   all       1876       2472      0.638      0.761      0.735      0.646\n"
     ]
    },
    {
     "name": "stderr",
     "output_type": "stream",
     "text": [
      "\n"
     ]
    },
    {
     "name": "stdout",
     "output_type": "stream",
     "text": [
      "\n",
      "      Epoch    GPU_mem   box_loss   cls_loss   dfl_loss  Instances       Size\n"
     ]
    },
    {
     "name": "stderr",
     "output_type": "stream",
     "text": [
      "      12/50       3.4G     0.6667      1.065      1.206          8        640: 100%|██████████| 118/118 [00:14<00:00,  8.33it/s]\n",
      "                 Class     Images  Instances      Box(P          R      mAP50  mAP50-95): 100%|██████████| 59/59 [00:07<00:00,  7.94it/s]"
     ]
    },
    {
     "name": "stdout",
     "output_type": "stream",
     "text": [
      "                   all       1876       2472      0.658      0.779      0.748      0.648\n"
     ]
    },
    {
     "name": "stderr",
     "output_type": "stream",
     "text": [
      "\n"
     ]
    },
    {
     "name": "stdout",
     "output_type": "stream",
     "text": [
      "\n",
      "      Epoch    GPU_mem   box_loss   cls_loss   dfl_loss  Instances       Size\n"
     ]
    },
    {
     "name": "stderr",
     "output_type": "stream",
     "text": [
      "      13/50      3.41G      0.684       1.04       1.22         13        640: 100%|██████████| 118/118 [00:14<00:00,  8.37it/s]\n",
      "                 Class     Images  Instances      Box(P          R      mAP50  mAP50-95): 100%|██████████| 59/59 [00:07<00:00,  7.85it/s]"
     ]
    },
    {
     "name": "stdout",
     "output_type": "stream",
     "text": [
      "                   all       1876       2472      0.603      0.811      0.754      0.649\n"
     ]
    },
    {
     "name": "stderr",
     "output_type": "stream",
     "text": [
      "\n"
     ]
    },
    {
     "name": "stdout",
     "output_type": "stream",
     "text": [
      "\n",
      "      Epoch    GPU_mem   box_loss   cls_loss   dfl_loss  Instances       Size\n"
     ]
    },
    {
     "name": "stderr",
     "output_type": "stream",
     "text": [
      "      14/50       3.4G     0.6717     0.9812      1.201         12        640: 100%|██████████| 118/118 [00:14<00:00,  8.37it/s]\n",
      "                 Class     Images  Instances      Box(P          R      mAP50  mAP50-95): 100%|██████████| 59/59 [00:07<00:00,  7.85it/s]"
     ]
    },
    {
     "name": "stdout",
     "output_type": "stream",
     "text": [
      "                   all       1876       2472      0.667      0.814      0.776      0.685\n"
     ]
    },
    {
     "name": "stderr",
     "output_type": "stream",
     "text": [
      "\n"
     ]
    },
    {
     "name": "stdout",
     "output_type": "stream",
     "text": [
      "\n",
      "      Epoch    GPU_mem   box_loss   cls_loss   dfl_loss  Instances       Size\n"
     ]
    },
    {
     "name": "stderr",
     "output_type": "stream",
     "text": [
      "      15/50      3.39G     0.6465     0.9585      1.196         11        640: 100%|██████████| 118/118 [00:14<00:00,  8.35it/s]\n",
      "                 Class     Images  Instances      Box(P          R      mAP50  mAP50-95): 100%|██████████| 59/59 [00:07<00:00,  7.94it/s]"
     ]
    },
    {
     "name": "stdout",
     "output_type": "stream",
     "text": [
      "                   all       1876       2472      0.668      0.801      0.783      0.698\n"
     ]
    },
    {
     "name": "stderr",
     "output_type": "stream",
     "text": [
      "\n"
     ]
    },
    {
     "name": "stdout",
     "output_type": "stream",
     "text": [
      "\n",
      "      Epoch    GPU_mem   box_loss   cls_loss   dfl_loss  Instances       Size\n"
     ]
    },
    {
     "name": "stderr",
     "output_type": "stream",
     "text": [
      "      16/50      3.39G     0.6555     0.9502      1.192          9        640: 100%|██████████| 118/118 [00:14<00:00,  8.38it/s]\n",
      "                 Class     Images  Instances      Box(P          R      mAP50  mAP50-95): 100%|██████████| 59/59 [00:07<00:00,  7.92it/s]"
     ]
    },
    {
     "name": "stdout",
     "output_type": "stream",
     "text": [
      "                   all       1876       2472      0.624      0.825       0.77      0.685\n"
     ]
    },
    {
     "name": "stderr",
     "output_type": "stream",
     "text": [
      "\n"
     ]
    },
    {
     "name": "stdout",
     "output_type": "stream",
     "text": [
      "\n",
      "      Epoch    GPU_mem   box_loss   cls_loss   dfl_loss  Instances       Size\n"
     ]
    },
    {
     "name": "stderr",
     "output_type": "stream",
     "text": [
      "      17/50       3.4G     0.6675     0.9145      1.201         11        640: 100%|██████████| 118/118 [00:14<00:00,  8.35it/s]\n",
      "                 Class     Images  Instances      Box(P          R      mAP50  mAP50-95): 100%|██████████| 59/59 [00:07<00:00,  7.96it/s]"
     ]
    },
    {
     "name": "stdout",
     "output_type": "stream",
     "text": [
      "                   all       1876       2472      0.678      0.833      0.784      0.693\n"
     ]
    },
    {
     "name": "stderr",
     "output_type": "stream",
     "text": [
      "\n"
     ]
    },
    {
     "name": "stdout",
     "output_type": "stream",
     "text": [
      "\n",
      "      Epoch    GPU_mem   box_loss   cls_loss   dfl_loss  Instances       Size\n"
     ]
    },
    {
     "name": "stderr",
     "output_type": "stream",
     "text": [
      "      18/50       3.4G     0.6357     0.8989      1.178         14        640: 100%|██████████| 118/118 [00:14<00:00,  8.36it/s]\n",
      "                 Class     Images  Instances      Box(P          R      mAP50  mAP50-95): 100%|██████████| 59/59 [00:07<00:00,  7.89it/s]"
     ]
    },
    {
     "name": "stdout",
     "output_type": "stream",
     "text": [
      "                   all       1876       2472      0.724      0.799        0.8      0.715\n"
     ]
    },
    {
     "name": "stderr",
     "output_type": "stream",
     "text": [
      "\n"
     ]
    },
    {
     "name": "stdout",
     "output_type": "stream",
     "text": [
      "\n",
      "      Epoch    GPU_mem   box_loss   cls_loss   dfl_loss  Instances       Size\n"
     ]
    },
    {
     "name": "stderr",
     "output_type": "stream",
     "text": [
      "      19/50      3.42G     0.6264     0.8903      1.171         10        640: 100%|██████████| 118/118 [00:14<00:00,  8.25it/s]\n",
      "                 Class     Images  Instances      Box(P          R      mAP50  mAP50-95): 100%|██████████| 59/59 [00:07<00:00,  7.97it/s]"
     ]
    },
    {
     "name": "stdout",
     "output_type": "stream",
     "text": [
      "                   all       1876       2472      0.734      0.815      0.826      0.739\n"
     ]
    },
    {
     "name": "stderr",
     "output_type": "stream",
     "text": [
      "\n"
     ]
    },
    {
     "name": "stdout",
     "output_type": "stream",
     "text": [
      "\n",
      "      Epoch    GPU_mem   box_loss   cls_loss   dfl_loss  Instances       Size\n"
     ]
    },
    {
     "name": "stderr",
     "output_type": "stream",
     "text": [
      "      20/50      3.41G     0.6184     0.8593      1.173         16        640: 100%|██████████| 118/118 [00:14<00:00,  8.28it/s]\n",
      "                 Class     Images  Instances      Box(P          R      mAP50  mAP50-95): 100%|██████████| 59/59 [00:07<00:00,  7.94it/s]"
     ]
    },
    {
     "name": "stdout",
     "output_type": "stream",
     "text": [
      "                   all       1876       2472      0.707      0.794      0.787      0.707\n"
     ]
    },
    {
     "name": "stderr",
     "output_type": "stream",
     "text": [
      "\n"
     ]
    },
    {
     "name": "stdout",
     "output_type": "stream",
     "text": [
      "\n",
      "      Epoch    GPU_mem   box_loss   cls_loss   dfl_loss  Instances       Size\n"
     ]
    },
    {
     "name": "stderr",
     "output_type": "stream",
     "text": [
      "      21/50       3.4G     0.6072     0.8331      1.162         12        640: 100%|██████████| 118/118 [00:14<00:00,  8.21it/s]\n",
      "                 Class     Images  Instances      Box(P          R      mAP50  mAP50-95): 100%|██████████| 59/59 [00:07<00:00,  7.89it/s]"
     ]
    },
    {
     "name": "stdout",
     "output_type": "stream",
     "text": [
      "                   all       1876       2472      0.752      0.828      0.841      0.757\n"
     ]
    },
    {
     "name": "stderr",
     "output_type": "stream",
     "text": [
      "\n"
     ]
    },
    {
     "name": "stdout",
     "output_type": "stream",
     "text": [
      "\n",
      "      Epoch    GPU_mem   box_loss   cls_loss   dfl_loss  Instances       Size\n"
     ]
    },
    {
     "name": "stderr",
     "output_type": "stream",
     "text": [
      "      22/50      3.39G     0.6202     0.8393      1.169         19        640: 100%|██████████| 118/118 [00:14<00:00,  8.29it/s]\n",
      "                 Class     Images  Instances      Box(P          R      mAP50  mAP50-95): 100%|██████████| 59/59 [00:07<00:00,  7.85it/s]"
     ]
    },
    {
     "name": "stdout",
     "output_type": "stream",
     "text": [
      "                   all       1876       2472      0.769       0.82      0.822      0.743\n"
     ]
    },
    {
     "name": "stderr",
     "output_type": "stream",
     "text": [
      "\n"
     ]
    },
    {
     "name": "stdout",
     "output_type": "stream",
     "text": [
      "\n",
      "      Epoch    GPU_mem   box_loss   cls_loss   dfl_loss  Instances       Size\n"
     ]
    },
    {
     "name": "stderr",
     "output_type": "stream",
     "text": [
      "      23/50      3.41G     0.6069     0.8046      1.167         13        640: 100%|██████████| 118/118 [00:14<00:00,  8.26it/s]\n",
      "                 Class     Images  Instances      Box(P          R      mAP50  mAP50-95): 100%|██████████| 59/59 [00:07<00:00,  8.00it/s]"
     ]
    },
    {
     "name": "stdout",
     "output_type": "stream",
     "text": [
      "                   all       1876       2472      0.723      0.834      0.811      0.721\n"
     ]
    },
    {
     "name": "stderr",
     "output_type": "stream",
     "text": [
      "\n"
     ]
    },
    {
     "name": "stdout",
     "output_type": "stream",
     "text": [
      "\n",
      "      Epoch    GPU_mem   box_loss   cls_loss   dfl_loss  Instances       Size\n"
     ]
    },
    {
     "name": "stderr",
     "output_type": "stream",
     "text": [
      "      24/50      3.41G     0.6239     0.8049       1.17          8        640: 100%|██████████| 118/118 [00:14<00:00,  8.26it/s]\n",
      "                 Class     Images  Instances      Box(P          R      mAP50  mAP50-95): 100%|██████████| 59/59 [00:07<00:00,  7.91it/s]"
     ]
    },
    {
     "name": "stdout",
     "output_type": "stream",
     "text": [
      "                   all       1876       2472      0.741       0.84      0.842      0.756\n"
     ]
    },
    {
     "name": "stderr",
     "output_type": "stream",
     "text": [
      "\n"
     ]
    },
    {
     "name": "stdout",
     "output_type": "stream",
     "text": [
      "\n",
      "      Epoch    GPU_mem   box_loss   cls_loss   dfl_loss  Instances       Size\n"
     ]
    },
    {
     "name": "stderr",
     "output_type": "stream",
     "text": [
      "      25/50       3.4G     0.6441     0.7953      1.176         14        640: 100%|██████████| 118/118 [00:14<00:00,  8.27it/s]\n",
      "                 Class     Images  Instances      Box(P          R      mAP50  mAP50-95): 100%|██████████| 59/59 [00:07<00:00,  7.97it/s]"
     ]
    },
    {
     "name": "stdout",
     "output_type": "stream",
     "text": [
      "                   all       1876       2472      0.777      0.852      0.846      0.766\n"
     ]
    },
    {
     "name": "stderr",
     "output_type": "stream",
     "text": [
      "\n"
     ]
    },
    {
     "name": "stdout",
     "output_type": "stream",
     "text": [
      "\n",
      "      Epoch    GPU_mem   box_loss   cls_loss   dfl_loss  Instances       Size\n"
     ]
    },
    {
     "name": "stderr",
     "output_type": "stream",
     "text": [
      "      26/50      3.39G     0.6028     0.7872      1.155         13        640: 100%|██████████| 118/118 [00:14<00:00,  8.20it/s]\n",
      "                 Class     Images  Instances      Box(P          R      mAP50  mAP50-95): 100%|██████████| 59/59 [00:07<00:00,  7.89it/s]"
     ]
    },
    {
     "name": "stdout",
     "output_type": "stream",
     "text": [
      "                   all       1876       2472      0.766      0.859      0.858      0.777\n"
     ]
    },
    {
     "name": "stderr",
     "output_type": "stream",
     "text": [
      "\n"
     ]
    },
    {
     "name": "stdout",
     "output_type": "stream",
     "text": [
      "\n",
      "      Epoch    GPU_mem   box_loss   cls_loss   dfl_loss  Instances       Size\n"
     ]
    },
    {
     "name": "stderr",
     "output_type": "stream",
     "text": [
      "      27/50      3.41G     0.5808     0.7651      1.147         15        640: 100%|██████████| 118/118 [00:14<00:00,  8.30it/s]\n",
      "                 Class     Images  Instances      Box(P          R      mAP50  mAP50-95): 100%|██████████| 59/59 [00:07<00:00,  7.99it/s]"
     ]
    },
    {
     "name": "stdout",
     "output_type": "stream",
     "text": [
      "                   all       1876       2472      0.791       0.82       0.86      0.781\n"
     ]
    },
    {
     "name": "stderr",
     "output_type": "stream",
     "text": [
      "\n"
     ]
    },
    {
     "name": "stdout",
     "output_type": "stream",
     "text": [
      "\n",
      "      Epoch    GPU_mem   box_loss   cls_loss   dfl_loss  Instances       Size\n"
     ]
    },
    {
     "name": "stderr",
     "output_type": "stream",
     "text": [
      "      28/50      3.41G     0.5916     0.7402      1.147          9        640: 100%|██████████| 118/118 [00:14<00:00,  8.32it/s]\n",
      "                 Class     Images  Instances      Box(P          R      mAP50  mAP50-95): 100%|██████████| 59/59 [00:07<00:00,  7.80it/s]"
     ]
    },
    {
     "name": "stdout",
     "output_type": "stream",
     "text": [
      "                   all       1876       2472       0.82      0.854      0.889      0.808\n"
     ]
    },
    {
     "name": "stderr",
     "output_type": "stream",
     "text": [
      "\n"
     ]
    },
    {
     "name": "stdout",
     "output_type": "stream",
     "text": [
      "\n",
      "      Epoch    GPU_mem   box_loss   cls_loss   dfl_loss  Instances       Size\n"
     ]
    },
    {
     "name": "stderr",
     "output_type": "stream",
     "text": [
      "      29/50       3.4G     0.5683     0.7414      1.138          9        640: 100%|██████████| 118/118 [00:14<00:00,  8.03it/s]\n",
      "                 Class     Images  Instances      Box(P          R      mAP50  mAP50-95): 100%|██████████| 59/59 [00:07<00:00,  7.95it/s]"
     ]
    },
    {
     "name": "stdout",
     "output_type": "stream",
     "text": [
      "                   all       1876       2472      0.803      0.811      0.862      0.784\n"
     ]
    },
    {
     "name": "stderr",
     "output_type": "stream",
     "text": [
      "\n"
     ]
    },
    {
     "name": "stdout",
     "output_type": "stream",
     "text": [
      "\n",
      "      Epoch    GPU_mem   box_loss   cls_loss   dfl_loss  Instances       Size\n"
     ]
    },
    {
     "name": "stderr",
     "output_type": "stream",
     "text": [
      "      30/50       3.4G     0.5881     0.7224      1.147         12        640: 100%|██████████| 118/118 [00:14<00:00,  8.41it/s]\n",
      "                 Class     Images  Instances      Box(P          R      mAP50  mAP50-95): 100%|██████████| 59/59 [00:07<00:00,  7.94it/s]"
     ]
    },
    {
     "name": "stdout",
     "output_type": "stream",
     "text": [
      "                   all       1876       2472      0.811      0.847      0.879      0.801\n"
     ]
    },
    {
     "name": "stderr",
     "output_type": "stream",
     "text": [
      "\n"
     ]
    },
    {
     "name": "stdout",
     "output_type": "stream",
     "text": [
      "\n",
      "      Epoch    GPU_mem   box_loss   cls_loss   dfl_loss  Instances       Size\n"
     ]
    },
    {
     "name": "stderr",
     "output_type": "stream",
     "text": [
      "      31/50       3.4G     0.5656     0.7075      1.134          9        640: 100%|██████████| 118/118 [00:14<00:00,  8.37it/s]\n",
      "                 Class     Images  Instances      Box(P          R      mAP50  mAP50-95): 100%|██████████| 59/59 [00:07<00:00,  8.01it/s]"
     ]
    },
    {
     "name": "stdout",
     "output_type": "stream",
     "text": [
      "                   all       1876       2472      0.817      0.867      0.887      0.813\n"
     ]
    },
    {
     "name": "stderr",
     "output_type": "stream",
     "text": [
      "\n"
     ]
    },
    {
     "name": "stdout",
     "output_type": "stream",
     "text": [
      "\n",
      "      Epoch    GPU_mem   box_loss   cls_loss   dfl_loss  Instances       Size\n"
     ]
    },
    {
     "name": "stderr",
     "output_type": "stream",
     "text": [
      "      32/50      3.41G     0.5737     0.7042      1.131         12        640: 100%|██████████| 118/118 [00:13<00:00,  8.46it/s]\n",
      "                 Class     Images  Instances      Box(P          R      mAP50  mAP50-95): 100%|██████████| 59/59 [00:07<00:00,  7.95it/s]"
     ]
    },
    {
     "name": "stdout",
     "output_type": "stream",
     "text": [
      "                   all       1876       2472      0.843      0.869      0.904      0.821\n"
     ]
    },
    {
     "name": "stderr",
     "output_type": "stream",
     "text": [
      "\n"
     ]
    },
    {
     "name": "stdout",
     "output_type": "stream",
     "text": [
      "\n",
      "      Epoch    GPU_mem   box_loss   cls_loss   dfl_loss  Instances       Size\n"
     ]
    },
    {
     "name": "stderr",
     "output_type": "stream",
     "text": [
      "      33/50      3.41G     0.5642     0.6713      1.131         10        640: 100%|██████████| 118/118 [00:14<00:00,  8.35it/s]\n",
      "                 Class     Images  Instances      Box(P          R      mAP50  mAP50-95): 100%|██████████| 59/59 [00:07<00:00,  8.01it/s]"
     ]
    },
    {
     "name": "stdout",
     "output_type": "stream",
     "text": [
      "                   all       1876       2472      0.828       0.88      0.903      0.828\n"
     ]
    },
    {
     "name": "stderr",
     "output_type": "stream",
     "text": [
      "\n"
     ]
    },
    {
     "name": "stdout",
     "output_type": "stream",
     "text": [
      "\n",
      "      Epoch    GPU_mem   box_loss   cls_loss   dfl_loss  Instances       Size\n"
     ]
    },
    {
     "name": "stderr",
     "output_type": "stream",
     "text": [
      "      34/50       3.4G      0.562     0.6889      1.132         10        640: 100%|██████████| 118/118 [00:13<00:00,  8.48it/s]\n",
      "                 Class     Images  Instances      Box(P          R      mAP50  mAP50-95): 100%|██████████| 59/59 [00:07<00:00,  8.02it/s]"
     ]
    },
    {
     "name": "stdout",
     "output_type": "stream",
     "text": [
      "                   all       1876       2472      0.858      0.889      0.907       0.83\n"
     ]
    },
    {
     "name": "stderr",
     "output_type": "stream",
     "text": [
      "\n"
     ]
    },
    {
     "name": "stdout",
     "output_type": "stream",
     "text": [
      "\n",
      "      Epoch    GPU_mem   box_loss   cls_loss   dfl_loss  Instances       Size\n"
     ]
    },
    {
     "name": "stderr",
     "output_type": "stream",
     "text": [
      "      35/50      3.41G     0.5502      0.651      1.125          9        640: 100%|██████████| 118/118 [00:14<00:00,  8.35it/s]\n",
      "                 Class     Images  Instances      Box(P          R      mAP50  mAP50-95): 100%|██████████| 59/59 [00:07<00:00,  8.01it/s]"
     ]
    },
    {
     "name": "stdout",
     "output_type": "stream",
     "text": [
      "                   all       1876       2472      0.868      0.866      0.904      0.835\n"
     ]
    },
    {
     "name": "stderr",
     "output_type": "stream",
     "text": [
      "\n"
     ]
    },
    {
     "name": "stdout",
     "output_type": "stream",
     "text": [
      "\n",
      "      Epoch    GPU_mem   box_loss   cls_loss   dfl_loss  Instances       Size\n"
     ]
    },
    {
     "name": "stderr",
     "output_type": "stream",
     "text": [
      "      36/50      3.41G     0.5639     0.6576      1.126         13        640: 100%|██████████| 118/118 [00:13<00:00,  8.51it/s]\n",
      "                 Class     Images  Instances      Box(P          R      mAP50  mAP50-95): 100%|██████████| 59/59 [00:07<00:00,  7.97it/s]"
     ]
    },
    {
     "name": "stdout",
     "output_type": "stream",
     "text": [
      "                   all       1876       2472      0.877      0.872      0.917      0.848\n"
     ]
    },
    {
     "name": "stderr",
     "output_type": "stream",
     "text": [
      "\n"
     ]
    },
    {
     "name": "stdout",
     "output_type": "stream",
     "text": [
      "\n",
      "      Epoch    GPU_mem   box_loss   cls_loss   dfl_loss  Instances       Size\n"
     ]
    },
    {
     "name": "stderr",
     "output_type": "stream",
     "text": [
      "      37/50       3.4G      0.555     0.6523      1.128         12        640: 100%|██████████| 118/118 [00:13<00:00,  8.46it/s]\n",
      "                 Class     Images  Instances      Box(P          R      mAP50  mAP50-95): 100%|██████████| 59/59 [00:07<00:00,  7.99it/s]"
     ]
    },
    {
     "name": "stdout",
     "output_type": "stream",
     "text": [
      "                   all       1876       2472      0.831      0.876       0.91      0.837\n"
     ]
    },
    {
     "name": "stderr",
     "output_type": "stream",
     "text": [
      "\n"
     ]
    },
    {
     "name": "stdout",
     "output_type": "stream",
     "text": [
      "\n",
      "      Epoch    GPU_mem   box_loss   cls_loss   dfl_loss  Instances       Size\n"
     ]
    },
    {
     "name": "stderr",
     "output_type": "stream",
     "text": [
      "      38/50      3.41G     0.5532     0.6327      1.118         10        640: 100%|██████████| 118/118 [00:13<00:00,  8.52it/s]\n",
      "                 Class     Images  Instances      Box(P          R      mAP50  mAP50-95): 100%|██████████| 59/59 [00:07<00:00,  8.01it/s]"
     ]
    },
    {
     "name": "stdout",
     "output_type": "stream",
     "text": [
      "                   all       1876       2472      0.876      0.877      0.916      0.844\n"
     ]
    },
    {
     "name": "stderr",
     "output_type": "stream",
     "text": [
      "\n"
     ]
    },
    {
     "name": "stdout",
     "output_type": "stream",
     "text": [
      "\n",
      "      Epoch    GPU_mem   box_loss   cls_loss   dfl_loss  Instances       Size\n"
     ]
    },
    {
     "name": "stderr",
     "output_type": "stream",
     "text": [
      "      39/50      3.39G     0.5479     0.6205      1.121         10        640: 100%|██████████| 118/118 [00:13<00:00,  8.47it/s]\n",
      "                 Class     Images  Instances      Box(P          R      mAP50  mAP50-95): 100%|██████████| 59/59 [00:07<00:00,  8.06it/s]"
     ]
    },
    {
     "name": "stdout",
     "output_type": "stream",
     "text": [
      "                   all       1876       2472      0.871      0.888      0.925      0.858\n"
     ]
    },
    {
     "name": "stderr",
     "output_type": "stream",
     "text": [
      "\n"
     ]
    },
    {
     "name": "stdout",
     "output_type": "stream",
     "text": [
      "\n",
      "      Epoch    GPU_mem   box_loss   cls_loss   dfl_loss  Instances       Size\n"
     ]
    },
    {
     "name": "stderr",
     "output_type": "stream",
     "text": [
      "      40/50       3.4G     0.5431     0.6167      1.115         12        640: 100%|██████████| 118/118 [00:13<00:00,  8.50it/s]\n",
      "                 Class     Images  Instances      Box(P          R      mAP50  mAP50-95): 100%|██████████| 59/59 [00:07<00:00,  8.04it/s]"
     ]
    },
    {
     "name": "stdout",
     "output_type": "stream",
     "text": [
      "                   all       1876       2472      0.857      0.901      0.935       0.87\n"
     ]
    },
    {
     "name": "stderr",
     "output_type": "stream",
     "text": [
      "\n"
     ]
    },
    {
     "name": "stdout",
     "output_type": "stream",
     "text": [
      "Closing dataloader mosaic\n",
      "\n",
      "      Epoch    GPU_mem   box_loss   cls_loss   dfl_loss  Instances       Size\n"
     ]
    },
    {
     "name": "stderr",
     "output_type": "stream",
     "text": [
      "      41/50       3.4G     0.5723     0.5564      1.141         10        640: 100%|██████████| 118/118 [00:14<00:00,  8.39it/s]\n",
      "                 Class     Images  Instances      Box(P          R      mAP50  mAP50-95): 100%|██████████| 59/59 [00:07<00:00,  7.93it/s]"
     ]
    },
    {
     "name": "stdout",
     "output_type": "stream",
     "text": [
      "                   all       1876       2472      0.868      0.904      0.925      0.859\n"
     ]
    },
    {
     "name": "stderr",
     "output_type": "stream",
     "text": [
      "\n"
     ]
    },
    {
     "name": "stdout",
     "output_type": "stream",
     "text": [
      "\n",
      "      Epoch    GPU_mem   box_loss   cls_loss   dfl_loss  Instances       Size\n"
     ]
    },
    {
     "name": "stderr",
     "output_type": "stream",
     "text": [
      "      42/50      3.39G     0.5634     0.5324       1.14          4        640: 100%|██████████| 118/118 [00:13<00:00,  8.55it/s]\n",
      "                 Class     Images  Instances      Box(P          R      mAP50  mAP50-95): 100%|██████████| 59/59 [00:07<00:00,  7.99it/s]"
     ]
    },
    {
     "name": "stdout",
     "output_type": "stream",
     "text": [
      "                   all       1876       2472      0.877      0.905       0.94      0.872\n"
     ]
    },
    {
     "name": "stderr",
     "output_type": "stream",
     "text": [
      "\n"
     ]
    },
    {
     "name": "stdout",
     "output_type": "stream",
     "text": [
      "\n",
      "      Epoch    GPU_mem   box_loss   cls_loss   dfl_loss  Instances       Size\n"
     ]
    },
    {
     "name": "stderr",
     "output_type": "stream",
     "text": [
      "      43/50      3.39G     0.5557      0.512      1.128          4        640: 100%|██████████| 118/118 [00:13<00:00,  8.60it/s]\n",
      "                 Class     Images  Instances      Box(P          R      mAP50  mAP50-95): 100%|██████████| 59/59 [00:07<00:00,  8.06it/s]"
     ]
    },
    {
     "name": "stdout",
     "output_type": "stream",
     "text": [
      "                   all       1876       2472      0.878      0.916      0.944      0.879\n"
     ]
    },
    {
     "name": "stderr",
     "output_type": "stream",
     "text": [
      "\n"
     ]
    },
    {
     "name": "stdout",
     "output_type": "stream",
     "text": [
      "\n",
      "      Epoch    GPU_mem   box_loss   cls_loss   dfl_loss  Instances       Size\n"
     ]
    },
    {
     "name": "stderr",
     "output_type": "stream",
     "text": [
      "      44/50      3.39G     0.5541     0.5017      1.124          8        640: 100%|██████████| 118/118 [00:13<00:00,  8.61it/s]\n",
      "                 Class     Images  Instances      Box(P          R      mAP50  mAP50-95): 100%|██████████| 59/59 [00:07<00:00,  8.03it/s]"
     ]
    },
    {
     "name": "stdout",
     "output_type": "stream",
     "text": [
      "                   all       1876       2472      0.915      0.905      0.952      0.891\n"
     ]
    },
    {
     "name": "stderr",
     "output_type": "stream",
     "text": [
      "\n"
     ]
    },
    {
     "name": "stdout",
     "output_type": "stream",
     "text": [
      "\n",
      "      Epoch    GPU_mem   box_loss   cls_loss   dfl_loss  Instances       Size\n"
     ]
    },
    {
     "name": "stderr",
     "output_type": "stream",
     "text": [
      "      45/50      3.39G     0.5439      0.486      1.119          8        640: 100%|██████████| 118/118 [00:13<00:00,  8.53it/s]\n",
      "                 Class     Images  Instances      Box(P          R      mAP50  mAP50-95): 100%|██████████| 59/59 [00:07<00:00,  7.99it/s]"
     ]
    },
    {
     "name": "stdout",
     "output_type": "stream",
     "text": [
      "                   all       1876       2472      0.911      0.908      0.948      0.884\n"
     ]
    },
    {
     "name": "stderr",
     "output_type": "stream",
     "text": [
      "\n"
     ]
    },
    {
     "name": "stdout",
     "output_type": "stream",
     "text": [
      "\n",
      "      Epoch    GPU_mem   box_loss   cls_loss   dfl_loss  Instances       Size\n"
     ]
    },
    {
     "name": "stderr",
     "output_type": "stream",
     "text": [
      "      46/50      3.39G     0.5308     0.4773      1.117          5        640: 100%|██████████| 118/118 [00:13<00:00,  8.63it/s]\n",
      "                 Class     Images  Instances      Box(P          R      mAP50  mAP50-95): 100%|██████████| 59/59 [00:07<00:00,  8.00it/s]"
     ]
    },
    {
     "name": "stdout",
     "output_type": "stream",
     "text": [
      "                   all       1876       2472      0.914      0.901      0.953      0.894\n"
     ]
    },
    {
     "name": "stderr",
     "output_type": "stream",
     "text": [
      "\n"
     ]
    },
    {
     "name": "stdout",
     "output_type": "stream",
     "text": [
      "\n",
      "      Epoch    GPU_mem   box_loss   cls_loss   dfl_loss  Instances       Size\n"
     ]
    },
    {
     "name": "stderr",
     "output_type": "stream",
     "text": [
      "      47/50      3.39G     0.5334     0.4719      1.108          7        640: 100%|██████████| 118/118 [00:13<00:00,  8.58it/s]\n",
      "                 Class     Images  Instances      Box(P          R      mAP50  mAP50-95): 100%|██████████| 59/59 [00:07<00:00,  8.03it/s]"
     ]
    },
    {
     "name": "stdout",
     "output_type": "stream",
     "text": [
      "                   all       1876       2472        0.9      0.921       0.95      0.891\n"
     ]
    },
    {
     "name": "stderr",
     "output_type": "stream",
     "text": [
      "\n"
     ]
    },
    {
     "name": "stdout",
     "output_type": "stream",
     "text": [
      "\n",
      "      Epoch    GPU_mem   box_loss   cls_loss   dfl_loss  Instances       Size\n"
     ]
    },
    {
     "name": "stderr",
     "output_type": "stream",
     "text": [
      "      48/50      3.39G     0.5207     0.4596      1.106          8        640: 100%|██████████| 118/118 [00:13<00:00,  8.48it/s]\n",
      "                 Class     Images  Instances      Box(P          R      mAP50  mAP50-95): 100%|██████████| 59/59 [00:07<00:00,  8.02it/s]"
     ]
    },
    {
     "name": "stdout",
     "output_type": "stream",
     "text": [
      "                   all       1876       2472       0.91      0.921      0.958        0.9\n"
     ]
    },
    {
     "name": "stderr",
     "output_type": "stream",
     "text": [
      "\n"
     ]
    },
    {
     "name": "stdout",
     "output_type": "stream",
     "text": [
      "\n",
      "      Epoch    GPU_mem   box_loss   cls_loss   dfl_loss  Instances       Size\n"
     ]
    },
    {
     "name": "stderr",
     "output_type": "stream",
     "text": [
      "      49/50      3.39G     0.5162     0.4495      1.104          6        640: 100%|██████████| 118/118 [00:13<00:00,  8.48it/s]\n",
      "                 Class     Images  Instances      Box(P          R      mAP50  mAP50-95): 100%|██████████| 59/59 [00:07<00:00,  8.03it/s]"
     ]
    },
    {
     "name": "stdout",
     "output_type": "stream",
     "text": [
      "                   all       1876       2472      0.908      0.953      0.965      0.905\n"
     ]
    },
    {
     "name": "stderr",
     "output_type": "stream",
     "text": [
      "\n"
     ]
    },
    {
     "name": "stdout",
     "output_type": "stream",
     "text": [
      "\n",
      "      Epoch    GPU_mem   box_loss   cls_loss   dfl_loss  Instances       Size\n"
     ]
    },
    {
     "name": "stderr",
     "output_type": "stream",
     "text": [
      "      50/50      3.39G     0.5113     0.4363      1.094          4        640: 100%|██████████| 118/118 [00:13<00:00,  8.55it/s]\n",
      "                 Class     Images  Instances      Box(P          R      mAP50  mAP50-95): 100%|██████████| 59/59 [00:07<00:00,  7.91it/s]"
     ]
    },
    {
     "name": "stdout",
     "output_type": "stream",
     "text": [
      "                   all       1876       2472      0.912      0.956      0.968      0.911\n"
     ]
    },
    {
     "name": "stderr",
     "output_type": "stream",
     "text": [
      "\n"
     ]
    },
    {
     "name": "stdout",
     "output_type": "stream",
     "text": [
      "\n",
      "50 epochs completed in 0.313 hours.\n",
      "Optimizer stripped from runs\\detect\\train\\weights\\last.pt, 5.6MB\n",
      "Optimizer stripped from runs\\detect\\train\\weights\\best.pt, 5.6MB\n",
      "\n",
      "Validating runs\\detect\\train\\weights\\best.pt...\n",
      "Ultralytics 8.3.82  Python-3.10.16 torch-2.5.1 CUDA:0 (NVIDIA GeForce RTX 4070 Ti SUPER, 16376MiB)\n",
      "YOLOv12n summary (fused): 159 layers, 2,559,263 parameters, 0 gradients, 6.3 GFLOPs\n"
     ]
    },
    {
     "name": "stderr",
     "output_type": "stream",
     "text": [
      "                 Class     Images  Instances      Box(P          R      mAP50  mAP50-95): 100%|██████████| 59/59 [00:08<00:00,  7.35it/s]\n"
     ]
    },
    {
     "name": "stdout",
     "output_type": "stream",
     "text": [
      "                   all       1876       2472      0.912      0.956      0.968      0.911\n",
      "           cerscospora        224        224      0.992          1      0.994      0.973\n",
      "               healthy        187        190      0.947      0.963       0.98      0.831\n",
      "                 miner        347        709      0.952      0.989      0.993      0.801\n",
      "                 phoma        169        169      0.996          1      0.995      0.976\n",
      "                  rust        342        577      0.877      0.862      0.937      0.634\n",
      "         Falta-de-boro         68         68      0.983          1      0.994      0.994\n",
      "       Falta-de-calcio        112        112       0.93      0.991      0.986      0.984\n",
      "      Falta-de-fosforo        157        157      0.977      0.987      0.994      0.989\n",
      "       Falta-de-hierro         45         45      0.862      0.956      0.961      0.946\n",
      "     Falta-de-magnesio         52         52      0.742      0.923      0.898      0.898\n",
      "    Falta-de-manganeso         57         57      0.842       0.86      0.915      0.909\n",
      "      Falta-de-potasio         67         67      0.897      0.905      0.973      0.973\n",
      "       Falta-nitrogeno         45         45      0.865      0.997       0.96      0.938\n",
      "Speed: 0.1ms preprocess, 1.0ms inference, 0.0ms loss, 0.7ms postprocess per image\n",
      "Results saved to \u001b[1mruns\\detect\\train\u001b[0m\n"
     ]
    }
   ],
   "source": [
    "# Procesar el primer modelo: YOLO12n\n",
    "info = models_info[1]\n",
    "model_name = info[\"name\"]\n",
    "weights_path = info[\"weights\"]\n",
    "model = YOLO(weights_path)\n",
    "\n",
    "# 1. Entrenamiento del modelo:\n",
    "train_results = model.train(project=OUTPUT_DIR / \"runs\", \n",
    "        data=yaml_path,\n",
    "        epochs=epochs,\n",
    "        imgsz=imgsz,\n",
    "        batch=batch,\n",
    "        patience=patience,\n",
    "        device=device,\n",
    "        exist_ok=True,\n",
    "        pretrained=True)"
   ]
  },
  {
   "cell_type": "code",
   "execution_count": null,
   "metadata": {},
   "outputs": [
    {
     "name": "stdout",
     "output_type": "stream",
     "text": [
      "Ultralytics 8.3.82  Python-3.10.16 torch-2.5.1 CUDA:0 (NVIDIA GeForce RTX 4070 Ti SUPER, 16376MiB)\n",
      "YOLOv12n summary (fused): 159 layers, 2,559,263 parameters, 0 gradients, 6.3 GFLOPs\n"
     ]
    },
    {
     "name": "stderr",
     "output_type": "stream",
     "text": [
      "\u001b[34m\u001b[1mval: \u001b[0mScanning C:\\Users\\ALEX\\OneDrive\\Cursos\\Maestría en Big Data y Data Science\\Cursos-VIU\\Oblgatorios\\TFM\\detection-diseases-coffee\\combinado\\train\\labels.cache... 1876 images, 4 backgrounds, 0 corrupt: 100%|██████████| 1876/1876 [00:00<?, ?it/s]"
     ]
    },
    {
     "name": "stdout",
     "output_type": "stream",
     "text": [
      "\u001b[34m\u001b[1mtrain: \u001b[0mWARNING  C:\\Users\\ALEX\\OneDrive\\Cursos\\Maestra en Big Data y Data Science\\Cursos-VIU\\Oblgatorios\\TFM\\detection-diseases-coffee\\combinado\\train\\images\\D2_Fe-21-_jpg.rf.edc47339d1daf7530340e96080dc2f82.jpg: 1 duplicate labels removed\n",
      "WARNING  Box and segment counts should be equal, but got len(segments) = 603, len(boxes) = 2472. To resolve this only boxes will be used and all segments will be removed. To avoid this please supply either a detect or segment dataset, not a detect-segment mixed dataset.\n"
     ]
    },
    {
     "name": "stderr",
     "output_type": "stream",
     "text": [
      "\n",
      "                 Class     Images  Instances      Box(P          R      mAP50  mAP50-95): 100%|██████████| 118/118 [00:08<00:00, 13.38it/s]\n"
     ]
    },
    {
     "name": "stdout",
     "output_type": "stream",
     "text": [
      "                   all       1876       2472      0.912      0.956      0.968      0.911\n",
      "           cerscospora        224        224      0.992          1      0.994      0.973\n",
      "               healthy        187        190      0.947      0.963       0.98      0.831\n",
      "                 miner        347        709      0.952      0.989      0.993        0.8\n",
      "                 phoma        169        169      0.996          1      0.995      0.976\n",
      "                  rust        342        577      0.873      0.862      0.937      0.635\n",
      "         Falta-de-boro         68         68      0.983          1      0.994      0.994\n",
      "       Falta-de-calcio        112        112       0.93      0.991      0.986      0.984\n",
      "      Falta-de-fosforo        157        157      0.977      0.987      0.994      0.989\n",
      "       Falta-de-hierro         45         45      0.862      0.956      0.961      0.943\n",
      "     Falta-de-magnesio         52         52      0.741      0.923      0.899      0.899\n",
      "    Falta-de-manganeso         57         57      0.844       0.86      0.915      0.909\n",
      "      Falta-de-potasio         67         67      0.896      0.905      0.973      0.973\n",
      "       Falta-nitrogeno         45         45      0.865      0.998       0.96      0.938\n",
      "Speed: 0.2ms preprocess, 1.6ms inference, 0.0ms loss, 0.6ms postprocess per image\n",
      "Results saved to \u001b[1mruns\\detect\\train\u001b[0m\n",
      "No se pudo usar results_dict(), se intentará extrayendo atributos. 'dict' object is not callable\n"
     ]
    },
    {
     "data": {
      "text/plain": [
       "{'epoch': 50.0,\n",
       " 'time': 1127.04,\n",
       " 'train/box_loss': 0.51129,\n",
       " 'train/cls_loss': 0.43628,\n",
       " 'train/dfl_loss': 1.0939,\n",
       " 'metrics/precision(B)': 0.91198,\n",
       " 'metrics/recall(B)': 0.95641,\n",
       " 'metrics/mAP50(B)': 0.96774,\n",
       " 'metrics/mAP50-95(B)': 0.91137,\n",
       " 'val/box_loss': 0.47812,\n",
       " 'val/cls_loss': 0.38077,\n",
       " 'val/dfl_loss': 0.88336,\n",
       " 'lr/pg0': 1.75224e-05,\n",
       " 'lr/pg1': 1.75224e-05,\n",
       " 'lr/pg2': 1.75224e-05}"
      ]
     },
     "metadata": {},
     "output_type": "display_data"
    }
   ],
   "source": [
    "# 2. Evaluación y extracción de métricas\n",
    "metrics_dict = extract_metrics(model)\n",
    "\n",
    "metrics_dict"
   ]
  },
  {
   "cell_type": "code",
   "execution_count": null,
   "metadata": {},
   "outputs": [
    {
     "name": "stdout",
     "output_type": "stream",
     "text": [
      "Ultralytics 8.3.82  Python-3.10.16 torch-2.5.1 CPU (AMD Ryzen 7 7700X 8-Core Processor)\n",
      "\n",
      "\u001b[34m\u001b[1mPyTorch:\u001b[0m starting from 'runs\\detect\\train\\weights\\best.pt' with input shape (1, 3, 640, 640) BCHW and output shape(s) (1, 17, 8400) (5.3 MB)\n",
      "\n",
      "\u001b[34m\u001b[1mONNX:\u001b[0m starting export with onnx 1.17.0 opset 12...\n",
      "\u001b[34m\u001b[1mONNX:\u001b[0m slimming with onnxslim 0.1.48...\n",
      "\u001b[34m\u001b[1mONNX:\u001b[0m export success  1.6s, saved as 'runs\\detect\\train\\weights\\best.onnx' (10.1 MB)\n",
      "\n",
      "Export complete (1.7s)\n",
      "Results saved to \u001b[1mC:\\Users\\ALEX\\OneDrive\\Cursos\\Maestra en Big Data y Data Science\\Cursos-VIU\\Oblgatorios\\TFM\\detection-diseases-coffee\\runs\\detect\\train\\weights\u001b[0m\n",
      "Predict:         yolo predict task=detect model=runs\\detect\\train\\weights\\best.onnx imgsz=640  \n",
      "Validate:        yolo val task=detect model=runs\\detect\\train\\weights\\best.onnx imgsz=640 data=C:/Users/ALEX/OneDrive/Cursos/Maestra en Big Data y Data Science/Cursos-VIU/Oblgatorios/TFM/detection-diseases-coffee/combinado/data.yaml  \n",
      "Visualize:       https://netron.app\n",
      "WARNING  TensorRT requires GPU export, automatically assigning device=0\n",
      "Ultralytics 8.3.82  Python-3.10.16 torch-2.5.1 CUDA:0 (NVIDIA GeForce RTX 4070 Ti SUPER, 16376MiB)\n",
      "\n",
      "\u001b[34m\u001b[1mPyTorch:\u001b[0m starting from 'runs\\detect\\train\\weights\\best.pt' with input shape (1, 3, 640, 640) BCHW and output shape(s) (1, 17, 8400) (5.3 MB)\n",
      "\n",
      "\u001b[34m\u001b[1mONNX:\u001b[0m starting export with onnx 1.17.0 opset 12...\n",
      "\u001b[34m\u001b[1mONNX:\u001b[0m slimming with onnxslim 0.1.48...\n",
      "\u001b[34m\u001b[1mONNX:\u001b[0m export success  1.4s, saved as 'runs\\detect\\train\\weights\\best.onnx' (10.1 MB)\n",
      "\u001b[34m\u001b[1mTensorRT:\u001b[0m export failure  1.4s: No module named 'tensorrt'\n",
      "TensorRT no está instalado. Se retornará None para la velocidad TRT.\n"
     ]
    },
    {
     "data": {
      "text/plain": [
       "[{'Modelo': 'YOLO11n',\n",
       "  'Tamaño (píxeles)': 640,\n",
       "  'epoch': 50.0,\n",
       "  'time': 883.183,\n",
       "  'train/box_loss': 0.51573,\n",
       "  'train/cls_loss': 0.45963,\n",
       "  'train/dfl_loss': 1.09464,\n",
       "  'metrics/precision(B)': 0.9237,\n",
       "  'metrics/recall(B)': 0.93555,\n",
       "  'metrics/mAP50(B)': 0.96995,\n",
       "  'metrics/mAP50-95(B)': 0.91132,\n",
       "  'val/box_loss': 0.48951,\n",
       "  'val/cls_loss': 0.41305,\n",
       "  'val/dfl_loss': 0.89411,\n",
       "  'lr/pg0': 1.75224e-05,\n",
       "  'lr/pg1': 1.75224e-05,\n",
       "  'lr/pg2': 1.75224e-05,\n",
       "  'Velocidad CPU ONNX (ms)': 22.33635187149048,\n",
       "  'Velocidad T4 TensorRT (ms)': None,\n",
       "  'Parámetros (M)': 2.584687,\n",
       "  'FLOPs (B)': 6393562400},\n",
       " {'Modelo': 'YOLO12n',\n",
       "  'Tamaño (píxeles)': 640,\n",
       "  'epoch': 50.0,\n",
       "  'time': 1127.04,\n",
       "  'train/box_loss': 0.51129,\n",
       "  'train/cls_loss': 0.43628,\n",
       "  'train/dfl_loss': 1.0939,\n",
       "  'metrics/precision(B)': 0.91198,\n",
       "  'metrics/recall(B)': 0.95641,\n",
       "  'metrics/mAP50(B)': 0.96774,\n",
       "  'metrics/mAP50-95(B)': 0.91137,\n",
       "  'val/box_loss': 0.47812,\n",
       "  'val/cls_loss': 0.38077,\n",
       "  'val/dfl_loss': 0.88336,\n",
       "  'lr/pg0': 1.75224e-05,\n",
       "  'lr/pg1': 1.75224e-05,\n",
       "  'lr/pg2': 1.75224e-05,\n",
       "  'Velocidad CPU ONNX (ms)': 25.344526767730713,\n",
       "  'Velocidad T4 TensorRT (ms)': None,\n",
       "  'Parámetros (M)': 2.559263,\n",
       "  'FLOPs (B)': 6409127200}]"
      ]
     },
     "metadata": {},
     "output_type": "display_data"
    }
   ],
   "source": [
    "# Guardar ruta de exortación en formato pt\n",
    "pt_export_path = export_and_copy_pt(model, model_name)\n",
    "\n",
    "# 3. Exportar a ONNX y copiarlo con el nombre deseado\n",
    "onnx_export_path = export_and_copy_onnx(model, model_name, imgsz)\n",
    "avg_time_cpu = measure_onnx_inference_speed(onnx_export_path, imgsz)\n",
    "\n",
    "# 4. Exportar a TensorRT y medir velocidad (si es posible)\n",
    "trt_engine_path = export_and_copy_trt(model, model_name, imgsz)\n",
    "avg_time_trt = measure_trt_inference_speed(trt_engine_path, n_iter=20)\n",
    "\n",
    "# 5. Calcular parámetros y definir placeholder para FLOPs\n",
    "params = compute_model_params(model)\n",
    "\n",
    "flops = compute_flops(model, imgsz)\n",
    "\n",
    "# 6. Combinar toda la información\n",
    "results_yolo12n = combine_results(model_name, imgsz, metrics_dict, avg_time_cpu, avg_time_trt, params, flops)\n",
    "\n",
    "results_list.append(results_yolo12n)\n",
    "\n",
    "results_list"
   ]
  },
  {
   "cell_type": "markdown",
   "metadata": {},
   "source": [
    "### Entrenamiento de YOLO11s"
   ]
  },
  {
   "cell_type": "code",
   "execution_count": null,
   "metadata": {},
   "outputs": [
    {
     "name": "stdout",
     "output_type": "stream",
     "text": [
      "New https://pypi.org/project/ultralytics/8.3.84 available  Update with 'pip install -U ultralytics'\n",
      "Ultralytics 8.3.82  Python-3.10.16 torch-2.5.1 CUDA:0 (NVIDIA GeForce RTX 4070 Ti SUPER, 16376MiB)\n",
      "\u001b[34m\u001b[1mengine\\trainer: \u001b[0mtask=detect, mode=train, model=yolo11s.pt, data=C:/Users/ALEX/OneDrive/Cursos/Maestra en Big Data y Data Science/Cursos-VIU/Oblgatorios/TFM/detection-diseases-coffee/combinado/data.yaml, epochs=50, time=None, patience=5, batch=16, imgsz=640, save=True, save_period=-1, cache=False, device=cuda:0, workers=8, project=None, name=train, exist_ok=True, pretrained=True, optimizer=auto, verbose=True, seed=0, deterministic=True, single_cls=False, rect=False, cos_lr=False, close_mosaic=10, resume=False, amp=True, fraction=1.0, profile=False, freeze=None, multi_scale=False, overlap_mask=True, mask_ratio=4, dropout=0.0, val=True, split=val, save_json=False, save_hybrid=False, conf=None, iou=0.7, max_det=300, half=False, dnn=False, plots=True, source=None, vid_stride=1, stream_buffer=False, visualize=False, augment=False, agnostic_nms=False, classes=None, retina_masks=False, embed=None, show=False, save_frames=False, save_txt=False, save_conf=False, save_crop=False, show_labels=True, show_conf=True, show_boxes=True, line_width=None, format=torchscript, keras=False, optimize=False, int8=False, dynamic=False, simplify=True, opset=None, workspace=None, nms=False, lr0=0.01, lrf=0.01, momentum=0.937, weight_decay=0.0005, warmup_epochs=3.0, warmup_momentum=0.8, warmup_bias_lr=0.1, box=7.5, cls=0.5, dfl=1.5, pose=12.0, kobj=1.0, nbs=64, hsv_h=0.015, hsv_s=0.7, hsv_v=0.4, degrees=0.0, translate=0.1, scale=0.5, shear=0.0, perspective=0.0, flipud=0.0, fliplr=0.5, bgr=0.0, mosaic=1.0, mixup=0.0, copy_paste=0.0, copy_paste_mode=flip, auto_augment=randaugment, erasing=0.4, crop_fraction=1.0, cfg=None, tracker=botsort.yaml, save_dir=runs\\detect\\train\n",
      "Overriding model.yaml nc=80 with nc=13\n",
      "\n",
      "                   from  n    params  module                                       arguments                     \n",
      "  0                  -1  1       928  ultralytics.nn.modules.conv.Conv             [3, 32, 3, 2]                 \n",
      "  1                  -1  1     18560  ultralytics.nn.modules.conv.Conv             [32, 64, 3, 2]                \n",
      "  2                  -1  1     26080  ultralytics.nn.modules.block.C3k2            [64, 128, 1, False, 0.25]     \n",
      "  3                  -1  1    147712  ultralytics.nn.modules.conv.Conv             [128, 128, 3, 2]              \n",
      "  4                  -1  1    103360  ultralytics.nn.modules.block.C3k2            [128, 256, 1, False, 0.25]    \n",
      "  5                  -1  1    590336  ultralytics.nn.modules.conv.Conv             [256, 256, 3, 2]              \n",
      "  6                  -1  1    346112  ultralytics.nn.modules.block.C3k2            [256, 256, 1, True]           \n",
      "  7                  -1  1   1180672  ultralytics.nn.modules.conv.Conv             [256, 512, 3, 2]              \n",
      "  8                  -1  1   1380352  ultralytics.nn.modules.block.C3k2            [512, 512, 1, True]           \n",
      "  9                  -1  1    656896  ultralytics.nn.modules.block.SPPF            [512, 512, 5]                 \n",
      " 10                  -1  1    990976  ultralytics.nn.modules.block.C2PSA           [512, 512, 1]                 \n",
      " 11                  -1  1         0  torch.nn.modules.upsampling.Upsample         [None, 2, 'nearest']          \n",
      " 12             [-1, 6]  1         0  ultralytics.nn.modules.conv.Concat           [1]                           \n",
      " 13                  -1  1    443776  ultralytics.nn.modules.block.C3k2            [768, 256, 1, False]          \n",
      " 14                  -1  1         0  torch.nn.modules.upsampling.Upsample         [None, 2, 'nearest']          \n",
      " 15             [-1, 4]  1         0  ultralytics.nn.modules.conv.Concat           [1]                           \n",
      " 16                  -1  1    127680  ultralytics.nn.modules.block.C3k2            [512, 128, 1, False]          \n",
      " 17                  -1  1    147712  ultralytics.nn.modules.conv.Conv             [128, 128, 3, 2]              \n",
      " 18            [-1, 13]  1         0  ultralytics.nn.modules.conv.Concat           [1]                           \n",
      " 19                  -1  1    345472  ultralytics.nn.modules.block.C3k2            [384, 256, 1, False]          \n",
      " 20                  -1  1    590336  ultralytics.nn.modules.conv.Conv             [256, 256, 3, 2]              \n",
      " 21            [-1, 10]  1         0  ultralytics.nn.modules.conv.Concat           [1]                           \n",
      " 22                  -1  1   1511424  ultralytics.nn.modules.block.C3k2            [768, 512, 1, True]           \n",
      " 23        [16, 19, 22]  1    824439  ultralytics.nn.modules.head.Detect           [13, [128, 256, 512]]         \n",
      "YOLO11s summary: 181 layers, 9,432,823 parameters, 9,432,807 gradients, 21.6 GFLOPs\n",
      "\n",
      "Transferred 493/499 items from pretrained weights\n",
      "Freezing layer 'model.23.dfl.conv.weight'\n",
      "\u001b[34m\u001b[1mAMP: \u001b[0mrunning Automatic Mixed Precision (AMP) checks...\n",
      "\u001b[34m\u001b[1mAMP: \u001b[0mchecks passed \n"
     ]
    },
    {
     "name": "stderr",
     "output_type": "stream",
     "text": [
      "\u001b[34m\u001b[1mtrain: \u001b[0mScanning C:\\Users\\ALEX\\OneDrive\\Cursos\\Maestría en Big Data y Data Science\\Cursos-VIU\\Oblgatorios\\TFM\\detection-diseases-coffee\\combinado\\train\\labels.cache... 1876 images, 4 backgrounds, 0 corrupt: 100%|██████████| 1876/1876 [00:00<?, ?it/s]"
     ]
    },
    {
     "name": "stdout",
     "output_type": "stream",
     "text": [
      "\u001b[34m\u001b[1mtrain: \u001b[0mWARNING  C:\\Users\\ALEX\\OneDrive\\Cursos\\Maestra en Big Data y Data Science\\Cursos-VIU\\Oblgatorios\\TFM\\detection-diseases-coffee\\combinado\\train\\images\\D2_Fe-21-_jpg.rf.edc47339d1daf7530340e96080dc2f82.jpg: 1 duplicate labels removed\n",
      "WARNING  Box and segment counts should be equal, but got len(segments) = 603, len(boxes) = 2472. To resolve this only boxes will be used and all segments will be removed. To avoid this please supply either a detect or segment dataset, not a detect-segment mixed dataset.\n"
     ]
    },
    {
     "name": "stderr",
     "output_type": "stream",
     "text": [
      "\n",
      "\u001b[34m\u001b[1mval: \u001b[0mScanning C:\\Users\\ALEX\\OneDrive\\Cursos\\Maestría en Big Data y Data Science\\Cursos-VIU\\Oblgatorios\\TFM\\detection-diseases-coffee\\combinado\\train\\labels.cache... 1876 images, 4 backgrounds, 0 corrupt: 100%|██████████| 1876/1876 [00:00<?, ?it/s]"
     ]
    },
    {
     "name": "stdout",
     "output_type": "stream",
     "text": [
      "\u001b[34m\u001b[1mtrain: \u001b[0mWARNING  C:\\Users\\ALEX\\OneDrive\\Cursos\\Maestra en Big Data y Data Science\\Cursos-VIU\\Oblgatorios\\TFM\\detection-diseases-coffee\\combinado\\train\\images\\D2_Fe-21-_jpg.rf.edc47339d1daf7530340e96080dc2f82.jpg: 1 duplicate labels removed\n",
      "WARNING  Box and segment counts should be equal, but got len(segments) = 603, len(boxes) = 2472. To resolve this only boxes will be used and all segments will be removed. To avoid this please supply either a detect or segment dataset, not a detect-segment mixed dataset.\n"
     ]
    },
    {
     "name": "stderr",
     "output_type": "stream",
     "text": [
      "\n"
     ]
    },
    {
     "name": "stdout",
     "output_type": "stream",
     "text": [
      "Plotting labels to runs\\detect\\train\\labels.jpg... \n",
      "\u001b[34m\u001b[1moptimizer:\u001b[0m 'optimizer=auto' found, ignoring 'lr0=0.01' and 'momentum=0.937' and determining best 'optimizer', 'lr0' and 'momentum' automatically... \n",
      "\u001b[34m\u001b[1moptimizer:\u001b[0m AdamW(lr=0.000588, momentum=0.9) with parameter groups 81 weight(decay=0.0), 88 weight(decay=0.0005), 87 bias(decay=0.0)\n",
      "Image sizes 640 train, 640 val\n",
      "Using 8 dataloader workers\n",
      "Logging results to \u001b[1mruns\\detect\\train\u001b[0m\n",
      "Starting training for 50 epochs...\n",
      "\n",
      "      Epoch    GPU_mem   box_loss   cls_loss   dfl_loss  Instances       Size\n"
     ]
    },
    {
     "name": "stderr",
     "output_type": "stream",
     "text": [
      "       1/50      4.02G     0.8155      2.975      1.365         13        640: 100%|██████████| 118/118 [00:15<00:00,  7.78it/s]\n",
      "                 Class     Images  Instances      Box(P          R      mAP50  mAP50-95): 100%|██████████| 59/59 [00:08<00:00,  6.69it/s]\n"
     ]
    },
    {
     "name": "stdout",
     "output_type": "stream",
     "text": [
      "                   all       1876       2472      0.531      0.574      0.512      0.428\n",
      "\n",
      "      Epoch    GPU_mem   box_loss   cls_loss   dfl_loss  Instances       Size\n"
     ]
    },
    {
     "name": "stderr",
     "output_type": "stream",
     "text": [
      "       2/50      4.12G      0.784      1.482      1.295         11        640: 100%|██████████| 118/118 [00:13<00:00,  8.78it/s]\n",
      "                 Class     Images  Instances      Box(P          R      mAP50  mAP50-95): 100%|██████████| 59/59 [00:08<00:00,  7.19it/s]\n"
     ]
    },
    {
     "name": "stdout",
     "output_type": "stream",
     "text": [
      "                   all       1876       2472       0.48      0.589      0.539      0.409\n",
      "\n",
      "      Epoch    GPU_mem   box_loss   cls_loss   dfl_loss  Instances       Size\n"
     ]
    },
    {
     "name": "stderr",
     "output_type": "stream",
     "text": [
      "       3/50      4.12G     0.7909      1.346      1.277         15        640: 100%|██████████| 118/118 [00:13<00:00,  9.07it/s]\n",
      "                 Class     Images  Instances      Box(P          R      mAP50  mAP50-95): 100%|██████████| 59/59 [00:08<00:00,  7.24it/s]"
     ]
    },
    {
     "name": "stdout",
     "output_type": "stream",
     "text": [
      "                   all       1876       2472      0.322      0.634      0.453      0.366\n"
     ]
    },
    {
     "name": "stderr",
     "output_type": "stream",
     "text": [
      "\n"
     ]
    },
    {
     "name": "stdout",
     "output_type": "stream",
     "text": [
      "\n",
      "      Epoch    GPU_mem   box_loss   cls_loss   dfl_loss  Instances       Size\n"
     ]
    },
    {
     "name": "stderr",
     "output_type": "stream",
     "text": [
      "       4/50      4.09G     0.7624      1.232      1.265         10        640: 100%|██████████| 118/118 [00:12<00:00,  9.16it/s]\n",
      "                 Class     Images  Instances      Box(P          R      mAP50  mAP50-95): 100%|██████████| 59/59 [00:08<00:00,  7.27it/s]"
     ]
    },
    {
     "name": "stdout",
     "output_type": "stream",
     "text": [
      "                   all       1876       2472      0.604      0.573      0.632       0.52\n"
     ]
    },
    {
     "name": "stderr",
     "output_type": "stream",
     "text": [
      "\n"
     ]
    },
    {
     "name": "stdout",
     "output_type": "stream",
     "text": [
      "\n",
      "      Epoch    GPU_mem   box_loss   cls_loss   dfl_loss  Instances       Size\n"
     ]
    },
    {
     "name": "stderr",
     "output_type": "stream",
     "text": [
      "       5/50       4.1G     0.7698        1.2      1.259         10        640: 100%|██████████| 118/118 [00:12<00:00,  9.11it/s]\n",
      "                 Class     Images  Instances      Box(P          R      mAP50  mAP50-95): 100%|██████████| 59/59 [00:08<00:00,  7.29it/s]"
     ]
    },
    {
     "name": "stdout",
     "output_type": "stream",
     "text": [
      "                   all       1876       2472      0.726      0.486      0.585      0.447\n"
     ]
    },
    {
     "name": "stderr",
     "output_type": "stream",
     "text": [
      "\n"
     ]
    },
    {
     "name": "stdout",
     "output_type": "stream",
     "text": [
      "\n",
      "      Epoch    GPU_mem   box_loss   cls_loss   dfl_loss  Instances       Size\n"
     ]
    },
    {
     "name": "stderr",
     "output_type": "stream",
     "text": [
      "       6/50      4.08G     0.7246      1.135      1.247         17        640: 100%|██████████| 118/118 [00:12<00:00,  9.16it/s]\n",
      "                 Class     Images  Instances      Box(P          R      mAP50  mAP50-95): 100%|██████████| 59/59 [00:08<00:00,  7.27it/s]"
     ]
    },
    {
     "name": "stdout",
     "output_type": "stream",
     "text": [
      "                   all       1876       2472      0.533       0.64      0.636      0.542\n"
     ]
    },
    {
     "name": "stderr",
     "output_type": "stream",
     "text": [
      "\n"
     ]
    },
    {
     "name": "stdout",
     "output_type": "stream",
     "text": [
      "\n",
      "      Epoch    GPU_mem   box_loss   cls_loss   dfl_loss  Instances       Size\n"
     ]
    },
    {
     "name": "stderr",
     "output_type": "stream",
     "text": [
      "       7/50      4.11G       0.73      1.103      1.241         10        640: 100%|██████████| 118/118 [00:12<00:00,  9.13it/s]\n",
      "                 Class     Images  Instances      Box(P          R      mAP50  mAP50-95): 100%|██████████| 59/59 [00:08<00:00,  7.32it/s]"
     ]
    },
    {
     "name": "stdout",
     "output_type": "stream",
     "text": [
      "                   all       1876       2472      0.601      0.736      0.724      0.618\n"
     ]
    },
    {
     "name": "stderr",
     "output_type": "stream",
     "text": [
      "\n"
     ]
    },
    {
     "name": "stdout",
     "output_type": "stream",
     "text": [
      "\n",
      "      Epoch    GPU_mem   box_loss   cls_loss   dfl_loss  Instances       Size\n"
     ]
    },
    {
     "name": "stderr",
     "output_type": "stream",
     "text": [
      "       8/50      4.09G     0.7266      1.024      1.241         10        640: 100%|██████████| 118/118 [00:12<00:00,  9.13it/s]\n",
      "                 Class     Images  Instances      Box(P          R      mAP50  mAP50-95): 100%|██████████| 59/59 [00:08<00:00,  7.30it/s]"
     ]
    },
    {
     "name": "stdout",
     "output_type": "stream",
     "text": [
      "                   all       1876       2472      0.619      0.761      0.723      0.628\n"
     ]
    },
    {
     "name": "stderr",
     "output_type": "stream",
     "text": [
      "\n"
     ]
    },
    {
     "name": "stdout",
     "output_type": "stream",
     "text": [
      "\n",
      "      Epoch    GPU_mem   box_loss   cls_loss   dfl_loss  Instances       Size\n"
     ]
    },
    {
     "name": "stderr",
     "output_type": "stream",
     "text": [
      "       9/50       4.1G     0.6886      1.027      1.214         10        640: 100%|██████████| 118/118 [00:12<00:00,  9.13it/s]\n",
      "                 Class     Images  Instances      Box(P          R      mAP50  mAP50-95): 100%|██████████| 59/59 [00:08<00:00,  7.26it/s]"
     ]
    },
    {
     "name": "stdout",
     "output_type": "stream",
     "text": [
      "                   all       1876       2472      0.608      0.774      0.756       0.66\n"
     ]
    },
    {
     "name": "stderr",
     "output_type": "stream",
     "text": [
      "\n"
     ]
    },
    {
     "name": "stdout",
     "output_type": "stream",
     "text": [
      "\n",
      "      Epoch    GPU_mem   box_loss   cls_loss   dfl_loss  Instances       Size\n"
     ]
    },
    {
     "name": "stderr",
     "output_type": "stream",
     "text": [
      "      10/50      4.08G     0.6896     0.9474      1.212         11        640: 100%|██████████| 118/118 [00:12<00:00,  9.14it/s]\n",
      "                 Class     Images  Instances      Box(P          R      mAP50  mAP50-95): 100%|██████████| 59/59 [00:08<00:00,  7.28it/s]"
     ]
    },
    {
     "name": "stdout",
     "output_type": "stream",
     "text": [
      "                   all       1876       2472      0.644      0.774      0.763      0.673\n"
     ]
    },
    {
     "name": "stderr",
     "output_type": "stream",
     "text": [
      "\n"
     ]
    },
    {
     "name": "stdout",
     "output_type": "stream",
     "text": [
      "\n",
      "      Epoch    GPU_mem   box_loss   cls_loss   dfl_loss  Instances       Size\n"
     ]
    },
    {
     "name": "stderr",
     "output_type": "stream",
     "text": [
      "      11/50      4.11G     0.6935     0.9683      1.209         16        640: 100%|██████████| 118/118 [00:12<00:00,  9.11it/s]\n",
      "                 Class     Images  Instances      Box(P          R      mAP50  mAP50-95): 100%|██████████| 59/59 [00:08<00:00,  7.32it/s]"
     ]
    },
    {
     "name": "stdout",
     "output_type": "stream",
     "text": [
      "                   all       1876       2472      0.669      0.728      0.773      0.676\n"
     ]
    },
    {
     "name": "stderr",
     "output_type": "stream",
     "text": [
      "\n"
     ]
    },
    {
     "name": "stdout",
     "output_type": "stream",
     "text": [
      "\n",
      "      Epoch    GPU_mem   box_loss   cls_loss   dfl_loss  Instances       Size\n"
     ]
    },
    {
     "name": "stderr",
     "output_type": "stream",
     "text": [
      "      12/50      4.08G     0.6622     0.9214      1.192          8        640: 100%|██████████| 118/118 [00:12<00:00,  9.15it/s]\n",
      "                 Class     Images  Instances      Box(P          R      mAP50  mAP50-95): 100%|██████████| 59/59 [00:08<00:00,  7.20it/s]"
     ]
    },
    {
     "name": "stdout",
     "output_type": "stream",
     "text": [
      "                   all       1876       2472      0.731      0.786      0.805      0.702\n"
     ]
    },
    {
     "name": "stderr",
     "output_type": "stream",
     "text": [
      "\n"
     ]
    },
    {
     "name": "stdout",
     "output_type": "stream",
     "text": [
      "\n",
      "      Epoch    GPU_mem   box_loss   cls_loss   dfl_loss  Instances       Size\n"
     ]
    },
    {
     "name": "stderr",
     "output_type": "stream",
     "text": [
      "      13/50      4.11G     0.6749     0.9292      1.209         13        640: 100%|██████████| 118/118 [00:12<00:00,  9.14it/s]\n",
      "                 Class     Images  Instances      Box(P          R      mAP50  mAP50-95): 100%|██████████| 59/59 [00:08<00:00,  7.27it/s]"
     ]
    },
    {
     "name": "stdout",
     "output_type": "stream",
     "text": [
      "                   all       1876       2472      0.691       0.83      0.813       0.72\n"
     ]
    },
    {
     "name": "stderr",
     "output_type": "stream",
     "text": [
      "\n"
     ]
    },
    {
     "name": "stdout",
     "output_type": "stream",
     "text": [
      "\n",
      "      Epoch    GPU_mem   box_loss   cls_loss   dfl_loss  Instances       Size\n"
     ]
    },
    {
     "name": "stderr",
     "output_type": "stream",
     "text": [
      "      14/50      4.08G     0.6649      0.888      1.186         12        640: 100%|██████████| 118/118 [00:12<00:00,  9.14it/s]\n",
      "                 Class     Images  Instances      Box(P          R      mAP50  mAP50-95): 100%|██████████| 59/59 [00:08<00:00,  7.35it/s]"
     ]
    },
    {
     "name": "stdout",
     "output_type": "stream",
     "text": [
      "                   all       1876       2472        0.7      0.787      0.792        0.7\n"
     ]
    },
    {
     "name": "stderr",
     "output_type": "stream",
     "text": [
      "\n"
     ]
    },
    {
     "name": "stdout",
     "output_type": "stream",
     "text": [
      "\n",
      "      Epoch    GPU_mem   box_loss   cls_loss   dfl_loss  Instances       Size\n"
     ]
    },
    {
     "name": "stderr",
     "output_type": "stream",
     "text": [
      "      15/50      4.09G     0.6407     0.8621      1.181         11        640: 100%|██████████| 118/118 [00:12<00:00,  9.11it/s]\n",
      "                 Class     Images  Instances      Box(P          R      mAP50  mAP50-95): 100%|██████████| 59/59 [00:08<00:00,  7.31it/s]"
     ]
    },
    {
     "name": "stdout",
     "output_type": "stream",
     "text": [
      "                   all       1876       2472      0.677      0.797      0.789      0.688\n"
     ]
    },
    {
     "name": "stderr",
     "output_type": "stream",
     "text": [
      "\n"
     ]
    },
    {
     "name": "stdout",
     "output_type": "stream",
     "text": [
      "\n",
      "      Epoch    GPU_mem   box_loss   cls_loss   dfl_loss  Instances       Size\n"
     ]
    },
    {
     "name": "stderr",
     "output_type": "stream",
     "text": [
      "      16/50      4.08G     0.6442     0.8773      1.181          9        640: 100%|██████████| 118/118 [00:12<00:00,  9.15it/s]\n",
      "                 Class     Images  Instances      Box(P          R      mAP50  mAP50-95): 100%|██████████| 59/59 [00:08<00:00,  7.29it/s]"
     ]
    },
    {
     "name": "stdout",
     "output_type": "stream",
     "text": [
      "                   all       1876       2472      0.707      0.758      0.826       0.73\n"
     ]
    },
    {
     "name": "stderr",
     "output_type": "stream",
     "text": [
      "\n"
     ]
    },
    {
     "name": "stdout",
     "output_type": "stream",
     "text": [
      "\n",
      "      Epoch    GPU_mem   box_loss   cls_loss   dfl_loss  Instances       Size\n"
     ]
    },
    {
     "name": "stderr",
     "output_type": "stream",
     "text": [
      "      17/50      4.09G     0.6677     0.8448      1.189         11        640: 100%|██████████| 118/118 [00:13<00:00,  9.07it/s]\n",
      "                 Class     Images  Instances      Box(P          R      mAP50  mAP50-95): 100%|██████████| 59/59 [00:08<00:00,  7.31it/s]"
     ]
    },
    {
     "name": "stdout",
     "output_type": "stream",
     "text": [
      "                   all       1876       2472      0.742        0.8      0.822      0.731\n"
     ]
    },
    {
     "name": "stderr",
     "output_type": "stream",
     "text": [
      "\n"
     ]
    },
    {
     "name": "stdout",
     "output_type": "stream",
     "text": [
      "\n",
      "      Epoch    GPU_mem   box_loss   cls_loss   dfl_loss  Instances       Size\n"
     ]
    },
    {
     "name": "stderr",
     "output_type": "stream",
     "text": [
      "      18/50      4.09G     0.6317     0.8357       1.17         14        640: 100%|██████████| 118/118 [00:12<00:00,  9.13it/s]\n",
      "                 Class     Images  Instances      Box(P          R      mAP50  mAP50-95): 100%|██████████| 59/59 [00:08<00:00,  7.30it/s]"
     ]
    },
    {
     "name": "stdout",
     "output_type": "stream",
     "text": [
      "                   all       1876       2472       0.75      0.798      0.836      0.748\n"
     ]
    },
    {
     "name": "stderr",
     "output_type": "stream",
     "text": [
      "\n"
     ]
    },
    {
     "name": "stdout",
     "output_type": "stream",
     "text": [
      "\n",
      "      Epoch    GPU_mem   box_loss   cls_loss   dfl_loss  Instances       Size\n"
     ]
    },
    {
     "name": "stderr",
     "output_type": "stream",
     "text": [
      "      19/50      4.11G     0.6235     0.8142      1.164         10        640: 100%|██████████| 118/118 [00:13<00:00,  9.07it/s]\n",
      "                 Class     Images  Instances      Box(P          R      mAP50  mAP50-95): 100%|██████████| 59/59 [00:08<00:00,  7.24it/s]"
     ]
    },
    {
     "name": "stdout",
     "output_type": "stream",
     "text": [
      "                   all       1876       2472      0.775      0.812      0.832      0.745\n"
     ]
    },
    {
     "name": "stderr",
     "output_type": "stream",
     "text": [
      "\n"
     ]
    },
    {
     "name": "stdout",
     "output_type": "stream",
     "text": [
      "\n",
      "      Epoch    GPU_mem   box_loss   cls_loss   dfl_loss  Instances       Size\n"
     ]
    },
    {
     "name": "stderr",
     "output_type": "stream",
     "text": [
      "      20/50      4.09G     0.6073     0.7828      1.154         16        640: 100%|██████████| 118/118 [00:12<00:00,  9.12it/s]\n",
      "                 Class     Images  Instances      Box(P          R      mAP50  mAP50-95): 100%|██████████| 59/59 [00:08<00:00,  7.34it/s]"
     ]
    },
    {
     "name": "stdout",
     "output_type": "stream",
     "text": [
      "                   all       1876       2472      0.726        0.8      0.833      0.746\n"
     ]
    },
    {
     "name": "stderr",
     "output_type": "stream",
     "text": [
      "\n"
     ]
    },
    {
     "name": "stdout",
     "output_type": "stream",
     "text": [
      "\n",
      "      Epoch    GPU_mem   box_loss   cls_loss   dfl_loss  Instances       Size\n"
     ]
    },
    {
     "name": "stderr",
     "output_type": "stream",
     "text": [
      "      21/50       4.1G     0.6068     0.7684       1.15         12        640: 100%|██████████| 118/118 [00:12<00:00,  9.13it/s]\n",
      "                 Class     Images  Instances      Box(P          R      mAP50  mAP50-95): 100%|██████████| 59/59 [00:08<00:00,  7.33it/s]"
     ]
    },
    {
     "name": "stdout",
     "output_type": "stream",
     "text": [
      "                   all       1876       2472      0.735       0.78      0.811      0.732\n"
     ]
    },
    {
     "name": "stderr",
     "output_type": "stream",
     "text": [
      "\n"
     ]
    },
    {
     "name": "stdout",
     "output_type": "stream",
     "text": [
      "\n",
      "      Epoch    GPU_mem   box_loss   cls_loss   dfl_loss  Instances       Size\n"
     ]
    },
    {
     "name": "stderr",
     "output_type": "stream",
     "text": [
      "      22/50      4.08G     0.6163     0.7836      1.156         19        640: 100%|██████████| 118/118 [00:12<00:00,  9.14it/s]\n",
      "                 Class     Images  Instances      Box(P          R      mAP50  mAP50-95): 100%|██████████| 59/59 [00:08<00:00,  7.28it/s]"
     ]
    },
    {
     "name": "stdout",
     "output_type": "stream",
     "text": [
      "                   all       1876       2472      0.778      0.829      0.871      0.784\n"
     ]
    },
    {
     "name": "stderr",
     "output_type": "stream",
     "text": [
      "\n"
     ]
    },
    {
     "name": "stdout",
     "output_type": "stream",
     "text": [
      "\n",
      "      Epoch    GPU_mem   box_loss   cls_loss   dfl_loss  Instances       Size\n"
     ]
    },
    {
     "name": "stderr",
     "output_type": "stream",
     "text": [
      "      23/50       4.1G     0.6114     0.7484      1.158         13        640: 100%|██████████| 118/118 [00:13<00:00,  9.05it/s]\n",
      "                 Class     Images  Instances      Box(P          R      mAP50  mAP50-95): 100%|██████████| 59/59 [00:08<00:00,  7.19it/s]"
     ]
    },
    {
     "name": "stdout",
     "output_type": "stream",
     "text": [
      "                   all       1876       2472        0.8      0.845      0.879      0.796\n"
     ]
    },
    {
     "name": "stderr",
     "output_type": "stream",
     "text": [
      "\n"
     ]
    },
    {
     "name": "stdout",
     "output_type": "stream",
     "text": [
      "\n",
      "      Epoch    GPU_mem   box_loss   cls_loss   dfl_loss  Instances       Size\n"
     ]
    },
    {
     "name": "stderr",
     "output_type": "stream",
     "text": [
      "      24/50      4.09G     0.6157     0.7438      1.155          8        640: 100%|██████████| 118/118 [00:13<00:00,  9.08it/s]\n",
      "                 Class     Images  Instances      Box(P          R      mAP50  mAP50-95): 100%|██████████| 59/59 [00:08<00:00,  7.28it/s]"
     ]
    },
    {
     "name": "stdout",
     "output_type": "stream",
     "text": [
      "                   all       1876       2472      0.831      0.837      0.883      0.811\n"
     ]
    },
    {
     "name": "stderr",
     "output_type": "stream",
     "text": [
      "\n"
     ]
    },
    {
     "name": "stdout",
     "output_type": "stream",
     "text": [
      "\n",
      "      Epoch    GPU_mem   box_loss   cls_loss   dfl_loss  Instances       Size\n"
     ]
    },
    {
     "name": "stderr",
     "output_type": "stream",
     "text": [
      "      25/50      4.09G     0.6299     0.7451      1.161         14        640: 100%|██████████| 118/118 [00:12<00:00,  9.09it/s]\n",
      "                 Class     Images  Instances      Box(P          R      mAP50  mAP50-95): 100%|██████████| 59/59 [00:08<00:00,  7.26it/s]"
     ]
    },
    {
     "name": "stdout",
     "output_type": "stream",
     "text": [
      "                   all       1876       2472      0.799      0.808      0.846      0.773\n"
     ]
    },
    {
     "name": "stderr",
     "output_type": "stream",
     "text": [
      "\n"
     ]
    },
    {
     "name": "stdout",
     "output_type": "stream",
     "text": [
      "\n",
      "      Epoch    GPU_mem   box_loss   cls_loss   dfl_loss  Instances       Size\n"
     ]
    },
    {
     "name": "stderr",
     "output_type": "stream",
     "text": [
      "      26/50      4.09G     0.5939     0.7363      1.144         13        640: 100%|██████████| 118/118 [00:12<00:00,  9.11it/s]\n",
      "                 Class     Images  Instances      Box(P          R      mAP50  mAP50-95): 100%|██████████| 59/59 [00:08<00:00,  7.21it/s]"
     ]
    },
    {
     "name": "stdout",
     "output_type": "stream",
     "text": [
      "                   all       1876       2472      0.743      0.851      0.869      0.793\n"
     ]
    },
    {
     "name": "stderr",
     "output_type": "stream",
     "text": [
      "\n"
     ]
    },
    {
     "name": "stdout",
     "output_type": "stream",
     "text": [
      "\n",
      "      Epoch    GPU_mem   box_loss   cls_loss   dfl_loss  Instances       Size\n"
     ]
    },
    {
     "name": "stderr",
     "output_type": "stream",
     "text": [
      "      27/50      4.11G     0.5686     0.7012      1.132         15        640: 100%|██████████| 118/118 [00:12<00:00,  9.13it/s]\n",
      "                 Class     Images  Instances      Box(P          R      mAP50  mAP50-95): 100%|██████████| 59/59 [00:07<00:00,  7.40it/s]"
     ]
    },
    {
     "name": "stdout",
     "output_type": "stream",
     "text": [
      "                   all       1876       2472      0.814      0.855      0.891      0.814\n"
     ]
    },
    {
     "name": "stderr",
     "output_type": "stream",
     "text": [
      "\n"
     ]
    },
    {
     "name": "stdout",
     "output_type": "stream",
     "text": [
      "\n",
      "      Epoch    GPU_mem   box_loss   cls_loss   dfl_loss  Instances       Size\n"
     ]
    },
    {
     "name": "stderr",
     "output_type": "stream",
     "text": [
      "      28/50      4.09G     0.5899      0.695       1.14          9        640: 100%|██████████| 118/118 [00:12<00:00,  9.13it/s]\n",
      "                 Class     Images  Instances      Box(P          R      mAP50  mAP50-95): 100%|██████████| 59/59 [00:08<00:00,  7.25it/s]"
     ]
    },
    {
     "name": "stdout",
     "output_type": "stream",
     "text": [
      "                   all       1876       2472      0.857      0.854       0.91      0.835\n"
     ]
    },
    {
     "name": "stderr",
     "output_type": "stream",
     "text": [
      "\n"
     ]
    },
    {
     "name": "stdout",
     "output_type": "stream",
     "text": [
      "\n",
      "      Epoch    GPU_mem   box_loss   cls_loss   dfl_loss  Instances       Size\n"
     ]
    },
    {
     "name": "stderr",
     "output_type": "stream",
     "text": [
      "      29/50      4.11G     0.5674     0.6857      1.128          9        640: 100%|██████████| 118/118 [00:12<00:00,  9.12it/s]\n",
      "                 Class     Images  Instances      Box(P          R      mAP50  mAP50-95): 100%|██████████| 59/59 [00:08<00:00,  7.33it/s]"
     ]
    },
    {
     "name": "stdout",
     "output_type": "stream",
     "text": [
      "                   all       1876       2472      0.851      0.828      0.894      0.818\n"
     ]
    },
    {
     "name": "stderr",
     "output_type": "stream",
     "text": [
      "\n"
     ]
    },
    {
     "name": "stdout",
     "output_type": "stream",
     "text": [
      "\n",
      "      Epoch    GPU_mem   box_loss   cls_loss   dfl_loss  Instances       Size\n"
     ]
    },
    {
     "name": "stderr",
     "output_type": "stream",
     "text": [
      "      30/50      4.09G     0.5772      0.679      1.134         12        640: 100%|██████████| 118/118 [00:12<00:00,  9.12it/s]\n",
      "                 Class     Images  Instances      Box(P          R      mAP50  mAP50-95): 100%|██████████| 59/59 [00:08<00:00,  7.34it/s]"
     ]
    },
    {
     "name": "stdout",
     "output_type": "stream",
     "text": [
      "                   all       1876       2472      0.826      0.871      0.897      0.823\n"
     ]
    },
    {
     "name": "stderr",
     "output_type": "stream",
     "text": [
      "\n"
     ]
    },
    {
     "name": "stdout",
     "output_type": "stream",
     "text": [
      "\n",
      "      Epoch    GPU_mem   box_loss   cls_loss   dfl_loss  Instances       Size\n"
     ]
    },
    {
     "name": "stderr",
     "output_type": "stream",
     "text": [
      "      31/50       4.1G     0.5554     0.6534      1.121          9        640: 100%|██████████| 118/118 [00:13<00:00,  9.05it/s]\n",
      "                 Class     Images  Instances      Box(P          R      mAP50  mAP50-95): 100%|██████████| 59/59 [00:08<00:00,  7.31it/s]"
     ]
    },
    {
     "name": "stdout",
     "output_type": "stream",
     "text": [
      "                   all       1876       2472      0.857      0.883       0.92      0.842\n"
     ]
    },
    {
     "name": "stderr",
     "output_type": "stream",
     "text": [
      "\n"
     ]
    },
    {
     "name": "stdout",
     "output_type": "stream",
     "text": [
      "\n",
      "      Epoch    GPU_mem   box_loss   cls_loss   dfl_loss  Instances       Size\n"
     ]
    },
    {
     "name": "stderr",
     "output_type": "stream",
     "text": [
      "      32/50      4.09G     0.5636     0.6722      1.116         12        640: 100%|██████████| 118/118 [00:12<00:00,  9.12it/s]\n",
      "                 Class     Images  Instances      Box(P          R      mAP50  mAP50-95): 100%|██████████| 59/59 [00:08<00:00,  7.28it/s]"
     ]
    },
    {
     "name": "stdout",
     "output_type": "stream",
     "text": [
      "                   all       1876       2472      0.838      0.881      0.915      0.839\n"
     ]
    },
    {
     "name": "stderr",
     "output_type": "stream",
     "text": [
      "\n"
     ]
    },
    {
     "name": "stdout",
     "output_type": "stream",
     "text": [
      "\n",
      "      Epoch    GPU_mem   box_loss   cls_loss   dfl_loss  Instances       Size\n"
     ]
    },
    {
     "name": "stderr",
     "output_type": "stream",
     "text": [
      "      33/50       4.1G     0.5563     0.6299       1.12         10        640: 100%|██████████| 118/118 [00:12<00:00,  9.14it/s]\n",
      "                 Class     Images  Instances      Box(P          R      mAP50  mAP50-95): 100%|██████████| 59/59 [00:08<00:00,  7.37it/s]"
     ]
    },
    {
     "name": "stdout",
     "output_type": "stream",
     "text": [
      "                   all       1876       2472      0.847      0.865      0.908       0.84\n"
     ]
    },
    {
     "name": "stderr",
     "output_type": "stream",
     "text": [
      "\n"
     ]
    },
    {
     "name": "stdout",
     "output_type": "stream",
     "text": [
      "\n",
      "      Epoch    GPU_mem   box_loss   cls_loss   dfl_loss  Instances       Size\n"
     ]
    },
    {
     "name": "stderr",
     "output_type": "stream",
     "text": [
      "      34/50      4.08G     0.5616     0.6488      1.124         10        640: 100%|██████████| 118/118 [00:12<00:00,  9.17it/s]\n",
      "                 Class     Images  Instances      Box(P          R      mAP50  mAP50-95): 100%|██████████| 59/59 [00:08<00:00,  7.35it/s]"
     ]
    },
    {
     "name": "stdout",
     "output_type": "stream",
     "text": [
      "                   all       1876       2472      0.892      0.862      0.925      0.851\n"
     ]
    },
    {
     "name": "stderr",
     "output_type": "stream",
     "text": [
      "\n"
     ]
    },
    {
     "name": "stdout",
     "output_type": "stream",
     "text": [
      "\n",
      "      Epoch    GPU_mem   box_loss   cls_loss   dfl_loss  Instances       Size\n"
     ]
    },
    {
     "name": "stderr",
     "output_type": "stream",
     "text": [
      "      35/50       4.1G     0.5493     0.6103      1.116          9        640: 100%|██████████| 118/118 [00:12<00:00,  9.14it/s]\n",
      "                 Class     Images  Instances      Box(P          R      mAP50  mAP50-95): 100%|██████████| 59/59 [00:08<00:00,  7.32it/s]"
     ]
    },
    {
     "name": "stdout",
     "output_type": "stream",
     "text": [
      "                   all       1876       2472      0.853      0.855      0.901       0.83\n"
     ]
    },
    {
     "name": "stderr",
     "output_type": "stream",
     "text": [
      "\n"
     ]
    },
    {
     "name": "stdout",
     "output_type": "stream",
     "text": [
      "\n",
      "      Epoch    GPU_mem   box_loss   cls_loss   dfl_loss  Instances       Size\n"
     ]
    },
    {
     "name": "stderr",
     "output_type": "stream",
     "text": [
      "      36/50      4.09G     0.5621     0.6167      1.114         13        640: 100%|██████████| 118/118 [00:12<00:00,  9.15it/s]\n",
      "                 Class     Images  Instances      Box(P          R      mAP50  mAP50-95): 100%|██████████| 59/59 [00:08<00:00,  7.28it/s]"
     ]
    },
    {
     "name": "stdout",
     "output_type": "stream",
     "text": [
      "                   all       1876       2472      0.879      0.865      0.921      0.847\n"
     ]
    },
    {
     "name": "stderr",
     "output_type": "stream",
     "text": [
      "\n"
     ]
    },
    {
     "name": "stdout",
     "output_type": "stream",
     "text": [
      "\n",
      "      Epoch    GPU_mem   box_loss   cls_loss   dfl_loss  Instances       Size\n"
     ]
    },
    {
     "name": "stderr",
     "output_type": "stream",
     "text": [
      "      37/50      4.09G     0.5486      0.617      1.112         12        640: 100%|██████████| 118/118 [00:12<00:00,  9.15it/s]\n",
      "                 Class     Images  Instances      Box(P          R      mAP50  mAP50-95): 100%|██████████| 59/59 [00:07<00:00,  7.39it/s]"
     ]
    },
    {
     "name": "stdout",
     "output_type": "stream",
     "text": [
      "                   all       1876       2472      0.889      0.873      0.932      0.861\n"
     ]
    },
    {
     "name": "stderr",
     "output_type": "stream",
     "text": [
      "\n"
     ]
    },
    {
     "name": "stdout",
     "output_type": "stream",
     "text": [
      "\n",
      "      Epoch    GPU_mem   box_loss   cls_loss   dfl_loss  Instances       Size\n"
     ]
    },
    {
     "name": "stderr",
     "output_type": "stream",
     "text": [
      "      38/50      4.09G     0.5503      0.588      1.106         10        640: 100%|██████████| 118/118 [00:12<00:00,  9.09it/s]\n",
      "                 Class     Images  Instances      Box(P          R      mAP50  mAP50-95): 100%|██████████| 59/59 [00:08<00:00,  7.36it/s]"
     ]
    },
    {
     "name": "stdout",
     "output_type": "stream",
     "text": [
      "                   all       1876       2472      0.894      0.879      0.928      0.861\n"
     ]
    },
    {
     "name": "stderr",
     "output_type": "stream",
     "text": [
      "\n"
     ]
    },
    {
     "name": "stdout",
     "output_type": "stream",
     "text": [
      "\n",
      "      Epoch    GPU_mem   box_loss   cls_loss   dfl_loss  Instances       Size\n"
     ]
    },
    {
     "name": "stderr",
     "output_type": "stream",
     "text": [
      "      39/50      4.09G     0.5377     0.5828      1.107         10        640: 100%|██████████| 118/118 [00:12<00:00,  9.11it/s]\n",
      "                 Class     Images  Instances      Box(P          R      mAP50  mAP50-95): 100%|██████████| 59/59 [00:08<00:00,  7.36it/s]"
     ]
    },
    {
     "name": "stdout",
     "output_type": "stream",
     "text": [
      "                   all       1876       2472      0.883      0.889      0.941      0.874\n"
     ]
    },
    {
     "name": "stderr",
     "output_type": "stream",
     "text": [
      "\n"
     ]
    },
    {
     "name": "stdout",
     "output_type": "stream",
     "text": [
      "\n",
      "      Epoch    GPU_mem   box_loss   cls_loss   dfl_loss  Instances       Size\n"
     ]
    },
    {
     "name": "stderr",
     "output_type": "stream",
     "text": [
      "      40/50      4.08G     0.5397     0.5787      1.103         12        640: 100%|██████████| 118/118 [00:12<00:00,  9.14it/s]\n",
      "                 Class     Images  Instances      Box(P          R      mAP50  mAP50-95): 100%|██████████| 59/59 [00:08<00:00,  7.31it/s]"
     ]
    },
    {
     "name": "stdout",
     "output_type": "stream",
     "text": [
      "                   all       1876       2472      0.898      0.892       0.94      0.875\n"
     ]
    },
    {
     "name": "stderr",
     "output_type": "stream",
     "text": [
      "\n"
     ]
    },
    {
     "name": "stdout",
     "output_type": "stream",
     "text": [
      "Closing dataloader mosaic\n",
      "\n",
      "      Epoch    GPU_mem   box_loss   cls_loss   dfl_loss  Instances       Size\n"
     ]
    },
    {
     "name": "stderr",
     "output_type": "stream",
     "text": [
      "      41/50      4.09G     0.5678     0.5034      1.122         10        640: 100%|██████████| 118/118 [00:13<00:00,  9.07it/s]\n",
      "                 Class     Images  Instances      Box(P          R      mAP50  mAP50-95): 100%|██████████| 59/59 [00:07<00:00,  7.41it/s]"
     ]
    },
    {
     "name": "stdout",
     "output_type": "stream",
     "text": [
      "                   all       1876       2472      0.888      0.893      0.942      0.874\n"
     ]
    },
    {
     "name": "stderr",
     "output_type": "stream",
     "text": [
      "\n"
     ]
    },
    {
     "name": "stdout",
     "output_type": "stream",
     "text": [
      "\n",
      "      Epoch    GPU_mem   box_loss   cls_loss   dfl_loss  Instances       Size\n"
     ]
    },
    {
     "name": "stderr",
     "output_type": "stream",
     "text": [
      "      42/50      4.08G     0.5533     0.4885      1.122          4        640: 100%|██████████| 118/118 [00:12<00:00,  9.33it/s]\n",
      "                 Class     Images  Instances      Box(P          R      mAP50  mAP50-95): 100%|██████████| 59/59 [00:08<00:00,  7.26it/s]"
     ]
    },
    {
     "name": "stdout",
     "output_type": "stream",
     "text": [
      "                   all       1876       2472      0.875      0.898      0.943      0.875\n"
     ]
    },
    {
     "name": "stderr",
     "output_type": "stream",
     "text": [
      "\n"
     ]
    },
    {
     "name": "stdout",
     "output_type": "stream",
     "text": [
      "\n",
      "      Epoch    GPU_mem   box_loss   cls_loss   dfl_loss  Instances       Size\n"
     ]
    },
    {
     "name": "stderr",
     "output_type": "stream",
     "text": [
      "      43/50      4.09G     0.5506     0.4667      1.118          4        640: 100%|██████████| 118/118 [00:12<00:00,  9.26it/s]\n",
      "                 Class     Images  Instances      Box(P          R      mAP50  mAP50-95): 100%|██████████| 59/59 [00:08<00:00,  7.30it/s]"
     ]
    },
    {
     "name": "stdout",
     "output_type": "stream",
     "text": [
      "                   all       1876       2472       0.88      0.897      0.948      0.881\n"
     ]
    },
    {
     "name": "stderr",
     "output_type": "stream",
     "text": [
      "\n"
     ]
    },
    {
     "name": "stdout",
     "output_type": "stream",
     "text": [
      "\n",
      "      Epoch    GPU_mem   box_loss   cls_loss   dfl_loss  Instances       Size\n"
     ]
    },
    {
     "name": "stderr",
     "output_type": "stream",
     "text": [
      "      44/50      4.07G     0.5402     0.4545      1.107          8        640: 100%|██████████| 118/118 [00:12<00:00,  9.29it/s]\n",
      "                 Class     Images  Instances      Box(P          R      mAP50  mAP50-95): 100%|██████████| 59/59 [00:08<00:00,  7.25it/s]"
     ]
    },
    {
     "name": "stdout",
     "output_type": "stream",
     "text": [
      "                   all       1876       2472      0.899      0.895      0.945      0.884\n"
     ]
    },
    {
     "name": "stderr",
     "output_type": "stream",
     "text": [
      "\n"
     ]
    },
    {
     "name": "stdout",
     "output_type": "stream",
     "text": [
      "\n",
      "      Epoch    GPU_mem   box_loss   cls_loss   dfl_loss  Instances       Size\n"
     ]
    },
    {
     "name": "stderr",
     "output_type": "stream",
     "text": [
      "      45/50      4.09G     0.5435     0.4478      1.097          8        640: 100%|██████████| 118/118 [00:12<00:00,  9.25it/s]\n",
      "                 Class     Images  Instances      Box(P          R      mAP50  mAP50-95): 100%|██████████| 59/59 [00:07<00:00,  7.39it/s]"
     ]
    },
    {
     "name": "stdout",
     "output_type": "stream",
     "text": [
      "                   all       1876       2472      0.902      0.909      0.954      0.894\n"
     ]
    },
    {
     "name": "stderr",
     "output_type": "stream",
     "text": [
      "\n"
     ]
    },
    {
     "name": "stdout",
     "output_type": "stream",
     "text": [
      "\n",
      "      Epoch    GPU_mem   box_loss   cls_loss   dfl_loss  Instances       Size\n"
     ]
    },
    {
     "name": "stderr",
     "output_type": "stream",
     "text": [
      "      46/50      4.07G     0.5226     0.4321        1.1          5        640: 100%|██████████| 118/118 [00:12<00:00,  9.30it/s]\n",
      "                 Class     Images  Instances      Box(P          R      mAP50  mAP50-95): 100%|██████████| 59/59 [00:08<00:00,  7.30it/s]"
     ]
    },
    {
     "name": "stdout",
     "output_type": "stream",
     "text": [
      "                   all       1876       2472      0.907      0.918      0.957      0.895\n"
     ]
    },
    {
     "name": "stderr",
     "output_type": "stream",
     "text": [
      "\n"
     ]
    },
    {
     "name": "stdout",
     "output_type": "stream",
     "text": [
      "\n",
      "      Epoch    GPU_mem   box_loss   cls_loss   dfl_loss  Instances       Size\n"
     ]
    },
    {
     "name": "stderr",
     "output_type": "stream",
     "text": [
      "      47/50      4.09G     0.5319     0.4274      1.098          7        640: 100%|██████████| 118/118 [00:12<00:00,  9.24it/s]\n",
      "                 Class     Images  Instances      Box(P          R      mAP50  mAP50-95): 100%|██████████| 59/59 [00:08<00:00,  7.31it/s]"
     ]
    },
    {
     "name": "stdout",
     "output_type": "stream",
     "text": [
      "                   all       1876       2472      0.905      0.899      0.951      0.893\n"
     ]
    },
    {
     "name": "stderr",
     "output_type": "stream",
     "text": [
      "\n"
     ]
    },
    {
     "name": "stdout",
     "output_type": "stream",
     "text": [
      "\n",
      "      Epoch    GPU_mem   box_loss   cls_loss   dfl_loss  Instances       Size\n"
     ]
    },
    {
     "name": "stderr",
     "output_type": "stream",
     "text": [
      "      48/50      4.08G      0.515     0.4059       1.09          8        640: 100%|██████████| 118/118 [00:12<00:00,  9.27it/s]\n",
      "                 Class     Images  Instances      Box(P          R      mAP50  mAP50-95): 100%|██████████| 59/59 [00:08<00:00,  7.35it/s]"
     ]
    },
    {
     "name": "stdout",
     "output_type": "stream",
     "text": [
      "                   all       1876       2472      0.918      0.915       0.96      0.902\n"
     ]
    },
    {
     "name": "stderr",
     "output_type": "stream",
     "text": [
      "\n"
     ]
    },
    {
     "name": "stdout",
     "output_type": "stream",
     "text": [
      "\n",
      "      Epoch    GPU_mem   box_loss   cls_loss   dfl_loss  Instances       Size\n"
     ]
    },
    {
     "name": "stderr",
     "output_type": "stream",
     "text": [
      "      49/50      4.09G     0.5123     0.4039      1.084          6        640: 100%|██████████| 118/118 [00:12<00:00,  9.23it/s]\n",
      "                 Class     Images  Instances      Box(P          R      mAP50  mAP50-95): 100%|██████████| 59/59 [00:08<00:00,  7.30it/s]"
     ]
    },
    {
     "name": "stdout",
     "output_type": "stream",
     "text": [
      "                   all       1876       2472      0.924      0.917      0.963      0.906\n"
     ]
    },
    {
     "name": "stderr",
     "output_type": "stream",
     "text": [
      "\n"
     ]
    },
    {
     "name": "stdout",
     "output_type": "stream",
     "text": [
      "\n",
      "      Epoch    GPU_mem   box_loss   cls_loss   dfl_loss  Instances       Size\n"
     ]
    },
    {
     "name": "stderr",
     "output_type": "stream",
     "text": [
      "      50/50      4.07G     0.5034     0.3928      1.078          4        640: 100%|██████████| 118/118 [00:12<00:00,  9.35it/s]\n",
      "                 Class     Images  Instances      Box(P          R      mAP50  mAP50-95): 100%|██████████| 59/59 [00:07<00:00,  7.38it/s]"
     ]
    },
    {
     "name": "stdout",
     "output_type": "stream",
     "text": [
      "                   all       1876       2472      0.916       0.93      0.965      0.908\n"
     ]
    },
    {
     "name": "stderr",
     "output_type": "stream",
     "text": [
      "\n"
     ]
    },
    {
     "name": "stdout",
     "output_type": "stream",
     "text": [
      "\n",
      "50 epochs completed in 0.307 hours.\n",
      "Optimizer stripped from runs\\detect\\train\\weights\\last.pt, 19.2MB\n",
      "Optimizer stripped from runs\\detect\\train\\weights\\best.pt, 19.2MB\n",
      "\n",
      "Validating runs\\detect\\train\\weights\\best.pt...\n",
      "Ultralytics 8.3.82  Python-3.10.16 torch-2.5.1 CUDA:0 (NVIDIA GeForce RTX 4070 Ti SUPER, 16376MiB)\n",
      "YOLO11s summary (fused): 100 layers, 9,417,831 parameters, 0 gradients, 21.3 GFLOPs\n"
     ]
    },
    {
     "name": "stderr",
     "output_type": "stream",
     "text": [
      "                 Class     Images  Instances      Box(P          R      mAP50  mAP50-95): 100%|██████████| 59/59 [00:08<00:00,  6.91it/s]\n"
     ]
    },
    {
     "name": "stdout",
     "output_type": "stream",
     "text": [
      "                   all       1876       2472      0.916       0.93      0.965      0.908\n",
      "           cerscospora        224        224      0.995          1      0.994      0.978\n",
      "               healthy        187        190      0.936      0.937      0.974      0.783\n",
      "                 miner        347        709      0.967      0.987      0.993      0.813\n",
      "                 phoma        169        169      0.997          1      0.995      0.974\n",
      "                  rust        342        577      0.916       0.87      0.953      0.673\n",
      "         Falta-de-boro         68         68      0.985      0.981      0.983      0.983\n",
      "       Falta-de-calcio        112        112       0.94       0.98      0.987      0.983\n",
      "      Falta-de-fosforo        157        157      0.967      0.987      0.994      0.988\n",
      "       Falta-de-hierro         45         45      0.785      0.933      0.941      0.926\n",
      "     Falta-de-magnesio         52         52      0.708      0.788      0.867      0.867\n",
      "    Falta-de-manganeso         57         57      0.833      0.875      0.919      0.916\n",
      "      Falta-de-potasio         67         67      0.962      0.821      0.977      0.977\n",
      "       Falta-nitrogeno         45         45      0.912      0.924       0.97       0.95\n",
      "Speed: 0.1ms preprocess, 1.3ms inference, 0.0ms loss, 0.7ms postprocess per image\n",
      "Results saved to \u001b[1mruns\\detect\\train\u001b[0m\n"
     ]
    }
   ],
   "source": [
    "# Procesar el primer modelo: YOLO11s\n",
    "info = models_info[2]\n",
    "model_name = info[\"name\"]\n",
    "weights_path = info[\"weights\"]\n",
    "model = YOLO(weights_path)\n",
    "\n",
    "# 1. Entrenamiento del modelo:\n",
    "train_results = model.train(project=OUTPUT_DIR / \"runs\", \n",
    "        data=yaml_path,\n",
    "        epochs=epochs,\n",
    "        imgsz=imgsz,\n",
    "        batch=batch,\n",
    "        patience=patience,\n",
    "        device=device,\n",
    "        exist_ok=True,\n",
    "        pretrained=True)"
   ]
  },
  {
   "cell_type": "code",
   "execution_count": null,
   "metadata": {},
   "outputs": [
    {
     "name": "stdout",
     "output_type": "stream",
     "text": [
      "Ultralytics 8.3.82  Python-3.10.16 torch-2.5.1 CUDA:0 (NVIDIA GeForce RTX 4070 Ti SUPER, 16376MiB)\n",
      "YOLO11s summary (fused): 100 layers, 9,417,831 parameters, 0 gradients, 21.3 GFLOPs\n"
     ]
    },
    {
     "name": "stderr",
     "output_type": "stream",
     "text": [
      "\u001b[34m\u001b[1mval: \u001b[0mScanning C:\\Users\\ALEX\\OneDrive\\Cursos\\Maestría en Big Data y Data Science\\Cursos-VIU\\Oblgatorios\\TFM\\detection-diseases-coffee\\combinado\\train\\labels.cache... 1876 images, 4 backgrounds, 0 corrupt: 100%|██████████| 1876/1876 [00:00<?, ?it/s]"
     ]
    },
    {
     "name": "stdout",
     "output_type": "stream",
     "text": [
      "\u001b[34m\u001b[1mtrain: \u001b[0mWARNING  C:\\Users\\ALEX\\OneDrive\\Cursos\\Maestra en Big Data y Data Science\\Cursos-VIU\\Oblgatorios\\TFM\\detection-diseases-coffee\\combinado\\train\\images\\D2_Fe-21-_jpg.rf.edc47339d1daf7530340e96080dc2f82.jpg: 1 duplicate labels removed\n",
      "WARNING  Box and segment counts should be equal, but got len(segments) = 603, len(boxes) = 2472. To resolve this only boxes will be used and all segments will be removed. To avoid this please supply either a detect or segment dataset, not a detect-segment mixed dataset.\n"
     ]
    },
    {
     "name": "stderr",
     "output_type": "stream",
     "text": [
      "\n",
      "                 Class     Images  Instances      Box(P          R      mAP50  mAP50-95): 100%|██████████| 118/118 [00:09<00:00, 12.18it/s]\n"
     ]
    },
    {
     "name": "stdout",
     "output_type": "stream",
     "text": [
      "                   all       1876       2472      0.916       0.93      0.965      0.908\n",
      "           cerscospora        224        224      0.995          1      0.993      0.977\n",
      "               healthy        187        190      0.936      0.937      0.974      0.782\n",
      "                 miner        347        709      0.967      0.987      0.993      0.813\n",
      "                 phoma        169        169      0.997          1      0.995      0.975\n",
      "                  rust        342        577      0.916       0.87      0.953      0.673\n",
      "         Falta-de-boro         68         68      0.985      0.981      0.983      0.983\n",
      "       Falta-de-calcio        112        112       0.94       0.98      0.987      0.983\n",
      "      Falta-de-fosforo        157        157      0.967      0.987      0.994      0.988\n",
      "       Falta-de-hierro         45         45      0.785      0.933      0.941      0.926\n",
      "     Falta-de-magnesio         52         52      0.708      0.788      0.866      0.866\n",
      "    Falta-de-manganeso         57         57      0.833      0.875      0.919      0.916\n",
      "      Falta-de-potasio         67         67      0.962      0.821      0.977      0.977\n",
      "       Falta-nitrogeno         45         45      0.912      0.925       0.97       0.95\n",
      "Speed: 0.1ms preprocess, 2.2ms inference, 0.0ms loss, 0.6ms postprocess per image\n",
      "Results saved to \u001b[1mruns\\detect\\train\u001b[0m\n",
      "No se pudo usar results_dict(), se intentará extrayendo atributos. 'dict' object is not callable\n"
     ]
    },
    {
     "data": {
      "text/plain": [
       "{'epoch': 50.0,\n",
       " 'time': 1103.55,\n",
       " 'train/box_loss': 0.50343,\n",
       " 'train/cls_loss': 0.39276,\n",
       " 'train/dfl_loss': 1.07776,\n",
       " 'metrics/precision(B)': 0.91603,\n",
       " 'metrics/recall(B)': 0.92962,\n",
       " 'metrics/mAP50(B)': 0.96505,\n",
       " 'metrics/mAP50-95(B)': 0.9083,\n",
       " 'val/box_loss': 0.46924,\n",
       " 'val/cls_loss': 0.34404,\n",
       " 'val/dfl_loss': 0.87531,\n",
       " 'lr/pg0': 1.75224e-05,\n",
       " 'lr/pg1': 1.75224e-05,\n",
       " 'lr/pg2': 1.75224e-05}"
      ]
     },
     "metadata": {},
     "output_type": "display_data"
    }
   ],
   "source": [
    "# 2. Evaluación y extracción de métricas\n",
    "metrics_dict = extract_metrics(model)\n",
    "\n",
    "metrics_dict"
   ]
  },
  {
   "cell_type": "code",
   "execution_count": null,
   "metadata": {},
   "outputs": [
    {
     "name": "stdout",
     "output_type": "stream",
     "text": [
      "Ultralytics 8.3.82  Python-3.10.16 torch-2.5.1 CPU (AMD Ryzen 7 7700X 8-Core Processor)\n",
      "\n",
      "\u001b[34m\u001b[1mPyTorch:\u001b[0m starting from 'runs\\detect\\train\\weights\\best.pt' with input shape (1, 3, 640, 640) BCHW and output shape(s) (1, 17, 8400) (18.3 MB)\n",
      "\n",
      "\u001b[34m\u001b[1mONNX:\u001b[0m starting export with onnx 1.17.0 opset 12...\n",
      "\u001b[34m\u001b[1mONNX:\u001b[0m slimming with onnxslim 0.1.48...\n",
      "\u001b[34m\u001b[1mONNX:\u001b[0m export success  1.1s, saved as 'runs\\detect\\train\\weights\\best.onnx' (36.2 MB)\n",
      "\n",
      "Export complete (1.3s)\n",
      "Results saved to \u001b[1mC:\\Users\\ALEX\\OneDrive\\Cursos\\Maestra en Big Data y Data Science\\Cursos-VIU\\Oblgatorios\\TFM\\detection-diseases-coffee\\runs\\detect\\train\\weights\u001b[0m\n",
      "Predict:         yolo predict task=detect model=runs\\detect\\train\\weights\\best.onnx imgsz=640  \n",
      "Validate:        yolo val task=detect model=runs\\detect\\train\\weights\\best.onnx imgsz=640 data=C:/Users/ALEX/OneDrive/Cursos/Maestra en Big Data y Data Science/Cursos-VIU/Oblgatorios/TFM/detection-diseases-coffee/combinado/data.yaml  \n",
      "Visualize:       https://netron.app\n",
      "WARNING  TensorRT requires GPU export, automatically assigning device=0\n",
      "Ultralytics 8.3.82  Python-3.10.16 torch-2.5.1 CUDA:0 (NVIDIA GeForce RTX 4070 Ti SUPER, 16376MiB)\n",
      "\n",
      "\u001b[34m\u001b[1mPyTorch:\u001b[0m starting from 'runs\\detect\\train\\weights\\best.pt' with input shape (1, 3, 640, 640) BCHW and output shape(s) (1, 17, 8400) (18.3 MB)\n",
      "\n",
      "\u001b[34m\u001b[1mONNX:\u001b[0m starting export with onnx 1.17.0 opset 12...\n",
      "\u001b[34m\u001b[1mONNX:\u001b[0m slimming with onnxslim 0.1.48...\n",
      "\u001b[34m\u001b[1mONNX:\u001b[0m export success  1.4s, saved as 'runs\\detect\\train\\weights\\best.onnx' (36.2 MB)\n",
      "\u001b[34m\u001b[1mTensorRT:\u001b[0m export failure  1.4s: No module named 'tensorrt'\n",
      "TensorRT no está instalado. Se retornará None para la velocidad TRT.\n"
     ]
    },
    {
     "data": {
      "text/plain": [
       "[{'Modelo': 'YOLO11n',\n",
       "  'Tamaño (píxeles)': 640,\n",
       "  'epoch': 50.0,\n",
       "  'time': 883.183,\n",
       "  'train/box_loss': 0.51573,\n",
       "  'train/cls_loss': 0.45963,\n",
       "  'train/dfl_loss': 1.09464,\n",
       "  'metrics/precision(B)': 0.9237,\n",
       "  'metrics/recall(B)': 0.93555,\n",
       "  'metrics/mAP50(B)': 0.96995,\n",
       "  'metrics/mAP50-95(B)': 0.91132,\n",
       "  'val/box_loss': 0.48951,\n",
       "  'val/cls_loss': 0.41305,\n",
       "  'val/dfl_loss': 0.89411,\n",
       "  'lr/pg0': 1.75224e-05,\n",
       "  'lr/pg1': 1.75224e-05,\n",
       "  'lr/pg2': 1.75224e-05,\n",
       "  'Velocidad CPU ONNX (ms)': 22.33635187149048,\n",
       "  'Velocidad T4 TensorRT (ms)': None,\n",
       "  'Parámetros (M)': 2.584687,\n",
       "  'FLOPs (B)': 6393562400},\n",
       " {'Modelo': 'YOLO12n',\n",
       "  'Tamaño (píxeles)': 640,\n",
       "  'epoch': 50.0,\n",
       "  'time': 1127.04,\n",
       "  'train/box_loss': 0.51129,\n",
       "  'train/cls_loss': 0.43628,\n",
       "  'train/dfl_loss': 1.0939,\n",
       "  'metrics/precision(B)': 0.91198,\n",
       "  'metrics/recall(B)': 0.95641,\n",
       "  'metrics/mAP50(B)': 0.96774,\n",
       "  'metrics/mAP50-95(B)': 0.91137,\n",
       "  'val/box_loss': 0.47812,\n",
       "  'val/cls_loss': 0.38077,\n",
       "  'val/dfl_loss': 0.88336,\n",
       "  'lr/pg0': 1.75224e-05,\n",
       "  'lr/pg1': 1.75224e-05,\n",
       "  'lr/pg2': 1.75224e-05,\n",
       "  'Velocidad CPU ONNX (ms)': 25.344526767730713,\n",
       "  'Velocidad T4 TensorRT (ms)': None,\n",
       "  'Parámetros (M)': 2.559263,\n",
       "  'FLOPs (B)': 6409127200},\n",
       " {'Modelo': 'YOLO11s',\n",
       "  'Tamaño (píxeles)': 640,\n",
       "  'epoch': 50.0,\n",
       "  'time': 1103.55,\n",
       "  'train/box_loss': 0.50343,\n",
       "  'train/cls_loss': 0.39276,\n",
       "  'train/dfl_loss': 1.07776,\n",
       "  'metrics/precision(B)': 0.91603,\n",
       "  'metrics/recall(B)': 0.92962,\n",
       "  'metrics/mAP50(B)': 0.96505,\n",
       "  'metrics/mAP50-95(B)': 0.9083,\n",
       "  'val/box_loss': 0.46924,\n",
       "  'val/cls_loss': 0.34404,\n",
       "  'val/dfl_loss': 0.87531,\n",
       "  'lr/pg0': 1.75224e-05,\n",
       "  'lr/pg1': 1.75224e-05,\n",
       "  'lr/pg2': 1.75224e-05,\n",
       "  'Velocidad CPU ONNX (ms)': 52.62967348098755,\n",
       "  'Velocidad T4 TensorRT (ms)': None,\n",
       "  'Parámetros (M)': 9.417831,\n",
       "  'FLOPs (B)': 21457421600}]"
      ]
     },
     "metadata": {},
     "output_type": "display_data"
    }
   ],
   "source": [
    "# Guardar ruta de exortación en formato pt\n",
    "pt_export_path = export_and_copy_pt(model, model_name)\n",
    "\n",
    "# 3. Exportar a ONNX y copiarlo con el nombre deseado\n",
    "onnx_export_path = export_and_copy_onnx(model, model_name, imgsz)\n",
    "avg_time_cpu = measure_onnx_inference_speed(onnx_export_path, imgsz)\n",
    "\n",
    "# 4. Exportar a TensorRT y medir velocidad (si es posible)\n",
    "trt_engine_path = export_and_copy_trt(model, model_name, imgsz)\n",
    "avg_time_trt = measure_trt_inference_speed(trt_engine_path, n_iter=20)\n",
    "\n",
    "# 5. Calcular parámetros y definir placeholder para FLOPs\n",
    "params = compute_model_params(model)\n",
    "\n",
    "flops = compute_flops(model, imgsz)\n",
    "\n",
    "# 6. Combinar toda la información\n",
    "results_yolo11s = combine_results(model_name, imgsz, metrics_dict, avg_time_cpu, avg_time_trt, params, flops)\n",
    "\n",
    "results_list.append(results_yolo11s)\n",
    "\n",
    "results_list"
   ]
  },
  {
   "cell_type": "markdown",
   "metadata": {},
   "source": [
    "### Entrenamiento de YOLO12s"
   ]
  },
  {
   "cell_type": "code",
   "execution_count": null,
   "metadata": {},
   "outputs": [
    {
     "name": "stdout",
     "output_type": "stream",
     "text": [
      "New https://pypi.org/project/ultralytics/8.3.84 available  Update with 'pip install -U ultralytics'\n",
      "Ultralytics 8.3.82  Python-3.10.16 torch-2.5.1 CUDA:0 (NVIDIA GeForce RTX 4070 Ti SUPER, 16376MiB)\n",
      "\u001b[34m\u001b[1mengine\\trainer: \u001b[0mtask=detect, mode=train, model=yolo12s.pt, data=C:/Users/ALEX/OneDrive/Cursos/Maestra en Big Data y Data Science/Cursos-VIU/Oblgatorios/TFM/detection-diseases-coffee/combinado/data.yaml, epochs=50, time=None, patience=5, batch=16, imgsz=640, save=True, save_period=-1, cache=False, device=cuda:0, workers=8, project=None, name=train, exist_ok=True, pretrained=True, optimizer=auto, verbose=True, seed=0, deterministic=True, single_cls=False, rect=False, cos_lr=False, close_mosaic=10, resume=False, amp=True, fraction=1.0, profile=False, freeze=None, multi_scale=False, overlap_mask=True, mask_ratio=4, dropout=0.0, val=True, split=val, save_json=False, save_hybrid=False, conf=None, iou=0.7, max_det=300, half=False, dnn=False, plots=True, source=None, vid_stride=1, stream_buffer=False, visualize=False, augment=False, agnostic_nms=False, classes=None, retina_masks=False, embed=None, show=False, save_frames=False, save_txt=False, save_conf=False, save_crop=False, show_labels=True, show_conf=True, show_boxes=True, line_width=None, format=torchscript, keras=False, optimize=False, int8=False, dynamic=False, simplify=True, opset=None, workspace=None, nms=False, lr0=0.01, lrf=0.01, momentum=0.937, weight_decay=0.0005, warmup_epochs=3.0, warmup_momentum=0.8, warmup_bias_lr=0.1, box=7.5, cls=0.5, dfl=1.5, pose=12.0, kobj=1.0, nbs=64, hsv_h=0.015, hsv_s=0.7, hsv_v=0.4, degrees=0.0, translate=0.1, scale=0.5, shear=0.0, perspective=0.0, flipud=0.0, fliplr=0.5, bgr=0.0, mosaic=1.0, mixup=0.0, copy_paste=0.0, copy_paste_mode=flip, auto_augment=randaugment, erasing=0.4, crop_fraction=1.0, cfg=None, tracker=botsort.yaml, save_dir=runs\\detect\\train\n",
      "Overriding model.yaml nc=80 with nc=13\n",
      "\n",
      "                   from  n    params  module                                       arguments                     \n",
      "  0                  -1  1       928  ultralytics.nn.modules.conv.Conv             [3, 32, 3, 2]                 \n",
      "  1                  -1  1     18560  ultralytics.nn.modules.conv.Conv             [32, 64, 3, 2]                \n",
      "  2                  -1  1     26080  ultralytics.nn.modules.block.C3k2            [64, 128, 1, False, 0.25]     \n",
      "  3                  -1  1    147712  ultralytics.nn.modules.conv.Conv             [128, 128, 3, 2]              \n",
      "  4                  -1  1    103360  ultralytics.nn.modules.block.C3k2            [128, 256, 1, False, 0.25]    \n",
      "  5                  -1  1    590336  ultralytics.nn.modules.conv.Conv             [256, 256, 3, 2]              \n",
      "  6                  -1  2    689408  ultralytics.nn.modules.block.A2C2f           [256, 256, 2, True, 4]        \n",
      "  7                  -1  1   1180672  ultralytics.nn.modules.conv.Conv             [256, 512, 3, 2]              \n",
      "  8                  -1  2   2689536  ultralytics.nn.modules.block.A2C2f           [512, 512, 2, True, 1]        \n",
      "  9                  -1  1         0  torch.nn.modules.upsampling.Upsample         [None, 2, 'nearest']          \n",
      " 10             [-1, 6]  1         0  ultralytics.nn.modules.conv.Concat           [1]                           \n",
      " 11                  -1  1    345856  ultralytics.nn.modules.block.A2C2f           [768, 256, 1, False, -1]      \n",
      " 12                  -1  1         0  torch.nn.modules.upsampling.Upsample         [None, 2, 'nearest']          \n",
      " 13             [-1, 4]  1         0  ultralytics.nn.modules.conv.Concat           [1]                           \n",
      " 14                  -1  1     95104  ultralytics.nn.modules.block.A2C2f           [512, 128, 1, False, -1]      \n",
      " 15                  -1  1    147712  ultralytics.nn.modules.conv.Conv             [128, 128, 3, 2]              \n",
      " 16            [-1, 11]  1         0  ultralytics.nn.modules.conv.Concat           [1]                           \n",
      " 17                  -1  1    296704  ultralytics.nn.modules.block.A2C2f           [384, 256, 1, False, -1]      \n",
      " 18                  -1  1    590336  ultralytics.nn.modules.conv.Conv             [256, 256, 3, 2]              \n",
      " 19             [-1, 8]  1         0  ultralytics.nn.modules.conv.Concat           [1]                           \n",
      " 20                  -1  1   1511424  ultralytics.nn.modules.block.C3k2            [768, 512, 1, True]           \n",
      " 21        [14, 17, 20]  1    824439  ultralytics.nn.modules.head.Detect           [13, [128, 256, 512]]         \n",
      "YOLOv12s summary: 272 layers, 9,258,167 parameters, 9,258,151 gradients, 21.5 GFLOPs\n",
      "\n",
      "Transferred 685/691 items from pretrained weights\n",
      "Freezing layer 'model.21.dfl.conv.weight'\n",
      "\u001b[34m\u001b[1mAMP: \u001b[0mrunning Automatic Mixed Precision (AMP) checks...\n",
      "\u001b[34m\u001b[1mAMP: \u001b[0mchecks passed \n"
     ]
    },
    {
     "name": "stderr",
     "output_type": "stream",
     "text": [
      "\u001b[34m\u001b[1mtrain: \u001b[0mScanning C:\\Users\\ALEX\\OneDrive\\Cursos\\Maestría en Big Data y Data Science\\Cursos-VIU\\Oblgatorios\\TFM\\detection-diseases-coffee\\combinado\\train\\labels.cache... 1876 images, 4 backgrounds, 0 corrupt: 100%|██████████| 1876/1876 [00:00<?, ?it/s]"
     ]
    },
    {
     "name": "stdout",
     "output_type": "stream",
     "text": [
      "\u001b[34m\u001b[1mtrain: \u001b[0mWARNING  C:\\Users\\ALEX\\OneDrive\\Cursos\\Maestra en Big Data y Data Science\\Cursos-VIU\\Oblgatorios\\TFM\\detection-diseases-coffee\\combinado\\train\\images\\D2_Fe-21-_jpg.rf.edc47339d1daf7530340e96080dc2f82.jpg: 1 duplicate labels removed\n",
      "WARNING  Box and segment counts should be equal, but got len(segments) = 603, len(boxes) = 2472. To resolve this only boxes will be used and all segments will be removed. To avoid this please supply either a detect or segment dataset, not a detect-segment mixed dataset.\n"
     ]
    },
    {
     "name": "stderr",
     "output_type": "stream",
     "text": [
      "\n",
      "\u001b[34m\u001b[1mval: \u001b[0mScanning C:\\Users\\ALEX\\OneDrive\\Cursos\\Maestría en Big Data y Data Science\\Cursos-VIU\\Oblgatorios\\TFM\\detection-diseases-coffee\\combinado\\train\\labels.cache... 1876 images, 4 backgrounds, 0 corrupt: 100%|██████████| 1876/1876 [00:00<?, ?it/s]"
     ]
    },
    {
     "name": "stdout",
     "output_type": "stream",
     "text": [
      "\u001b[34m\u001b[1mtrain: \u001b[0mWARNING  C:\\Users\\ALEX\\OneDrive\\Cursos\\Maestra en Big Data y Data Science\\Cursos-VIU\\Oblgatorios\\TFM\\detection-diseases-coffee\\combinado\\train\\images\\D2_Fe-21-_jpg.rf.edc47339d1daf7530340e96080dc2f82.jpg: 1 duplicate labels removed\n",
      "WARNING  Box and segment counts should be equal, but got len(segments) = 603, len(boxes) = 2472. To resolve this only boxes will be used and all segments will be removed. To avoid this please supply either a detect or segment dataset, not a detect-segment mixed dataset.\n"
     ]
    },
    {
     "name": "stderr",
     "output_type": "stream",
     "text": [
      "\n"
     ]
    },
    {
     "name": "stdout",
     "output_type": "stream",
     "text": [
      "Plotting labels to runs\\detect\\train\\labels.jpg... \n",
      "\u001b[34m\u001b[1moptimizer:\u001b[0m 'optimizer=auto' found, ignoring 'lr0=0.01' and 'momentum=0.937' and determining best 'optimizer', 'lr0' and 'momentum' automatically... \n",
      "\u001b[34m\u001b[1moptimizer:\u001b[0m AdamW(lr=0.000588, momentum=0.9) with parameter groups 113 weight(decay=0.0), 120 weight(decay=0.0005), 119 bias(decay=0.0)\n",
      "Image sizes 640 train, 640 val\n",
      "Using 8 dataloader workers\n",
      "Logging results to \u001b[1mruns\\detect\\train\u001b[0m\n",
      "Starting training for 50 epochs...\n",
      "\n",
      "      Epoch    GPU_mem   box_loss   cls_loss   dfl_loss  Instances       Size\n"
     ]
    },
    {
     "name": "stderr",
     "output_type": "stream",
     "text": [
      "       1/50      6.01G     0.8418      2.519      1.389         13        640: 100%|██████████| 118/118 [00:20<00:00,  5.63it/s]\n",
      "                 Class     Images  Instances      Box(P          R      mAP50  mAP50-95): 100%|██████████| 59/59 [00:09<00:00,  6.21it/s]\n"
     ]
    },
    {
     "name": "stdout",
     "output_type": "stream",
     "text": [
      "                   all       1876       2472      0.533      0.579      0.522      0.408\n",
      "\n",
      "      Epoch    GPU_mem   box_loss   cls_loss   dfl_loss  Instances       Size\n"
     ]
    },
    {
     "name": "stderr",
     "output_type": "stream",
     "text": [
      "       2/50      6.08G     0.8516      1.532      1.365         11        640: 100%|██████████| 118/118 [00:19<00:00,  6.10it/s]\n",
      "                 Class     Images  Instances      Box(P          R      mAP50  mAP50-95): 100%|██████████| 59/59 [00:09<00:00,  6.41it/s]\n"
     ]
    },
    {
     "name": "stdout",
     "output_type": "stream",
     "text": [
      "                   all       1876       2472      0.408      0.724      0.541      0.424\n",
      "\n",
      "      Epoch    GPU_mem   box_loss   cls_loss   dfl_loss  Instances       Size\n"
     ]
    },
    {
     "name": "stderr",
     "output_type": "stream",
     "text": [
      "       3/50      6.07G     0.8619      1.434      1.352         15        640: 100%|██████████| 118/118 [00:18<00:00,  6.29it/s]\n",
      "                 Class     Images  Instances      Box(P          R      mAP50  mAP50-95): 100%|██████████| 59/59 [00:09<00:00,  6.48it/s]"
     ]
    },
    {
     "name": "stdout",
     "output_type": "stream",
     "text": [
      "                   all       1876       2472      0.375      0.679      0.493      0.354\n"
     ]
    },
    {
     "name": "stderr",
     "output_type": "stream",
     "text": [
      "\n"
     ]
    },
    {
     "name": "stdout",
     "output_type": "stream",
     "text": [
      "\n",
      "      Epoch    GPU_mem   box_loss   cls_loss   dfl_loss  Instances       Size\n"
     ]
    },
    {
     "name": "stderr",
     "output_type": "stream",
     "text": [
      "       4/50      6.05G     0.8159      1.312      1.318         10        640: 100%|██████████| 118/118 [00:18<00:00,  6.37it/s]\n",
      "                 Class     Images  Instances      Box(P          R      mAP50  mAP50-95): 100%|██████████| 59/59 [00:09<00:00,  6.48it/s]"
     ]
    },
    {
     "name": "stdout",
     "output_type": "stream",
     "text": [
      "                   all       1876       2472      0.433      0.702      0.585      0.498\n"
     ]
    },
    {
     "name": "stderr",
     "output_type": "stream",
     "text": [
      "\n"
     ]
    },
    {
     "name": "stdout",
     "output_type": "stream",
     "text": [
      "\n",
      "      Epoch    GPU_mem   box_loss   cls_loss   dfl_loss  Instances       Size\n"
     ]
    },
    {
     "name": "stderr",
     "output_type": "stream",
     "text": [
      "       5/50      6.06G     0.8141      1.253      1.318         10        640: 100%|██████████| 118/118 [00:18<00:00,  6.36it/s]\n",
      "                 Class     Images  Instances      Box(P          R      mAP50  mAP50-95): 100%|██████████| 59/59 [00:09<00:00,  6.45it/s]"
     ]
    },
    {
     "name": "stdout",
     "output_type": "stream",
     "text": [
      "                   all       1876       2472      0.544       0.68      0.606      0.484\n"
     ]
    },
    {
     "name": "stderr",
     "output_type": "stream",
     "text": [
      "\n"
     ]
    },
    {
     "name": "stdout",
     "output_type": "stream",
     "text": [
      "\n",
      "      Epoch    GPU_mem   box_loss   cls_loss   dfl_loss  Instances       Size\n"
     ]
    },
    {
     "name": "stderr",
     "output_type": "stream",
     "text": [
      "       6/50      6.04G     0.7684      1.206      1.292         17        640: 100%|██████████| 118/118 [00:18<00:00,  6.37it/s]\n",
      "                 Class     Images  Instances      Box(P          R      mAP50  mAP50-95): 100%|██████████| 59/59 [00:09<00:00,  6.52it/s]"
     ]
    },
    {
     "name": "stdout",
     "output_type": "stream",
     "text": [
      "                   all       1876       2472      0.775      0.511      0.626      0.515\n"
     ]
    },
    {
     "name": "stderr",
     "output_type": "stream",
     "text": [
      "\n"
     ]
    },
    {
     "name": "stdout",
     "output_type": "stream",
     "text": [
      "\n",
      "      Epoch    GPU_mem   box_loss   cls_loss   dfl_loss  Instances       Size\n"
     ]
    },
    {
     "name": "stderr",
     "output_type": "stream",
     "text": [
      "       7/50      6.06G     0.7704      1.157      1.287         10        640: 100%|██████████| 118/118 [00:18<00:00,  6.34it/s]\n",
      "                 Class     Images  Instances      Box(P          R      mAP50  mAP50-95): 100%|██████████| 59/59 [00:09<00:00,  6.50it/s]"
     ]
    },
    {
     "name": "stdout",
     "output_type": "stream",
     "text": [
      "                   all       1876       2472      0.534       0.74      0.681      0.592\n"
     ]
    },
    {
     "name": "stderr",
     "output_type": "stream",
     "text": [
      "\n"
     ]
    },
    {
     "name": "stdout",
     "output_type": "stream",
     "text": [
      "\n",
      "      Epoch    GPU_mem   box_loss   cls_loss   dfl_loss  Instances       Size\n"
     ]
    },
    {
     "name": "stderr",
     "output_type": "stream",
     "text": [
      "       8/50      6.05G     0.7523      1.105       1.28         10        640: 100%|██████████| 118/118 [00:18<00:00,  6.35it/s]\n",
      "                 Class     Images  Instances      Box(P          R      mAP50  mAP50-95): 100%|██████████| 59/59 [00:09<00:00,  6.50it/s]"
     ]
    },
    {
     "name": "stdout",
     "output_type": "stream",
     "text": [
      "                   all       1876       2472       0.55      0.706      0.687      0.582\n"
     ]
    },
    {
     "name": "stderr",
     "output_type": "stream",
     "text": [
      "\n"
     ]
    },
    {
     "name": "stdout",
     "output_type": "stream",
     "text": [
      "\n",
      "      Epoch    GPU_mem   box_loss   cls_loss   dfl_loss  Instances       Size\n"
     ]
    },
    {
     "name": "stderr",
     "output_type": "stream",
     "text": [
      "       9/50      6.06G     0.7146      1.075      1.247         10        640: 100%|██████████| 118/118 [00:18<00:00,  6.34it/s]\n",
      "                 Class     Images  Instances      Box(P          R      mAP50  mAP50-95): 100%|██████████| 59/59 [00:09<00:00,  6.52it/s]"
     ]
    },
    {
     "name": "stdout",
     "output_type": "stream",
     "text": [
      "                   all       1876       2472      0.617      0.779       0.75      0.651\n"
     ]
    },
    {
     "name": "stderr",
     "output_type": "stream",
     "text": [
      "\n"
     ]
    },
    {
     "name": "stdout",
     "output_type": "stream",
     "text": [
      "\n",
      "      Epoch    GPU_mem   box_loss   cls_loss   dfl_loss  Instances       Size\n"
     ]
    },
    {
     "name": "stderr",
     "output_type": "stream",
     "text": [
      "      10/50      6.05G     0.7316      1.006      1.262         11        640: 100%|██████████| 118/118 [00:18<00:00,  6.34it/s]\n",
      "                 Class     Images  Instances      Box(P          R      mAP50  mAP50-95): 100%|██████████| 59/59 [00:09<00:00,  6.48it/s]"
     ]
    },
    {
     "name": "stdout",
     "output_type": "stream",
     "text": [
      "                   all       1876       2472      0.693      0.721       0.75      0.652\n"
     ]
    },
    {
     "name": "stderr",
     "output_type": "stream",
     "text": [
      "\n"
     ]
    },
    {
     "name": "stdout",
     "output_type": "stream",
     "text": [
      "\n",
      "      Epoch    GPU_mem   box_loss   cls_loss   dfl_loss  Instances       Size\n"
     ]
    },
    {
     "name": "stderr",
     "output_type": "stream",
     "text": [
      "      11/50      6.07G     0.7181      1.007      1.246         16        640: 100%|██████████| 118/118 [00:18<00:00,  6.33it/s]\n",
      "                 Class     Images  Instances      Box(P          R      mAP50  mAP50-95): 100%|██████████| 59/59 [00:09<00:00,  6.54it/s]"
     ]
    },
    {
     "name": "stdout",
     "output_type": "stream",
     "text": [
      "                   all       1876       2472      0.612      0.778       0.75       0.66\n"
     ]
    },
    {
     "name": "stderr",
     "output_type": "stream",
     "text": [
      "\n"
     ]
    },
    {
     "name": "stdout",
     "output_type": "stream",
     "text": [
      "\n",
      "      Epoch    GPU_mem   box_loss   cls_loss   dfl_loss  Instances       Size\n"
     ]
    },
    {
     "name": "stderr",
     "output_type": "stream",
     "text": [
      "      12/50      6.05G     0.6863      0.981      1.229          8        640: 100%|██████████| 118/118 [00:18<00:00,  6.36it/s]\n",
      "                 Class     Images  Instances      Box(P          R      mAP50  mAP50-95): 100%|██████████| 59/59 [00:09<00:00,  6.51it/s]"
     ]
    },
    {
     "name": "stdout",
     "output_type": "stream",
     "text": [
      "                   all       1876       2472      0.647      0.785      0.756      0.662\n"
     ]
    },
    {
     "name": "stderr",
     "output_type": "stream",
     "text": [
      "\n"
     ]
    },
    {
     "name": "stdout",
     "output_type": "stream",
     "text": [
      "\n",
      "      Epoch    GPU_mem   box_loss   cls_loss   dfl_loss  Instances       Size\n"
     ]
    },
    {
     "name": "stderr",
     "output_type": "stream",
     "text": [
      "      13/50      6.06G      0.693     0.9581      1.235         13        640: 100%|██████████| 118/118 [00:18<00:00,  6.36it/s]\n",
      "                 Class     Images  Instances      Box(P          R      mAP50  mAP50-95): 100%|██████████| 59/59 [00:09<00:00,  6.49it/s]"
     ]
    },
    {
     "name": "stdout",
     "output_type": "stream",
     "text": [
      "                   all       1876       2472      0.673      0.792      0.745      0.647\n"
     ]
    },
    {
     "name": "stderr",
     "output_type": "stream",
     "text": [
      "\n"
     ]
    },
    {
     "name": "stdout",
     "output_type": "stream",
     "text": [
      "\n",
      "      Epoch    GPU_mem   box_loss   cls_loss   dfl_loss  Instances       Size\n"
     ]
    },
    {
     "name": "stderr",
     "output_type": "stream",
     "text": [
      "      14/50      6.05G     0.6852      0.923       1.22         12        640: 100%|██████████| 118/118 [00:18<00:00,  6.37it/s]\n",
      "                 Class     Images  Instances      Box(P          R      mAP50  mAP50-95): 100%|██████████| 59/59 [00:08<00:00,  6.56it/s]"
     ]
    },
    {
     "name": "stdout",
     "output_type": "stream",
     "text": [
      "                   all       1876       2472      0.658      0.806      0.791      0.699\n"
     ]
    },
    {
     "name": "stderr",
     "output_type": "stream",
     "text": [
      "\n"
     ]
    },
    {
     "name": "stdout",
     "output_type": "stream",
     "text": [
      "\n",
      "      Epoch    GPU_mem   box_loss   cls_loss   dfl_loss  Instances       Size\n"
     ]
    },
    {
     "name": "stderr",
     "output_type": "stream",
     "text": [
      "      15/50      6.06G     0.6612     0.9068      1.214         11        640: 100%|██████████| 118/118 [00:18<00:00,  6.37it/s]\n",
      "                 Class     Images  Instances      Box(P          R      mAP50  mAP50-95): 100%|██████████| 59/59 [00:09<00:00,  6.52it/s]"
     ]
    },
    {
     "name": "stdout",
     "output_type": "stream",
     "text": [
      "                   all       1876       2472      0.661      0.785      0.746      0.654\n"
     ]
    },
    {
     "name": "stderr",
     "output_type": "stream",
     "text": [
      "\n"
     ]
    },
    {
     "name": "stdout",
     "output_type": "stream",
     "text": [
      "\n",
      "      Epoch    GPU_mem   box_loss   cls_loss   dfl_loss  Instances       Size\n"
     ]
    },
    {
     "name": "stderr",
     "output_type": "stream",
     "text": [
      "      16/50      6.04G      0.668     0.9073      1.213          9        640: 100%|██████████| 118/118 [00:18<00:00,  6.37it/s]\n",
      "                 Class     Images  Instances      Box(P          R      mAP50  mAP50-95): 100%|██████████| 59/59 [00:09<00:00,  6.54it/s]"
     ]
    },
    {
     "name": "stdout",
     "output_type": "stream",
     "text": [
      "                   all       1876       2472      0.679      0.795      0.819      0.733\n"
     ]
    },
    {
     "name": "stderr",
     "output_type": "stream",
     "text": [
      "\n"
     ]
    },
    {
     "name": "stdout",
     "output_type": "stream",
     "text": [
      "\n",
      "      Epoch    GPU_mem   box_loss   cls_loss   dfl_loss  Instances       Size\n"
     ]
    },
    {
     "name": "stderr",
     "output_type": "stream",
     "text": [
      "      17/50      6.06G      0.674     0.8507      1.217         11        640: 100%|██████████| 118/118 [00:18<00:00,  6.36it/s]\n",
      "                 Class     Images  Instances      Box(P          R      mAP50  mAP50-95): 100%|██████████| 59/59 [00:09<00:00,  6.52it/s]"
     ]
    },
    {
     "name": "stdout",
     "output_type": "stream",
     "text": [
      "                   all       1876       2472      0.726       0.83      0.825      0.735\n"
     ]
    },
    {
     "name": "stderr",
     "output_type": "stream",
     "text": [
      "\n"
     ]
    },
    {
     "name": "stdout",
     "output_type": "stream",
     "text": [
      "\n",
      "      Epoch    GPU_mem   box_loss   cls_loss   dfl_loss  Instances       Size\n"
     ]
    },
    {
     "name": "stderr",
     "output_type": "stream",
     "text": [
      "      18/50      6.06G     0.6441     0.8494      1.196         14        640: 100%|██████████| 118/118 [00:18<00:00,  6.37it/s]\n",
      "                 Class     Images  Instances      Box(P          R      mAP50  mAP50-95): 100%|██████████| 59/59 [00:09<00:00,  6.54it/s]"
     ]
    },
    {
     "name": "stdout",
     "output_type": "stream",
     "text": [
      "                   all       1876       2472      0.703        0.8      0.793      0.713\n"
     ]
    },
    {
     "name": "stderr",
     "output_type": "stream",
     "text": [
      "\n"
     ]
    },
    {
     "name": "stdout",
     "output_type": "stream",
     "text": [
      "\n",
      "      Epoch    GPU_mem   box_loss   cls_loss   dfl_loss  Instances       Size\n"
     ]
    },
    {
     "name": "stderr",
     "output_type": "stream",
     "text": [
      "      19/50      6.06G     0.6362     0.8295      1.193         10        640: 100%|██████████| 118/118 [00:18<00:00,  6.38it/s]\n",
      "                 Class     Images  Instances      Box(P          R      mAP50  mAP50-95): 100%|██████████| 59/59 [00:09<00:00,  6.56it/s]"
     ]
    },
    {
     "name": "stdout",
     "output_type": "stream",
     "text": [
      "                   all       1876       2472      0.729      0.803       0.83      0.747\n"
     ]
    },
    {
     "name": "stderr",
     "output_type": "stream",
     "text": [
      "\n"
     ]
    },
    {
     "name": "stdout",
     "output_type": "stream",
     "text": [
      "\n",
      "      Epoch    GPU_mem   box_loss   cls_loss   dfl_loss  Instances       Size\n"
     ]
    },
    {
     "name": "stderr",
     "output_type": "stream",
     "text": [
      "      20/50      6.05G     0.6248     0.8005      1.186         16        640: 100%|██████████| 118/118 [00:18<00:00,  6.37it/s]\n",
      "                 Class     Images  Instances      Box(P          R      mAP50  mAP50-95): 100%|██████████| 59/59 [00:09<00:00,  6.51it/s]"
     ]
    },
    {
     "name": "stdout",
     "output_type": "stream",
     "text": [
      "                   all       1876       2472      0.713      0.817      0.828      0.754\n"
     ]
    },
    {
     "name": "stderr",
     "output_type": "stream",
     "text": [
      "\n"
     ]
    },
    {
     "name": "stdout",
     "output_type": "stream",
     "text": [
      "\n",
      "      Epoch    GPU_mem   box_loss   cls_loss   dfl_loss  Instances       Size\n"
     ]
    },
    {
     "name": "stderr",
     "output_type": "stream",
     "text": [
      "      21/50      6.06G     0.6241     0.7935      1.188         12        640: 100%|██████████| 118/118 [00:18<00:00,  6.34it/s]\n",
      "                 Class     Images  Instances      Box(P          R      mAP50  mAP50-95): 100%|██████████| 59/59 [00:09<00:00,  6.47it/s]"
     ]
    },
    {
     "name": "stdout",
     "output_type": "stream",
     "text": [
      "                   all       1876       2472      0.794      0.814      0.853      0.768\n"
     ]
    },
    {
     "name": "stderr",
     "output_type": "stream",
     "text": [
      "\n"
     ]
    },
    {
     "name": "stdout",
     "output_type": "stream",
     "text": [
      "\n",
      "      Epoch    GPU_mem   box_loss   cls_loss   dfl_loss  Instances       Size\n"
     ]
    },
    {
     "name": "stderr",
     "output_type": "stream",
     "text": [
      "      22/50      6.05G     0.6277     0.8161      1.183         19        640: 100%|██████████| 118/118 [00:18<00:00,  6.36it/s]\n",
      "                 Class     Images  Instances      Box(P          R      mAP50  mAP50-95): 100%|██████████| 59/59 [00:09<00:00,  6.52it/s]"
     ]
    },
    {
     "name": "stdout",
     "output_type": "stream",
     "text": [
      "                   all       1876       2472      0.787      0.813      0.865      0.781\n"
     ]
    },
    {
     "name": "stderr",
     "output_type": "stream",
     "text": [
      "\n"
     ]
    },
    {
     "name": "stdout",
     "output_type": "stream",
     "text": [
      "\n",
      "      Epoch    GPU_mem   box_loss   cls_loss   dfl_loss  Instances       Size\n"
     ]
    },
    {
     "name": "stderr",
     "output_type": "stream",
     "text": [
      "      23/50      6.06G     0.6214     0.7803      1.181         13        640: 100%|██████████| 118/118 [00:18<00:00,  6.35it/s]\n",
      "                 Class     Images  Instances      Box(P          R      mAP50  mAP50-95): 100%|██████████| 59/59 [00:09<00:00,  6.51it/s]"
     ]
    },
    {
     "name": "stdout",
     "output_type": "stream",
     "text": [
      "                   all       1876       2472      0.736      0.861      0.833      0.751\n"
     ]
    },
    {
     "name": "stderr",
     "output_type": "stream",
     "text": [
      "\n"
     ]
    },
    {
     "name": "stdout",
     "output_type": "stream",
     "text": [
      "\n",
      "      Epoch    GPU_mem   box_loss   cls_loss   dfl_loss  Instances       Size\n"
     ]
    },
    {
     "name": "stderr",
     "output_type": "stream",
     "text": [
      "      24/50      6.05G     0.6274     0.7554      1.185          8        640: 100%|██████████| 118/118 [00:18<00:00,  6.38it/s]\n",
      "                 Class     Images  Instances      Box(P          R      mAP50  mAP50-95): 100%|██████████| 59/59 [00:09<00:00,  6.48it/s]"
     ]
    },
    {
     "name": "stdout",
     "output_type": "stream",
     "text": [
      "                   all       1876       2472      0.746      0.817      0.865      0.783\n"
     ]
    },
    {
     "name": "stderr",
     "output_type": "stream",
     "text": [
      "\n"
     ]
    },
    {
     "name": "stdout",
     "output_type": "stream",
     "text": [
      "\n",
      "      Epoch    GPU_mem   box_loss   cls_loss   dfl_loss  Instances       Size\n"
     ]
    },
    {
     "name": "stderr",
     "output_type": "stream",
     "text": [
      "      25/50      6.06G      0.647     0.7648      1.193         14        640: 100%|██████████| 118/118 [00:18<00:00,  6.34it/s]\n",
      "                 Class     Images  Instances      Box(P          R      mAP50  mAP50-95): 100%|██████████| 59/59 [00:09<00:00,  6.46it/s]"
     ]
    },
    {
     "name": "stdout",
     "output_type": "stream",
     "text": [
      "                   all       1876       2472      0.774      0.841      0.855      0.774\n"
     ]
    },
    {
     "name": "stderr",
     "output_type": "stream",
     "text": [
      "\n"
     ]
    },
    {
     "name": "stdout",
     "output_type": "stream",
     "text": [
      "\n",
      "      Epoch    GPU_mem   box_loss   cls_loss   dfl_loss  Instances       Size\n"
     ]
    },
    {
     "name": "stderr",
     "output_type": "stream",
     "text": [
      "      26/50      6.05G     0.6061     0.7342       1.17         13        640: 100%|██████████| 118/118 [00:18<00:00,  6.35it/s]\n",
      "                 Class     Images  Instances      Box(P          R      mAP50  mAP50-95): 100%|██████████| 59/59 [00:09<00:00,  6.52it/s]"
     ]
    },
    {
     "name": "stdout",
     "output_type": "stream",
     "text": [
      "                   all       1876       2472      0.792      0.837      0.876      0.797\n"
     ]
    },
    {
     "name": "stderr",
     "output_type": "stream",
     "text": [
      "\n"
     ]
    },
    {
     "name": "stdout",
     "output_type": "stream",
     "text": [
      "\n",
      "      Epoch    GPU_mem   box_loss   cls_loss   dfl_loss  Instances       Size\n"
     ]
    },
    {
     "name": "stderr",
     "output_type": "stream",
     "text": [
      "      27/50      6.06G     0.5878     0.7257      1.158         15        640: 100%|██████████| 118/118 [00:18<00:00,  6.36it/s]\n",
      "                 Class     Images  Instances      Box(P          R      mAP50  mAP50-95): 100%|██████████| 59/59 [00:09<00:00,  6.53it/s]"
     ]
    },
    {
     "name": "stdout",
     "output_type": "stream",
     "text": [
      "                   all       1876       2472      0.785      0.858      0.876      0.799\n"
     ]
    },
    {
     "name": "stderr",
     "output_type": "stream",
     "text": [
      "\n"
     ]
    },
    {
     "name": "stdout",
     "output_type": "stream",
     "text": [
      "\n",
      "      Epoch    GPU_mem   box_loss   cls_loss   dfl_loss  Instances       Size\n"
     ]
    },
    {
     "name": "stderr",
     "output_type": "stream",
     "text": [
      "      28/50      6.05G     0.6022     0.7044      1.167          9        640: 100%|██████████| 118/118 [00:18<00:00,  6.34it/s]\n",
      "                 Class     Images  Instances      Box(P          R      mAP50  mAP50-95): 100%|██████████| 59/59 [00:09<00:00,  6.54it/s]"
     ]
    },
    {
     "name": "stdout",
     "output_type": "stream",
     "text": [
      "                   all       1876       2472      0.831      0.852      0.896      0.814\n"
     ]
    },
    {
     "name": "stderr",
     "output_type": "stream",
     "text": [
      "\n"
     ]
    },
    {
     "name": "stdout",
     "output_type": "stream",
     "text": [
      "\n",
      "      Epoch    GPU_mem   box_loss   cls_loss   dfl_loss  Instances       Size\n"
     ]
    },
    {
     "name": "stderr",
     "output_type": "stream",
     "text": [
      "      29/50      6.07G     0.5808     0.7121      1.157          9        640: 100%|██████████| 118/118 [00:18<00:00,  6.33it/s]\n",
      "                 Class     Images  Instances      Box(P          R      mAP50  mAP50-95): 100%|██████████| 59/59 [00:09<00:00,  6.49it/s]"
     ]
    },
    {
     "name": "stdout",
     "output_type": "stream",
     "text": [
      "                   all       1876       2472      0.789      0.866       0.88      0.801\n"
     ]
    },
    {
     "name": "stderr",
     "output_type": "stream",
     "text": [
      "\n"
     ]
    },
    {
     "name": "stdout",
     "output_type": "stream",
     "text": [
      "\n",
      "      Epoch    GPU_mem   box_loss   cls_loss   dfl_loss  Instances       Size\n"
     ]
    },
    {
     "name": "stderr",
     "output_type": "stream",
     "text": [
      "      30/50      6.05G     0.5959     0.6921      1.163         12        640: 100%|██████████| 118/118 [00:18<00:00,  6.37it/s]\n",
      "                 Class     Images  Instances      Box(P          R      mAP50  mAP50-95): 100%|██████████| 59/59 [00:09<00:00,  6.53it/s]"
     ]
    },
    {
     "name": "stdout",
     "output_type": "stream",
     "text": [
      "                   all       1876       2472      0.762      0.861      0.879      0.803\n"
     ]
    },
    {
     "name": "stderr",
     "output_type": "stream",
     "text": [
      "\n"
     ]
    },
    {
     "name": "stdout",
     "output_type": "stream",
     "text": [
      "\n",
      "      Epoch    GPU_mem   box_loss   cls_loss   dfl_loss  Instances       Size\n"
     ]
    },
    {
     "name": "stderr",
     "output_type": "stream",
     "text": [
      "      31/50      6.06G     0.5751     0.6701      1.152          9        640: 100%|██████████| 118/118 [00:18<00:00,  6.35it/s]\n",
      "                 Class     Images  Instances      Box(P          R      mAP50  mAP50-95): 100%|██████████| 59/59 [00:09<00:00,  6.51it/s]"
     ]
    },
    {
     "name": "stdout",
     "output_type": "stream",
     "text": [
      "                   all       1876       2472      0.864      0.843      0.908      0.828\n"
     ]
    },
    {
     "name": "stderr",
     "output_type": "stream",
     "text": [
      "\n"
     ]
    },
    {
     "name": "stdout",
     "output_type": "stream",
     "text": [
      "\n",
      "      Epoch    GPU_mem   box_loss   cls_loss   dfl_loss  Instances       Size\n"
     ]
    },
    {
     "name": "stderr",
     "output_type": "stream",
     "text": [
      "      32/50      6.05G     0.5799     0.6826      1.145         12        640: 100%|██████████| 118/118 [00:18<00:00,  6.34it/s]\n",
      "                 Class     Images  Instances      Box(P          R      mAP50  mAP50-95): 100%|██████████| 59/59 [00:09<00:00,  6.45it/s]"
     ]
    },
    {
     "name": "stdout",
     "output_type": "stream",
     "text": [
      "                   all       1876       2472      0.846      0.861      0.906       0.83\n"
     ]
    },
    {
     "name": "stderr",
     "output_type": "stream",
     "text": [
      "\n"
     ]
    },
    {
     "name": "stdout",
     "output_type": "stream",
     "text": [
      "\n",
      "      Epoch    GPU_mem   box_loss   cls_loss   dfl_loss  Instances       Size\n"
     ]
    },
    {
     "name": "stderr",
     "output_type": "stream",
     "text": [
      "      33/50      6.06G     0.5658     0.6394      1.146         10        640: 100%|██████████| 118/118 [00:18<00:00,  6.32it/s]\n",
      "                 Class     Images  Instances      Box(P          R      mAP50  mAP50-95): 100%|██████████| 59/59 [00:09<00:00,  6.43it/s]"
     ]
    },
    {
     "name": "stdout",
     "output_type": "stream",
     "text": [
      "                   all       1876       2472      0.827      0.861        0.9      0.825\n"
     ]
    },
    {
     "name": "stderr",
     "output_type": "stream",
     "text": [
      "\n"
     ]
    },
    {
     "name": "stdout",
     "output_type": "stream",
     "text": [
      "\n",
      "      Epoch    GPU_mem   box_loss   cls_loss   dfl_loss  Instances       Size\n"
     ]
    },
    {
     "name": "stderr",
     "output_type": "stream",
     "text": [
      "      34/50      6.05G     0.5713     0.6645      1.149         10        640: 100%|██████████| 118/118 [00:18<00:00,  6.39it/s]\n",
      "                 Class     Images  Instances      Box(P          R      mAP50  mAP50-95): 100%|██████████| 59/59 [00:09<00:00,  6.52it/s]"
     ]
    },
    {
     "name": "stdout",
     "output_type": "stream",
     "text": [
      "                   all       1876       2472      0.859       0.88       0.92      0.847\n"
     ]
    },
    {
     "name": "stderr",
     "output_type": "stream",
     "text": [
      "\n"
     ]
    },
    {
     "name": "stdout",
     "output_type": "stream",
     "text": [
      "\n",
      "      Epoch    GPU_mem   box_loss   cls_loss   dfl_loss  Instances       Size\n"
     ]
    },
    {
     "name": "stderr",
     "output_type": "stream",
     "text": [
      "      35/50      6.06G     0.5569     0.6326      1.138          9        640: 100%|██████████| 118/118 [00:18<00:00,  6.33it/s]\n",
      "                 Class     Images  Instances      Box(P          R      mAP50  mAP50-95): 100%|██████████| 59/59 [00:09<00:00,  6.53it/s]"
     ]
    },
    {
     "name": "stdout",
     "output_type": "stream",
     "text": [
      "                   all       1876       2472      0.877      0.869      0.921      0.851\n"
     ]
    },
    {
     "name": "stderr",
     "output_type": "stream",
     "text": [
      "\n"
     ]
    },
    {
     "name": "stdout",
     "output_type": "stream",
     "text": [
      "\n",
      "      Epoch    GPU_mem   box_loss   cls_loss   dfl_loss  Instances       Size\n"
     ]
    },
    {
     "name": "stderr",
     "output_type": "stream",
     "text": [
      "      36/50      6.05G     0.5764     0.6305      1.146         13        640: 100%|██████████| 118/118 [00:18<00:00,  6.37it/s]\n",
      "                 Class     Images  Instances      Box(P          R      mAP50  mAP50-95): 100%|██████████| 59/59 [00:09<00:00,  6.45it/s]"
     ]
    },
    {
     "name": "stdout",
     "output_type": "stream",
     "text": [
      "                   all       1876       2472      0.839       0.88      0.914      0.843\n"
     ]
    },
    {
     "name": "stderr",
     "output_type": "stream",
     "text": [
      "\n"
     ]
    },
    {
     "name": "stdout",
     "output_type": "stream",
     "text": [
      "\n",
      "      Epoch    GPU_mem   box_loss   cls_loss   dfl_loss  Instances       Size\n"
     ]
    },
    {
     "name": "stderr",
     "output_type": "stream",
     "text": [
      "      37/50      6.06G     0.5608     0.6186       1.14         12        640: 100%|██████████| 118/118 [00:18<00:00,  6.31it/s]\n",
      "                 Class     Images  Instances      Box(P          R      mAP50  mAP50-95): 100%|██████████| 59/59 [00:09<00:00,  6.55it/s]"
     ]
    },
    {
     "name": "stdout",
     "output_type": "stream",
     "text": [
      "                   all       1876       2472      0.885      0.869      0.924      0.852\n"
     ]
    },
    {
     "name": "stderr",
     "output_type": "stream",
     "text": [
      "\n"
     ]
    },
    {
     "name": "stdout",
     "output_type": "stream",
     "text": [
      "\n",
      "      Epoch    GPU_mem   box_loss   cls_loss   dfl_loss  Instances       Size\n"
     ]
    },
    {
     "name": "stderr",
     "output_type": "stream",
     "text": [
      "      38/50      6.05G     0.5628     0.5971      1.137         10        640: 100%|██████████| 118/118 [00:18<00:00,  6.33it/s]\n",
      "                 Class     Images  Instances      Box(P          R      mAP50  mAP50-95): 100%|██████████| 59/59 [00:09<00:00,  6.50it/s]"
     ]
    },
    {
     "name": "stdout",
     "output_type": "stream",
     "text": [
      "                   all       1876       2472       0.87      0.891      0.927      0.857\n"
     ]
    },
    {
     "name": "stderr",
     "output_type": "stream",
     "text": [
      "\n"
     ]
    },
    {
     "name": "stdout",
     "output_type": "stream",
     "text": [
      "\n",
      "      Epoch    GPU_mem   box_loss   cls_loss   dfl_loss  Instances       Size\n"
     ]
    },
    {
     "name": "stderr",
     "output_type": "stream",
     "text": [
      "      39/50      6.06G      0.558     0.5937      1.137         10        640: 100%|██████████| 118/118 [00:18<00:00,  6.31it/s]\n",
      "                 Class     Images  Instances      Box(P          R      mAP50  mAP50-95): 100%|██████████| 59/59 [00:09<00:00,  6.47it/s]"
     ]
    },
    {
     "name": "stdout",
     "output_type": "stream",
     "text": [
      "                   all       1876       2472      0.883      0.871      0.932      0.864\n"
     ]
    },
    {
     "name": "stderr",
     "output_type": "stream",
     "text": [
      "\n"
     ]
    },
    {
     "name": "stdout",
     "output_type": "stream",
     "text": [
      "\n",
      "      Epoch    GPU_mem   box_loss   cls_loss   dfl_loss  Instances       Size\n"
     ]
    },
    {
     "name": "stderr",
     "output_type": "stream",
     "text": [
      "      40/50      6.05G     0.5556      0.581      1.133         12        640: 100%|██████████| 118/118 [00:18<00:00,  6.37it/s]\n",
      "                 Class     Images  Instances      Box(P          R      mAP50  mAP50-95): 100%|██████████| 59/59 [00:09<00:00,  6.51it/s]"
     ]
    },
    {
     "name": "stdout",
     "output_type": "stream",
     "text": [
      "                   all       1876       2472      0.873      0.886      0.931      0.863\n"
     ]
    },
    {
     "name": "stderr",
     "output_type": "stream",
     "text": [
      "\n"
     ]
    },
    {
     "name": "stdout",
     "output_type": "stream",
     "text": [
      "Closing dataloader mosaic\n",
      "\n",
      "      Epoch    GPU_mem   box_loss   cls_loss   dfl_loss  Instances       Size\n"
     ]
    },
    {
     "name": "stderr",
     "output_type": "stream",
     "text": [
      "      41/50      6.06G     0.5804     0.5095      1.158         10        640: 100%|██████████| 118/118 [00:18<00:00,  6.30it/s]\n",
      "                 Class     Images  Instances      Box(P          R      mAP50  mAP50-95): 100%|██████████| 59/59 [00:09<00:00,  6.50it/s]"
     ]
    },
    {
     "name": "stdout",
     "output_type": "stream",
     "text": [
      "                   all       1876       2472      0.882      0.914      0.938      0.869\n"
     ]
    },
    {
     "name": "stderr",
     "output_type": "stream",
     "text": [
      "\n"
     ]
    },
    {
     "name": "stdout",
     "output_type": "stream",
     "text": [
      "\n",
      "      Epoch    GPU_mem   box_loss   cls_loss   dfl_loss  Instances       Size\n"
     ]
    },
    {
     "name": "stderr",
     "output_type": "stream",
     "text": [
      "      42/50      6.05G     0.5697     0.4928      1.159          4        640: 100%|██████████| 118/118 [00:18<00:00,  6.38it/s]\n",
      "                 Class     Images  Instances      Box(P          R      mAP50  mAP50-95): 100%|██████████| 59/59 [00:09<00:00,  6.48it/s]"
     ]
    },
    {
     "name": "stdout",
     "output_type": "stream",
     "text": [
      "                   all       1876       2472      0.902      0.893      0.948      0.881\n"
     ]
    },
    {
     "name": "stderr",
     "output_type": "stream",
     "text": [
      "\n"
     ]
    },
    {
     "name": "stdout",
     "output_type": "stream",
     "text": [
      "\n",
      "      Epoch    GPU_mem   box_loss   cls_loss   dfl_loss  Instances       Size\n"
     ]
    },
    {
     "name": "stderr",
     "output_type": "stream",
     "text": [
      "      43/50      6.05G     0.5627     0.4849      1.157          4        640: 100%|██████████| 118/118 [00:18<00:00,  6.37it/s]\n",
      "                 Class     Images  Instances      Box(P          R      mAP50  mAP50-95): 100%|██████████| 59/59 [00:09<00:00,  6.55it/s]"
     ]
    },
    {
     "name": "stdout",
     "output_type": "stream",
     "text": [
      "                   all       1876       2472      0.874      0.897      0.936      0.866\n"
     ]
    },
    {
     "name": "stderr",
     "output_type": "stream",
     "text": [
      "\n"
     ]
    },
    {
     "name": "stdout",
     "output_type": "stream",
     "text": [
      "\n",
      "      Epoch    GPU_mem   box_loss   cls_loss   dfl_loss  Instances       Size\n"
     ]
    },
    {
     "name": "stderr",
     "output_type": "stream",
     "text": [
      "      44/50      6.04G     0.5577     0.4578      1.149          8        640: 100%|██████████| 118/118 [00:18<00:00,  6.41it/s]\n",
      "                 Class     Images  Instances      Box(P          R      mAP50  mAP50-95): 100%|██████████| 59/59 [00:09<00:00,  6.50it/s]"
     ]
    },
    {
     "name": "stdout",
     "output_type": "stream",
     "text": [
      "                   all       1876       2472      0.879      0.904      0.946      0.882\n"
     ]
    },
    {
     "name": "stderr",
     "output_type": "stream",
     "text": [
      "\n"
     ]
    },
    {
     "name": "stdout",
     "output_type": "stream",
     "text": [
      "\n",
      "      Epoch    GPU_mem   box_loss   cls_loss   dfl_loss  Instances       Size\n"
     ]
    },
    {
     "name": "stderr",
     "output_type": "stream",
     "text": [
      "      45/50      6.05G      0.557     0.4455      1.142          8        640: 100%|██████████| 118/118 [00:18<00:00,  6.35it/s]\n",
      "                 Class     Images  Instances      Box(P          R      mAP50  mAP50-95): 100%|██████████| 59/59 [00:09<00:00,  6.47it/s]"
     ]
    },
    {
     "name": "stdout",
     "output_type": "stream",
     "text": [
      "                   all       1876       2472      0.901      0.903      0.941       0.88\n"
     ]
    },
    {
     "name": "stderr",
     "output_type": "stream",
     "text": [
      "\n"
     ]
    },
    {
     "name": "stdout",
     "output_type": "stream",
     "text": [
      "\n",
      "      Epoch    GPU_mem   box_loss   cls_loss   dfl_loss  Instances       Size\n"
     ]
    },
    {
     "name": "stderr",
     "output_type": "stream",
     "text": [
      "      46/50      6.04G     0.5431     0.4425      1.143          5        640: 100%|██████████| 118/118 [00:18<00:00,  6.40it/s]\n",
      "                 Class     Images  Instances      Box(P          R      mAP50  mAP50-95): 100%|██████████| 59/59 [00:09<00:00,  6.49it/s]"
     ]
    },
    {
     "name": "stdout",
     "output_type": "stream",
     "text": [
      "                   all       1876       2472      0.902      0.917      0.956      0.896\n"
     ]
    },
    {
     "name": "stderr",
     "output_type": "stream",
     "text": [
      "\n"
     ]
    },
    {
     "name": "stdout",
     "output_type": "stream",
     "text": [
      "\n",
      "      Epoch    GPU_mem   box_loss   cls_loss   dfl_loss  Instances       Size\n"
     ]
    },
    {
     "name": "stderr",
     "output_type": "stream",
     "text": [
      "      47/50      6.05G     0.5411     0.4292      1.127          7        640: 100%|██████████| 118/118 [00:18<00:00,  6.37it/s]\n",
      "                 Class     Images  Instances      Box(P          R      mAP50  mAP50-95): 100%|██████████| 59/59 [00:09<00:00,  6.45it/s]"
     ]
    },
    {
     "name": "stdout",
     "output_type": "stream",
     "text": [
      "                   all       1876       2472      0.905      0.925       0.96      0.902\n"
     ]
    },
    {
     "name": "stderr",
     "output_type": "stream",
     "text": [
      "\n"
     ]
    },
    {
     "name": "stdout",
     "output_type": "stream",
     "text": [
      "\n",
      "      Epoch    GPU_mem   box_loss   cls_loss   dfl_loss  Instances       Size\n"
     ]
    },
    {
     "name": "stderr",
     "output_type": "stream",
     "text": [
      "      48/50      6.04G     0.5265     0.4072      1.123          8        640: 100%|██████████| 118/118 [00:18<00:00,  6.38it/s]\n",
      "                 Class     Images  Instances      Box(P          R      mAP50  mAP50-95): 100%|██████████| 59/59 [00:09<00:00,  6.42it/s]"
     ]
    },
    {
     "name": "stdout",
     "output_type": "stream",
     "text": [
      "                   all       1876       2472      0.917      0.934      0.963      0.905\n"
     ]
    },
    {
     "name": "stderr",
     "output_type": "stream",
     "text": [
      "\n"
     ]
    },
    {
     "name": "stdout",
     "output_type": "stream",
     "text": [
      "\n",
      "      Epoch    GPU_mem   box_loss   cls_loss   dfl_loss  Instances       Size\n"
     ]
    },
    {
     "name": "stderr",
     "output_type": "stream",
     "text": [
      "      49/50      6.05G     0.5315     0.4059      1.129          6        640: 100%|██████████| 118/118 [00:18<00:00,  6.36it/s]\n",
      "                 Class     Images  Instances      Box(P          R      mAP50  mAP50-95): 100%|██████████| 59/59 [00:09<00:00,  6.48it/s]"
     ]
    },
    {
     "name": "stdout",
     "output_type": "stream",
     "text": [
      "                   all       1876       2472      0.939      0.917      0.966      0.907\n"
     ]
    },
    {
     "name": "stderr",
     "output_type": "stream",
     "text": [
      "\n"
     ]
    },
    {
     "name": "stdout",
     "output_type": "stream",
     "text": [
      "\n",
      "      Epoch    GPU_mem   box_loss   cls_loss   dfl_loss  Instances       Size\n"
     ]
    },
    {
     "name": "stderr",
     "output_type": "stream",
     "text": [
      "      50/50      6.04G     0.5161     0.3878      1.112          4        640: 100%|██████████| 118/118 [00:18<00:00,  6.42it/s]\n",
      "                 Class     Images  Instances      Box(P          R      mAP50  mAP50-95): 100%|██████████| 59/59 [00:09<00:00,  6.52it/s]"
     ]
    },
    {
     "name": "stdout",
     "output_type": "stream",
     "text": [
      "                   all       1876       2472      0.937      0.923      0.968       0.91\n"
     ]
    },
    {
     "name": "stderr",
     "output_type": "stream",
     "text": [
      "\n"
     ]
    },
    {
     "name": "stdout",
     "output_type": "stream",
     "text": [
      "\n",
      "50 epochs completed in 0.401 hours.\n",
      "Optimizer stripped from runs\\detect\\train\\weights\\last.pt, 19.0MB\n",
      "Optimizer stripped from runs\\detect\\train\\weights\\best.pt, 19.0MB\n",
      "\n",
      "Validating runs\\detect\\train\\weights\\best.pt...\n",
      "Ultralytics 8.3.82  Python-3.10.16 torch-2.5.1 CUDA:0 (NVIDIA GeForce RTX 4070 Ti SUPER, 16376MiB)\n",
      "YOLOv12s summary (fused): 159 layers, 9,235,911 parameters, 0 gradients, 21.2 GFLOPs\n"
     ]
    },
    {
     "name": "stderr",
     "output_type": "stream",
     "text": [
      "                 Class     Images  Instances      Box(P          R      mAP50  mAP50-95): 100%|██████████| 59/59 [00:09<00:00,  6.11it/s]\n"
     ]
    },
    {
     "name": "stdout",
     "output_type": "stream",
     "text": [
      "                   all       1876       2472      0.938      0.923      0.968       0.91\n",
      "           cerscospora        224        224      0.996      0.991      0.994      0.976\n",
      "               healthy        187        190      0.972      0.924      0.983      0.809\n",
      "                 miner        347        709      0.964      0.976      0.993      0.799\n",
      "                 phoma        169        169      0.997          1      0.995      0.973\n",
      "                  rust        342        577      0.937      0.787      0.945      0.647\n",
      "         Falta-de-boro         68         68      0.966      0.985      0.987      0.987\n",
      "       Falta-de-calcio        112        112      0.947      0.964      0.984      0.979\n",
      "      Falta-de-fosforo        157        157      0.994      0.981      0.994      0.989\n",
      "       Falta-de-hierro         45         45      0.807      0.933      0.953      0.935\n",
      "     Falta-de-magnesio         52         52       0.82      0.808      0.893      0.893\n",
      "    Falta-de-manganeso         57         57      0.887      0.826      0.915      0.915\n",
      "      Falta-de-potasio         67         67      0.967      0.863      0.973      0.973\n",
      "       Falta-nitrogeno         45         45      0.935      0.959      0.973      0.949\n",
      "Speed: 0.1ms preprocess, 2.0ms inference, 0.0ms loss, 0.7ms postprocess per image\n",
      "Results saved to \u001b[1mruns\\detect\\train\u001b[0m\n"
     ]
    }
   ],
   "source": [
    "# Procesar el primer modelo: YOLO12s\n",
    "info = models_info[3]\n",
    "model_name = info[\"name\"]\n",
    "weights_path = info[\"weights\"]\n",
    "model = YOLO(weights_path)\n",
    "\n",
    "# 1. Entrenamiento del modelo:\n",
    "train_results = model.train(project=OUTPUT_DIR / \"runs\", \n",
    "        data=yaml_path,\n",
    "        epochs=epochs,\n",
    "        imgsz=imgsz,\n",
    "        batch=batch,\n",
    "        patience=patience,\n",
    "        device=device,\n",
    "        exist_ok=True,\n",
    "        pretrained=True)"
   ]
  },
  {
   "cell_type": "code",
   "execution_count": null,
   "metadata": {},
   "outputs": [
    {
     "name": "stdout",
     "output_type": "stream",
     "text": [
      "Ultralytics 8.3.82  Python-3.10.16 torch-2.5.1 CUDA:0 (NVIDIA GeForce RTX 4070 Ti SUPER, 16376MiB)\n",
      "YOLOv12s summary (fused): 159 layers, 9,235,911 parameters, 0 gradients, 21.2 GFLOPs\n"
     ]
    },
    {
     "name": "stderr",
     "output_type": "stream",
     "text": [
      "\u001b[34m\u001b[1mval: \u001b[0mScanning C:\\Users\\ALEX\\OneDrive\\Cursos\\Maestría en Big Data y Data Science\\Cursos-VIU\\Oblgatorios\\TFM\\detection-diseases-coffee\\combinado\\train\\labels.cache... 1876 images, 4 backgrounds, 0 corrupt: 100%|██████████| 1876/1876 [00:00<?, ?it/s]"
     ]
    },
    {
     "name": "stdout",
     "output_type": "stream",
     "text": [
      "\u001b[34m\u001b[1mtrain: \u001b[0mWARNING  C:\\Users\\ALEX\\OneDrive\\Cursos\\Maestra en Big Data y Data Science\\Cursos-VIU\\Oblgatorios\\TFM\\detection-diseases-coffee\\combinado\\train\\images\\D2_Fe-21-_jpg.rf.edc47339d1daf7530340e96080dc2f82.jpg: 1 duplicate labels removed\n",
      "WARNING  Box and segment counts should be equal, but got len(segments) = 603, len(boxes) = 2472. To resolve this only boxes will be used and all segments will be removed. To avoid this please supply either a detect or segment dataset, not a detect-segment mixed dataset.\n"
     ]
    },
    {
     "name": "stderr",
     "output_type": "stream",
     "text": [
      "\n",
      "                 Class     Images  Instances      Box(P          R      mAP50  mAP50-95): 100%|██████████| 118/118 [00:11<00:00, 10.10it/s]\n"
     ]
    },
    {
     "name": "stdout",
     "output_type": "stream",
     "text": [
      "                   all       1876       2472      0.937      0.923      0.968       0.91\n",
      "           cerscospora        224        224      0.996      0.991      0.994      0.976\n",
      "               healthy        187        190      0.972      0.924      0.983      0.808\n",
      "                 miner        347        709      0.964      0.976      0.993      0.799\n",
      "                 phoma        169        169      0.997          1      0.995      0.974\n",
      "                  rust        342        577      0.934      0.786      0.944      0.646\n",
      "         Falta-de-boro         68         68      0.966      0.985      0.987      0.987\n",
      "       Falta-de-calcio        112        112      0.946      0.964      0.984      0.979\n",
      "      Falta-de-fosforo        157        157      0.994      0.981      0.994      0.989\n",
      "       Falta-de-hierro         45         45      0.807      0.933      0.953      0.935\n",
      "     Falta-de-magnesio         52         52      0.819      0.808      0.893      0.893\n",
      "    Falta-de-manganeso         57         57      0.887      0.827      0.915      0.915\n",
      "      Falta-de-potasio         67         67      0.967      0.862      0.974      0.974\n",
      "       Falta-nitrogeno         45         45      0.935       0.96      0.973      0.949\n",
      "Speed: 0.2ms preprocess, 3.3ms inference, 0.0ms loss, 0.6ms postprocess per image\n",
      "Results saved to \u001b[1mruns\\detect\\train\u001b[0m\n",
      "No se pudo usar results_dict(), se intentará extrayendo atributos. 'dict' object is not callable\n"
     ]
    },
    {
     "data": {
      "text/plain": [
       "{'epoch': 50.0,\n",
       " 'time': 1441.98,\n",
       " 'train/box_loss': 0.51612,\n",
       " 'train/cls_loss': 0.38781,\n",
       " 'train/dfl_loss': 1.11219,\n",
       " 'metrics/precision(B)': 0.93749,\n",
       " 'metrics/recall(B)': 0.92305,\n",
       " 'metrics/mAP50(B)': 0.9678,\n",
       " 'metrics/mAP50-95(B)': 0.9096,\n",
       " 'val/box_loss': 0.4873,\n",
       " 'val/cls_loss': 0.35821,\n",
       " 'val/dfl_loss': 0.90756,\n",
       " 'lr/pg0': 1.75224e-05,\n",
       " 'lr/pg1': 1.75224e-05,\n",
       " 'lr/pg2': 1.75224e-05}"
      ]
     },
     "metadata": {},
     "output_type": "display_data"
    }
   ],
   "source": [
    "# 2. Evaluación y extracción de métricas\n",
    "metrics_dict = extract_metrics(model)\n",
    "\n",
    "metrics_dict"
   ]
  },
  {
   "cell_type": "code",
   "execution_count": null,
   "metadata": {},
   "outputs": [
    {
     "name": "stdout",
     "output_type": "stream",
     "text": [
      "Ultralytics 8.3.82  Python-3.10.16 torch-2.5.1 CPU (AMD Ryzen 7 7700X 8-Core Processor)\n",
      "\n",
      "\u001b[34m\u001b[1mPyTorch:\u001b[0m starting from 'runs\\detect\\train\\weights\\best.pt' with input shape (1, 3, 640, 640) BCHW and output shape(s) (1, 17, 8400) (18.1 MB)\n",
      "\n",
      "\u001b[34m\u001b[1mONNX:\u001b[0m starting export with onnx 1.17.0 opset 12...\n",
      "\u001b[34m\u001b[1mONNX:\u001b[0m slimming with onnxslim 0.1.48...\n",
      "\u001b[34m\u001b[1mONNX:\u001b[0m export success  1.9s, saved as 'runs\\detect\\train\\weights\\best.onnx' (35.5 MB)\n",
      "\n",
      "Export complete (2.2s)\n",
      "Results saved to \u001b[1mC:\\Users\\ALEX\\OneDrive\\Cursos\\Maestra en Big Data y Data Science\\Cursos-VIU\\Oblgatorios\\TFM\\detection-diseases-coffee\\runs\\detect\\train\\weights\u001b[0m\n",
      "Predict:         yolo predict task=detect model=runs\\detect\\train\\weights\\best.onnx imgsz=640  \n",
      "Validate:        yolo val task=detect model=runs\\detect\\train\\weights\\best.onnx imgsz=640 data=C:/Users/ALEX/OneDrive/Cursos/Maestra en Big Data y Data Science/Cursos-VIU/Oblgatorios/TFM/detection-diseases-coffee/combinado/data.yaml  \n",
      "Visualize:       https://netron.app\n",
      "WARNING  TensorRT requires GPU export, automatically assigning device=0\n",
      "Ultralytics 8.3.82  Python-3.10.16 torch-2.5.1 CUDA:0 (NVIDIA GeForce RTX 4070 Ti SUPER, 16376MiB)\n",
      "\n",
      "\u001b[34m\u001b[1mPyTorch:\u001b[0m starting from 'runs\\detect\\train\\weights\\best.pt' with input shape (1, 3, 640, 640) BCHW and output shape(s) (1, 17, 8400) (18.1 MB)\n",
      "\n",
      "\u001b[34m\u001b[1mONNX:\u001b[0m starting export with onnx 1.17.0 opset 12...\n",
      "\u001b[34m\u001b[1mONNX:\u001b[0m slimming with onnxslim 0.1.48...\n",
      "\u001b[34m\u001b[1mONNX:\u001b[0m export success  1.6s, saved as 'runs\\detect\\train\\weights\\best.onnx' (35.5 MB)\n",
      "\u001b[34m\u001b[1mTensorRT:\u001b[0m export failure  1.6s: No module named 'tensorrt'\n",
      "TensorRT no está instalado. Se retornará None para la velocidad TRT.\n"
     ]
    },
    {
     "data": {
      "text/plain": [
       "[{'Modelo': 'YOLO11n',\n",
       "  'Tamaño (píxeles)': 640,\n",
       "  'epoch': 50.0,\n",
       "  'time': 883.183,\n",
       "  'train/box_loss': 0.51573,\n",
       "  'train/cls_loss': 0.45963,\n",
       "  'train/dfl_loss': 1.09464,\n",
       "  'metrics/precision(B)': 0.9237,\n",
       "  'metrics/recall(B)': 0.93555,\n",
       "  'metrics/mAP50(B)': 0.96995,\n",
       "  'metrics/mAP50-95(B)': 0.91132,\n",
       "  'val/box_loss': 0.48951,\n",
       "  'val/cls_loss': 0.41305,\n",
       "  'val/dfl_loss': 0.89411,\n",
       "  'lr/pg0': 1.75224e-05,\n",
       "  'lr/pg1': 1.75224e-05,\n",
       "  'lr/pg2': 1.75224e-05,\n",
       "  'Velocidad CPU ONNX (ms)': 22.33635187149048,\n",
       "  'Velocidad T4 TensorRT (ms)': None,\n",
       "  'Parámetros (M)': 2.584687,\n",
       "  'FLOPs (B)': 6393562400},\n",
       " {'Modelo': 'YOLO12n',\n",
       "  'Tamaño (píxeles)': 640,\n",
       "  'epoch': 50.0,\n",
       "  'time': 1127.04,\n",
       "  'train/box_loss': 0.51129,\n",
       "  'train/cls_loss': 0.43628,\n",
       "  'train/dfl_loss': 1.0939,\n",
       "  'metrics/precision(B)': 0.91198,\n",
       "  'metrics/recall(B)': 0.95641,\n",
       "  'metrics/mAP50(B)': 0.96774,\n",
       "  'metrics/mAP50-95(B)': 0.91137,\n",
       "  'val/box_loss': 0.47812,\n",
       "  'val/cls_loss': 0.38077,\n",
       "  'val/dfl_loss': 0.88336,\n",
       "  'lr/pg0': 1.75224e-05,\n",
       "  'lr/pg1': 1.75224e-05,\n",
       "  'lr/pg2': 1.75224e-05,\n",
       "  'Velocidad CPU ONNX (ms)': 25.344526767730713,\n",
       "  'Velocidad T4 TensorRT (ms)': None,\n",
       "  'Parámetros (M)': 2.559263,\n",
       "  'FLOPs (B)': 6409127200},\n",
       " {'Modelo': 'YOLO11s',\n",
       "  'Tamaño (píxeles)': 640,\n",
       "  'epoch': 50.0,\n",
       "  'time': 1103.55,\n",
       "  'train/box_loss': 0.50343,\n",
       "  'train/cls_loss': 0.39276,\n",
       "  'train/dfl_loss': 1.07776,\n",
       "  'metrics/precision(B)': 0.91603,\n",
       "  'metrics/recall(B)': 0.92962,\n",
       "  'metrics/mAP50(B)': 0.96505,\n",
       "  'metrics/mAP50-95(B)': 0.9083,\n",
       "  'val/box_loss': 0.46924,\n",
       "  'val/cls_loss': 0.34404,\n",
       "  'val/dfl_loss': 0.87531,\n",
       "  'lr/pg0': 1.75224e-05,\n",
       "  'lr/pg1': 1.75224e-05,\n",
       "  'lr/pg2': 1.75224e-05,\n",
       "  'Velocidad CPU ONNX (ms)': 52.62967348098755,\n",
       "  'Velocidad T4 TensorRT (ms)': None,\n",
       "  'Parámetros (M)': 9.417831,\n",
       "  'FLOPs (B)': 21457421600},\n",
       " {'Modelo': 'YOLO12s',\n",
       "  'Tamaño (píxeles)': 640,\n",
       "  'epoch': 50.0,\n",
       "  'time': 1441.98,\n",
       "  'train/box_loss': 0.51612,\n",
       "  'train/cls_loss': 0.38781,\n",
       "  'train/dfl_loss': 1.11219,\n",
       "  'metrics/precision(B)': 0.93749,\n",
       "  'metrics/recall(B)': 0.92305,\n",
       "  'metrics/mAP50(B)': 0.9678,\n",
       "  'metrics/mAP50-95(B)': 0.9096,\n",
       "  'val/box_loss': 0.4873,\n",
       "  'val/cls_loss': 0.35821,\n",
       "  'val/dfl_loss': 0.90756,\n",
       "  'lr/pg0': 1.75224e-05,\n",
       "  'lr/pg1': 1.75224e-05,\n",
       "  'lr/pg2': 1.75224e-05,\n",
       "  'Velocidad CPU ONNX (ms)': 63.152515888214104,\n",
       "  'Velocidad T4 TensorRT (ms)': None,\n",
       "  'Parámetros (M)': 9.235911,\n",
       "  'FLOPs (B)': 21383693600}]"
      ]
     },
     "metadata": {},
     "output_type": "display_data"
    }
   ],
   "source": [
    "# Guardar ruta de exortación en formato pt\n",
    "pt_export_path = export_and_copy_pt(model, model_name)\n",
    "\n",
    "# 3. Exportar a ONNX y copiarlo con el nombre deseado\n",
    "onnx_export_path = export_and_copy_onnx(model, model_name, imgsz)\n",
    "avg_time_cpu = measure_onnx_inference_speed(onnx_export_path, imgsz)\n",
    "\n",
    "# 4. Exportar a TensorRT y medir velocidad (si es posible)\n",
    "trt_engine_path = export_and_copy_trt(model, model_name, imgsz)\n",
    "avg_time_trt = measure_trt_inference_speed(trt_engine_path, n_iter=20)\n",
    "\n",
    "# 5. Calcular parámetros y definir placeholder para FLOPs\n",
    "params = compute_model_params(model)\n",
    "\n",
    "flops = compute_flops(model, imgsz)\n",
    "\n",
    "# 6. Combinar toda la información\n",
    "results_yolo12s = combine_results(model_name, imgsz, metrics_dict, avg_time_cpu, avg_time_trt, params, flops)\n",
    "\n",
    "results_list.append(results_yolo12s)\n",
    "\n",
    "results_list"
   ]
  },
  {
   "cell_type": "markdown",
   "metadata": {},
   "source": [
    "### Revisión de resultados"
   ]
  },
  {
   "cell_type": "code",
   "execution_count": null,
   "metadata": {},
   "outputs": [
    {
     "name": "stdout",
     "output_type": "stream",
     "text": [
      "\n",
      "Comparación de modelos fine-tuned:\n"
     ]
    },
    {
     "data": {
      "text/html": [
       "<div>\n",
       "<style scoped>\n",
       "    .dataframe tbody tr th:only-of-type {\n",
       "        vertical-align: middle;\n",
       "    }\n",
       "\n",
       "    .dataframe tbody tr th {\n",
       "        vertical-align: top;\n",
       "    }\n",
       "\n",
       "    .dataframe thead th {\n",
       "        text-align: right;\n",
       "    }\n",
       "</style>\n",
       "<table border=\"1\" class=\"dataframe\">\n",
       "  <thead>\n",
       "    <tr style=\"text-align: right;\">\n",
       "      <th></th>\n",
       "      <th>Modelo</th>\n",
       "      <th>Tamaño (píxeles)</th>\n",
       "      <th>epoch</th>\n",
       "      <th>time</th>\n",
       "      <th>train/box_loss</th>\n",
       "      <th>train/cls_loss</th>\n",
       "      <th>train/dfl_loss</th>\n",
       "      <th>metrics/precision(B)</th>\n",
       "      <th>metrics/recall(B)</th>\n",
       "      <th>metrics/mAP50(B)</th>\n",
       "      <th>...</th>\n",
       "      <th>val/box_loss</th>\n",
       "      <th>val/cls_loss</th>\n",
       "      <th>val/dfl_loss</th>\n",
       "      <th>lr/pg0</th>\n",
       "      <th>lr/pg1</th>\n",
       "      <th>lr/pg2</th>\n",
       "      <th>Velocidad CPU ONNX (ms)</th>\n",
       "      <th>Velocidad T4 TensorRT (ms)</th>\n",
       "      <th>Parámetros (M)</th>\n",
       "      <th>FLOPs (B)</th>\n",
       "    </tr>\n",
       "  </thead>\n",
       "  <tbody>\n",
       "    <tr>\n",
       "      <th>0</th>\n",
       "      <td>YOLO11n</td>\n",
       "      <td>640</td>\n",
       "      <td>50.0</td>\n",
       "      <td>883.183</td>\n",
       "      <td>0.51573</td>\n",
       "      <td>0.45963</td>\n",
       "      <td>1.09464</td>\n",
       "      <td>0.92370</td>\n",
       "      <td>0.93555</td>\n",
       "      <td>0.96995</td>\n",
       "      <td>...</td>\n",
       "      <td>0.48951</td>\n",
       "      <td>0.41305</td>\n",
       "      <td>0.89411</td>\n",
       "      <td>0.000018</td>\n",
       "      <td>0.000018</td>\n",
       "      <td>0.000018</td>\n",
       "      <td>22.336352</td>\n",
       "      <td>None</td>\n",
       "      <td>2.584687</td>\n",
       "      <td>6393562400</td>\n",
       "    </tr>\n",
       "    <tr>\n",
       "      <th>1</th>\n",
       "      <td>YOLO12n</td>\n",
       "      <td>640</td>\n",
       "      <td>50.0</td>\n",
       "      <td>1127.040</td>\n",
       "      <td>0.51129</td>\n",
       "      <td>0.43628</td>\n",
       "      <td>1.09390</td>\n",
       "      <td>0.91198</td>\n",
       "      <td>0.95641</td>\n",
       "      <td>0.96774</td>\n",
       "      <td>...</td>\n",
       "      <td>0.47812</td>\n",
       "      <td>0.38077</td>\n",
       "      <td>0.88336</td>\n",
       "      <td>0.000018</td>\n",
       "      <td>0.000018</td>\n",
       "      <td>0.000018</td>\n",
       "      <td>25.344527</td>\n",
       "      <td>None</td>\n",
       "      <td>2.559263</td>\n",
       "      <td>6409127200</td>\n",
       "    </tr>\n",
       "    <tr>\n",
       "      <th>2</th>\n",
       "      <td>YOLO11s</td>\n",
       "      <td>640</td>\n",
       "      <td>50.0</td>\n",
       "      <td>1103.550</td>\n",
       "      <td>0.50343</td>\n",
       "      <td>0.39276</td>\n",
       "      <td>1.07776</td>\n",
       "      <td>0.91603</td>\n",
       "      <td>0.92962</td>\n",
       "      <td>0.96505</td>\n",
       "      <td>...</td>\n",
       "      <td>0.46924</td>\n",
       "      <td>0.34404</td>\n",
       "      <td>0.87531</td>\n",
       "      <td>0.000018</td>\n",
       "      <td>0.000018</td>\n",
       "      <td>0.000018</td>\n",
       "      <td>52.629673</td>\n",
       "      <td>None</td>\n",
       "      <td>9.417831</td>\n",
       "      <td>21457421600</td>\n",
       "    </tr>\n",
       "    <tr>\n",
       "      <th>3</th>\n",
       "      <td>YOLO12s</td>\n",
       "      <td>640</td>\n",
       "      <td>50.0</td>\n",
       "      <td>1441.980</td>\n",
       "      <td>0.51612</td>\n",
       "      <td>0.38781</td>\n",
       "      <td>1.11219</td>\n",
       "      <td>0.93749</td>\n",
       "      <td>0.92305</td>\n",
       "      <td>0.96780</td>\n",
       "      <td>...</td>\n",
       "      <td>0.48730</td>\n",
       "      <td>0.35821</td>\n",
       "      <td>0.90756</td>\n",
       "      <td>0.000018</td>\n",
       "      <td>0.000018</td>\n",
       "      <td>0.000018</td>\n",
       "      <td>63.152516</td>\n",
       "      <td>None</td>\n",
       "      <td>9.235911</td>\n",
       "      <td>21383693600</td>\n",
       "    </tr>\n",
       "  </tbody>\n",
       "</table>\n",
       "<p>4 rows × 21 columns</p>\n",
       "</div>"
      ],
      "text/plain": [
       "    Modelo  Tamaño (píxeles)  epoch      time  train/box_loss  train/cls_loss  \\\n",
       "0  YOLO11n               640   50.0   883.183         0.51573         0.45963   \n",
       "1  YOLO12n               640   50.0  1127.040         0.51129         0.43628   \n",
       "2  YOLO11s               640   50.0  1103.550         0.50343         0.39276   \n",
       "3  YOLO12s               640   50.0  1441.980         0.51612         0.38781   \n",
       "\n",
       "   train/dfl_loss  metrics/precision(B)  metrics/recall(B)  metrics/mAP50(B)  \\\n",
       "0         1.09464               0.92370            0.93555           0.96995   \n",
       "1         1.09390               0.91198            0.95641           0.96774   \n",
       "2         1.07776               0.91603            0.92962           0.96505   \n",
       "3         1.11219               0.93749            0.92305           0.96780   \n",
       "\n",
       "   ...  val/box_loss  val/cls_loss  val/dfl_loss    lr/pg0    lr/pg1  \\\n",
       "0  ...       0.48951       0.41305       0.89411  0.000018  0.000018   \n",
       "1  ...       0.47812       0.38077       0.88336  0.000018  0.000018   \n",
       "2  ...       0.46924       0.34404       0.87531  0.000018  0.000018   \n",
       "3  ...       0.48730       0.35821       0.90756  0.000018  0.000018   \n",
       "\n",
       "     lr/pg2  Velocidad CPU ONNX (ms)  Velocidad T4 TensorRT (ms)  \\\n",
       "0  0.000018                22.336352                        None   \n",
       "1  0.000018                25.344527                        None   \n",
       "2  0.000018                52.629673                        None   \n",
       "3  0.000018                63.152516                        None   \n",
       "\n",
       "  Parámetros (M)    FLOPs (B)  \n",
       "0       2.584687   6393562400  \n",
       "1       2.559263   6409127200  \n",
       "2       9.417831  21457421600  \n",
       "3       9.235911  21383693600  \n",
       "\n",
       "[4 rows x 21 columns]"
      ]
     },
     "metadata": {},
     "output_type": "display_data"
    }
   ],
   "source": [
    "# Crear y mostrar la tabla comparativa\n",
    "df = pd.DataFrame(results_list)\n",
    "\n",
    "print(\"\\nComparación de modelos fine-tuned:\")\n",
    "df"
   ]
  },
  {
   "cell_type": "code",
   "execution_count": null,
   "metadata": {},
   "outputs": [],
   "source": [
    "# Guardar la tabla en CSV\n",
    "df.to_csv(\"comparacion_modelos.csv\", index=False)"
   ]
  },
  {
   "cell_type": "code",
   "execution_count": null,
   "metadata": {},
   "outputs": [],
   "source": [
    "def select_relevant_metrics(df,keywords):\n",
    "    \"\"\"\n",
    "    A partir de un DataFrame con columnas de métricas (por ejemplo, provenientes del CSV de resultados)\n",
    "    detecta cuáles son las métricas más relevantes para comparar modelos de detección y genera un texto\n",
    "    explicativo de la elección.\n",
    "    \n",
    "    Se consideran relevantes las columnas que contengan las palabras clave:\n",
    "      - precision\n",
    "      - recall\n",
    "      - mAP50-95\n",
    "      - mAP50\n",
    "    Adicionalmente, se sugieren opcionalmente columnas como 'epoch' y 'time' para analizar eficiencia.\n",
    "\n",
    "    Retorna:\n",
    "      - relevant_metrics: lista de nombres de columnas relevantes\n",
    "      - optional_metrics: lista de columnas opcionales (como 'epoch' o 'time')\n",
    "      - explanation: texto explicativo de la elección\n",
    "    \"\"\"\n",
    "    # Palabras clave para métricas principales (sin importar mayúsculas o minúsculas)\n",
    "    relevant_metrics = []\n",
    "    for col in df.columns:\n",
    "        for key in keywords:\n",
    "            if key.lower() in col.lower():\n",
    "                relevant_metrics.append(col)\n",
    "                break\n",
    "\n",
    "    # Métricas opcionales que se pueden usar para comparar eficiencia o duración\n",
    "    optional_metrics = []\n",
    "    for opt in ['time', 'epoch']:\n",
    "        if opt in df.columns:\n",
    "            optional_metrics.append(opt)\n",
    "    \n",
    "    explanation = \"Se han seleccionado las siguientes métricas principales para comparar el desempeño de detección:\\n\"\n",
    "    explanation += \", \".join(relevant_metrics) + \".\\n\\n\"\n",
    "    explanation += \"Estas métricas se consideran relevantes porque:\\n\"\n",
    "    explanation += \"- Las métricas con el prefijo 'metrics/' (por ejemplo, \" + \", \".join([m for m in relevant_metrics if 'metrics/' in m]) + \") \" \n",
    "    explanation += \"representan directamente la calidad de la detección (precisión, recall y mAP) en el conjunto de validación.\\n\"\n",
    "    explanation += \"- Los valores de 'mAP50' y 'mAP50-95' permiten evaluar el desempeño en diferentes umbrales de IoU, lo cual es crucial en tareas de detección.\\n\\n\"\n",
    "    explanation += \"Adicionalmente, se consideran opcionales las siguientes columnas para analizar la eficiencia y convergencia:\\n\"\n",
    "    explanation += \", \".join(optional_metrics) + \".\\n\"\n",
    "    explanation += \"Estas columnas indican el tiempo de entrenamiento y el número de epochs, lo que ayuda a comparar la velocidad de convergencia y el costo computacional, aunque no son indicadores directos de la calidad en inferencia.\\n\\n\"\n",
    "    explanation += \"Por otro lado, se omiten columnas con prefijos como 'train/' (pérdidas de entrenamiento) y 'lr/' (tasa de aprendizaje) ya que, aunque son útiles para monitorizar el proceso de optimización, no reflejan directamente el desempeño final en la tarea de detección.\"\n",
    "    \n",
    "    return relevant_metrics, optional_metrics, explanation"
   ]
  },
  {
   "cell_type": "code",
   "execution_count": null,
   "metadata": {},
   "outputs": [
    {
     "name": "stdout",
     "output_type": "stream",
     "text": [
      "Se han seleccionado las siguientes métricas principales para comparar el desempeño de detección:\n",
      "metrics/precision(B), metrics/recall(B), metrics/mAP50(B), metrics/mAP50-95(B).\n",
      "\n",
      "Estas métricas se consideran relevantes porque:\n",
      "- Las métricas con el prefijo 'metrics/' (por ejemplo, metrics/precision(B), metrics/recall(B), metrics/mAP50(B), metrics/mAP50-95(B)) representan directamente la calidad de la detección (precisión, recall y mAP) en el conjunto de validación.\n",
      "- Los valores de 'mAP50' y 'mAP50-95' permiten evaluar el desempeño en diferentes umbrales de IoU, lo cual es crucial en tareas de detección.\n",
      "\n",
      "Adicionalmente, se consideran opcionales las siguientes columnas para analizar la eficiencia y convergencia:\n",
      "time, epoch.\n",
      "Estas columnas indican el tiempo de entrenamiento y el número de epochs, lo que ayuda a comparar la velocidad de convergencia y el costo computacional, aunque no son indicadores directos de la calidad en inferencia.\n",
      "\n",
      "Por otro lado, se omiten columnas con prefijos como 'train/' (pérdidas de entrenamiento) y 'lr/' (tasa de aprendizaje) ya que, aunque son útiles para monitorizar el proceso de optimización, no reflejan directamente el desempeño final en la tarea de detección.\n"
     ]
    }
   ],
   "source": [
    "keywords = ['precision', 'recall', 'mAP50-95', 'mAP50']\n",
    "relevant1, optional, text_explanation = select_relevant_metrics(df,keywords)\n",
    "print(text_explanation)"
   ]
  },
  {
   "cell_type": "code",
   "execution_count": null,
   "metadata": {},
   "outputs": [
    {
     "name": "stdout",
     "output_type": "stream",
     "text": [
      "Se han seleccionado las siguientes métricas principales para comparar el desempeño de detección:\n",
      "Velocidad CPU ONNX (ms), Parámetros (M), FLOPs (B).\n",
      "\n",
      "Estas métricas se consideran relevantes porque:\n",
      "- Las métricas con el prefijo 'metrics/' (por ejemplo, ) representan directamente la calidad de la detección (precisión, recall y mAP) en el conjunto de validación.\n",
      "- Los valores de 'mAP50' y 'mAP50-95' permiten evaluar el desempeño en diferentes umbrales de IoU, lo cual es crucial en tareas de detección.\n",
      "\n",
      "Adicionalmente, se consideran opcionales las siguientes columnas para analizar la eficiencia y convergencia:\n",
      "time, epoch.\n",
      "Estas columnas indican el tiempo de entrenamiento y el número de epochs, lo que ayuda a comparar la velocidad de convergencia y el costo computacional, aunque no son indicadores directos de la calidad en inferencia.\n",
      "\n",
      "Por otro lado, se omiten columnas con prefijos como 'train/' (pérdidas de entrenamiento) y 'lr/' (tasa de aprendizaje) ya que, aunque son útiles para monitorizar el proceso de optimización, no reflejan directamente el desempeño final en la tarea de detección.\n"
     ]
    }
   ],
   "source": [
    "keywords = ['Velocidad CPU ONNX (ms)','Parámetros (M)','FLOPs (B)']\n",
    "relevant2, optional, text_explanation = select_relevant_metrics(df,keywords)\n",
    "print(text_explanation)"
   ]
  },
  {
   "cell_type": "code",
   "execution_count": null,
   "metadata": {},
   "outputs": [
    {
     "data": {
      "text/html": [
       "<div>\n",
       "<style scoped>\n",
       "    .dataframe tbody tr th:only-of-type {\n",
       "        vertical-align: middle;\n",
       "    }\n",
       "\n",
       "    .dataframe tbody tr th {\n",
       "        vertical-align: top;\n",
       "    }\n",
       "\n",
       "    .dataframe thead th {\n",
       "        text-align: right;\n",
       "    }\n",
       "</style>\n",
       "<table border=\"1\" class=\"dataframe\">\n",
       "  <thead>\n",
       "    <tr style=\"text-align: right;\">\n",
       "      <th></th>\n",
       "      <th>Modelo</th>\n",
       "      <th>epoch</th>\n",
       "      <th>metrics/precision(B)</th>\n",
       "      <th>metrics/recall(B)</th>\n",
       "      <th>metrics/mAP50(B)</th>\n",
       "      <th>metrics/mAP50-95(B)</th>\n",
       "      <th>Velocidad CPU ONNX (ms)</th>\n",
       "      <th>Parámetros (M)</th>\n",
       "      <th>FLOPs (B)</th>\n",
       "    </tr>\n",
       "  </thead>\n",
       "  <tbody>\n",
       "    <tr>\n",
       "      <th>0</th>\n",
       "      <td>YOLO11n</td>\n",
       "      <td>50.0</td>\n",
       "      <td>0.92370</td>\n",
       "      <td>0.93555</td>\n",
       "      <td>0.96995</td>\n",
       "      <td>0.91132</td>\n",
       "      <td>22.336352</td>\n",
       "      <td>2.584687</td>\n",
       "      <td>6393562400</td>\n",
       "    </tr>\n",
       "    <tr>\n",
       "      <th>1</th>\n",
       "      <td>YOLO12n</td>\n",
       "      <td>50.0</td>\n",
       "      <td>0.91198</td>\n",
       "      <td>0.95641</td>\n",
       "      <td>0.96774</td>\n",
       "      <td>0.91137</td>\n",
       "      <td>25.344527</td>\n",
       "      <td>2.559263</td>\n",
       "      <td>6409127200</td>\n",
       "    </tr>\n",
       "    <tr>\n",
       "      <th>2</th>\n",
       "      <td>YOLO11s</td>\n",
       "      <td>50.0</td>\n",
       "      <td>0.91603</td>\n",
       "      <td>0.92962</td>\n",
       "      <td>0.96505</td>\n",
       "      <td>0.90830</td>\n",
       "      <td>52.629673</td>\n",
       "      <td>9.417831</td>\n",
       "      <td>21457421600</td>\n",
       "    </tr>\n",
       "    <tr>\n",
       "      <th>3</th>\n",
       "      <td>YOLO12s</td>\n",
       "      <td>50.0</td>\n",
       "      <td>0.93749</td>\n",
       "      <td>0.92305</td>\n",
       "      <td>0.96780</td>\n",
       "      <td>0.90960</td>\n",
       "      <td>63.152516</td>\n",
       "      <td>9.235911</td>\n",
       "      <td>21383693600</td>\n",
       "    </tr>\n",
       "  </tbody>\n",
       "</table>\n",
       "</div>"
      ],
      "text/plain": [
       "    Modelo  epoch  metrics/precision(B)  metrics/recall(B)  metrics/mAP50(B)  \\\n",
       "0  YOLO11n   50.0               0.92370            0.93555           0.96995   \n",
       "1  YOLO12n   50.0               0.91198            0.95641           0.96774   \n",
       "2  YOLO11s   50.0               0.91603            0.92962           0.96505   \n",
       "3  YOLO12s   50.0               0.93749            0.92305           0.96780   \n",
       "\n",
       "   metrics/mAP50-95(B)  Velocidad CPU ONNX (ms)  Parámetros (M)    FLOPs (B)  \n",
       "0              0.91132                22.336352        2.584687   6393562400  \n",
       "1              0.91137                25.344527        2.559263   6409127200  \n",
       "2              0.90830                52.629673        9.417831  21457421600  \n",
       "3              0.90960                63.152516        9.235911  21383693600  "
      ]
     },
     "metadata": {},
     "output_type": "display_data"
    }
   ],
   "source": [
    "df[[\"Modelo\",\"epoch\"] + relevant1 + relevant2]"
   ]
  },
  {
   "cell_type": "code",
   "execution_count": null,
   "metadata": {},
   "outputs": [],
   "source": [
    "%matplotlib inline"
   ]
  },
  {
   "cell_type": "code",
   "execution_count": null,
   "metadata": {},
   "outputs": [
    {
     "data": {
      "image/png": "[encoded data removed]",
      "text/plain": [
       "<Figure size 1600x600 with 1 Axes>"
      ]
     },
     "metadata": {},
     "output_type": "display_data"
    },
    {
     "name": "stdout",
     "output_type": "stream",
     "text": [
      "En este gráfico se comparan las siguientes métricas: metrics/precision(B), metrics/recall(B), metrics/mAP50(B), metrics/mAP50-95(B).\n",
      "Cada grupo de barras corresponde a un modelo, y cada color representa una métrica distinta.\n",
      "\n",
      "- Para la métrica 'metrics/precision(B)', el mejor modelo es **YOLO12s** con un valor de **0.9375**.\n",
      "- Para la métrica 'metrics/recall(B)', el mejor modelo es **YOLO12n** con un valor de **0.9564**.\n",
      "- Para la métrica 'metrics/mAP50(B)', el mejor modelo es **YOLO11n** con un valor de **0.9699**.\n",
      "- Para la métrica 'metrics/mAP50-95(B)', el mejor modelo es **YOLO12n** con un valor de **0.9114**.\n",
      "\n",
      "Resumen de cuántas veces cada modelo obtuvo el mejor valor:\n",
      "  - YOLO12n: 2 métrica(s)\n",
      "  - YOLO12s: 1 métrica(s)\n",
      "  - YOLO11n: 1 métrica(s)\n",
      "\n",
      "En base a estas métricas, el modelo con mayor cantidad de 'mejores resultados' se podría considerar superior. No obstante, la elección final puede depender de otras consideraciones (velocidad de inferencia, tamaño, etc.).\n"
     ]
    }
   ],
   "source": [
    "import matplotlib.pyplot as plt\n",
    "import pandas as pd\n",
    "\n",
    "def plot_grouped_bars_and_explain(df, relevant_metrics, title=\"Comparación de métricas entre modelos\"):\n",
    "    \"\"\"\n",
    "    Genera un gráfico de barras agrupadas para las métricas indicadas, comparando cada modelo.\n",
    "    Además, produce un texto explicativo indicando cuál modelo es mejor en cada métrica.\n",
    "\n",
    "    Parámetros:\n",
    "      - df (DataFrame): Debe contener una columna \"Modelo\" y columnas de métricas numéricas.\n",
    "      - relevant_metrics (list): Lista de nombres de columnas de métricas a graficar.\n",
    "      - title (str): Título opcional para el gráfico.\n",
    "\n",
    "    Retorna:\n",
    "      - explanation (str): Un texto que explica cuál modelo es mejor en cada métrica.\n",
    "    \"\"\"\n",
    "    # 1. Subconjunto con \"Modelo\" y las métricas relevantes\n",
    "    subset = df[[\"Modelo\"] + relevant_metrics].copy()\n",
    "\n",
    "    # 2. Establecer \"Modelo\" como índice para facilitar el gráfico\n",
    "    subset.set_index(\"Modelo\", inplace=True)\n",
    "\n",
    "    # 3. Crear gráfico de barras agrupadas\n",
    "    ax = subset.plot(kind=\"bar\", figsize=(10 + 1.5*len(relevant_metrics), 6), rot=0, title=title)\n",
    "    ax.set_ylabel(\"Valor de la métrica\")\n",
    "    # Mover la leyenda para que no tape el gráfico\n",
    "    plt.legend(title=\"Métricas\", bbox_to_anchor=(1.05, 1), loc='upper left')\n",
    "    plt.tight_layout()\n",
    "    plt.show()\n",
    "\n",
    "    # 4. Generar explicación sobre los resultados\n",
    "    explanation = f\"En este gráfico se comparan las siguientes métricas: {', '.join(relevant_metrics)}.\\n\"\n",
    "    explanation += \"Cada grupo de barras corresponde a un modelo, y cada color representa una métrica distinta.\\n\\n\"\n",
    "\n",
    "    # 5. Determinar el/los mejor(es) modelo(s) para cada métrica\n",
    "    best_models = {}\n",
    "    for metric in relevant_metrics:\n",
    "        # Buscar el valor máximo\n",
    "        max_value = subset[metric].max()\n",
    "        # Encontrar qué modelo(s) tienen ese valor máximo\n",
    "        best_mods = subset[subset[metric] == max_value].index.tolist()\n",
    "        best_models[metric] = (best_mods, max_value)\n",
    "\n",
    "    # 6. Construir texto explicativo de cuál es mejor en cada métrica\n",
    "    for metric, (best_mods, max_value) in best_models.items():\n",
    "        if len(best_mods) == 1:\n",
    "            explanation += f\"- Para la métrica '{metric}', el mejor modelo es **{best_mods[0]}** con un valor de **{max_value:.4f}**.\\n\"\n",
    "        else:\n",
    "            explanation += f\"- Para la métrica '{metric}', los mejores modelos son **{', '.join(best_mods)}** con un valor de **{max_value:.4f}**.\\n\"\n",
    "\n",
    "    # 7. Resumen: cuántas veces cada modelo fue el mejor\n",
    "    count_best = {}\n",
    "    for metric, (best_mods, _) in best_models.items():\n",
    "        for m in best_mods:\n",
    "            count_best[m] = count_best.get(m, 0) + 1\n",
    "\n",
    "    explanation += \"\\nResumen de cuántas veces cada modelo obtuvo el mejor valor:\\n\"\n",
    "    for m, c in sorted(count_best.items(), key=lambda x: x[1], reverse=True):\n",
    "        explanation += f\"  - {m}: {c} métrica(s)\\n\"\n",
    "\n",
    "    explanation += \"\\nEn base a estas métricas, el modelo con mayor cantidad de 'mejores resultados' se podría considerar superior. \" \\\n",
    "                   \"No obstante, la elección final puede depender de otras consideraciones (velocidad de inferencia, tamaño, etc.).\"\n",
    "\n",
    "    return explanation\n",
    "\n",
    "explanation_text = plot_grouped_bars_and_explain(df, relevant1)\n",
    "print(explanation_text)\n"
   ]
  },
  {
   "cell_type": "code",
   "execution_count": null,
   "metadata": {},
   "outputs": [
    {
     "data": {
      "image/png": "[encoded data removed]",
      "text/plain": [
       "<Figure size 2000x500 with 4 Axes>"
      ]
     },
     "metadata": {},
     "output_type": "display_data"
    }
   ],
   "source": [
    "import matplotlib.pyplot as plt\n",
    "import pandas as pd\n",
    "\n",
    "def plot_model_comparison(df, relevant_metrics):\n",
    "    \"\"\"\n",
    "    Genera un gráfico de barras para cada métrica relevante comparando los modelos.\n",
    "    \n",
    "    Parámetros:\n",
    "      - df: DataFrame que contiene los resultados por modelo.\n",
    "      - relevant_metrics: Lista de columnas (métricas) a graficar.\n",
    "    \"\"\"\n",
    "    num_metrics = len(relevant_metrics)\n",
    "    # Si hay varias métricas, creamos subplots en una fila.\n",
    "    fig, axes = plt.subplots(nrows=1, ncols=num_metrics, figsize=(5*num_metrics, 5))\n",
    "    \n",
    "    # Si sólo hay una métrica, aseguramos que axes sea una lista.\n",
    "    if num_metrics == 1:\n",
    "        axes = [axes]\n",
    "        \n",
    "    for ax, metric in zip(axes, relevant_metrics):\n",
    "        # Verifica que la columna sea numérica para graficarla\n",
    "        if pd.api.types.is_numeric_dtype(df[metric]):\n",
    "            ax.bar(df[\"Modelo\"], df[metric], color='skyblue')\n",
    "            ax.set_title(metric)\n",
    "            ax.set_xlabel(\"Modelo\")\n",
    "            ax.set_ylabel(metric)\n",
    "            ax.tick_params(axis='x', rotation=45)\n",
    "        else:\n",
    "            ax.text(0.5, 0.5, f\"No es numérica: {metric}\", horizontalalignment='center', verticalalignment='center')\n",
    "            ax.set_axis_off()\n",
    "    plt.tight_layout()\n",
    "    plt.show()\n",
    "\n",
    "plot_model_comparison(df, relevant1)"
   ]
  },
  {
   "cell_type": "markdown",
   "metadata": {},
   "source": [
    "### Análisis de resultados\n",
    "\n",
    "1. **Métricas principales (precisión, recall, mAP50 y mAP50-95)**  \n",
    "   - **YOLO11s** alcanza la mayor precisión (\\(0.8074\\)), así como los mejores valores de mAP50 (\\(0.8679\\)) y mAP50-95 (\\(0.8167\\)). Esto indica que, en general, YOLO11s tiene la mayor capacidad para detectar correctamente los objetos (alta precisión) y un rendimiento sólido a diferentes umbrales de IoU (mAP).  \n",
    "   - **YOLO11n**, por otro lado, obtiene el mejor recall (\\(0.8399\\)). Esto significa que YOLO11n tiende a detectar un mayor porcentaje de objetos, aunque su precisión sea ligeramente menor.  \n",
    "   - **YOLO12n** y **YOLO12s** no superan a YOLO11s ni a YOLO11n en estas métricas específicas. YOLO12n tiene un recall un poco inferior a YOLO11n y una precisión ligeramente mayor que YOLO11n, pero no alcanza los valores de YOLO11s. Por su parte, YOLO12s queda algo rezagado en todas las métricas consideradas.\n",
    "\n",
    "2. **Tamaño del modelo (número de parámetros)**  \n",
    "   - **YOLO11s** y **YOLO12s** presentan aproximadamente 9.4M y 9.2M parámetros, respectivamente, mientras que **YOLO11n** y **YOLO12n** rondan los 2.5M. Esto implica que los modelos \"s\" (small) son significativamente más grandes que los \"n\" (nano) en términos de capacidad y, potencialmente, de coste computacional.  \n",
    "   - El hecho de que YOLO11s sea el modelo con mejor rendimiento coincide con que sea también uno de los más grandes, lo que sugiere que la mayor capacidad de parámetros podría estar aprovechándose para obtener un mejor ajuste a los datos.\n",
    "\n",
    "3. **Número de épocas (epoch)**  \n",
    "   - YOLO11s entrenó durante 42 épocas, mientras que YOLO12s solo 24. Esto puede indicar que YOLO12s no alcanzó su punto óptimo de entrenamiento. Del mismo modo, YOLO11n y YOLO12n entrenaron 27 y 33 épocas, respectivamente.  \n",
    "   - Podría ser interesante homogeneizar el número de épocas o aplicar técnicas de early stopping consistentes para comparar los modelos en igualdad de condiciones de entrenamiento.\n",
    "\n",
    "4. **Conclusión general**  \n",
    "   - **YOLO11s** es el modelo con mejor rendimiento global en las métricas de precisión, mAP50 y mAP50-95. Sin embargo, es también el más grande en número de parámetros (junto con YOLO12s), lo que implica mayor coste computacional en entrenamiento e inferencia.  \n",
    "   - **YOLO11n** destaca por su alto recall, lo que podría ser valioso en aplicaciones donde es preferible detectar tantos objetos como sea posible (aunque a costa de más falsos positivos). Además, YOLO11n es mucho más ligero que YOLO11s.  \n",
    "   - **YOLO12n** y **YOLO12s** no superan los resultados de sus contrapartes \"11\" en las métricas analizadas, si bien YOLO12n tiene un rendimiento cercano a YOLO11n y también un número de parámetros similar.  \n",
    "   - A la hora de elegir un modelo, es importante balancear la precisión, el recall y el mAP con la complejidad (número de parámetros) y la velocidad de inferencia. En este caso, si la prioridad absoluta es la calidad de detección, YOLO11s es el mejor de los cuatro; si la prioridad es un modelo ligero con alto recall, YOLO11n podría ser la mejor elección.\n"
   ]
  },
  {
   "cell_type": "markdown",
   "metadata": {},
   "source": [
    "### Predicción"
   ]
  },
  {
   "cell_type": "code",
   "execution_count": null,
   "metadata": {},
   "outputs": [
    {
     "name": "stdout",
     "output_type": "stream",
     "text": [
      "\n",
      "image 1/9 C:\\Users\\ALEX\\OneDrive\\Cursos\\Maestra en Big Data y Data Science\\Cursos-VIU\\Oblgatorios\\TFM\\detection-diseases-coffee\\imagenes de prueba\\D2_Fe-29-_jpg.rf.76c26d5b72254f1d6d3da88c0bbeadb7.jpg: 640x640 3 Falta-de-hierros, 13.7ms\n",
      "image 2/9 C:\\Users\\ALEX\\OneDrive\\Cursos\\Maestra en Big Data y Data Science\\Cursos-VIU\\Oblgatorios\\TFM\\detection-diseases-coffee\\imagenes de prueba\\D2_Mn-38-_jpg.rf.55b0533d25249fcec8445f4b2c2f038f.jpg: 640x640 1 Falta-de-manganeso, 10.9ms\n",
      "image 3/9 C:\\Users\\ALEX\\OneDrive\\Cursos\\Maestra en Big Data y Data Science\\Cursos-VIU\\Oblgatorios\\TFM\\detection-diseases-coffee\\imagenes de prueba\\D2_Mn-83-_jpg.rf.33c29492e9348d75d6606324350c5325.jpg: 640x640 1 Falta-de-hierro, 10.7ms\n",
      "image 4/9 C:\\Users\\ALEX\\OneDrive\\Cursos\\Maestra en Big Data y Data Science\\Cursos-VIU\\Oblgatorios\\TFM\\detection-diseases-coffee\\imagenes de prueba\\Prueba escala alta.jpg: 448x640 1 Falta-de-boro, 4 Falta-de-calcios, 2 Falta-de-hierros, 15.9ms\n",
      "image 5/9 C:\\Users\\ALEX\\OneDrive\\Cursos\\Maestra en Big Data y Data Science\\Cursos-VIU\\Oblgatorios\\TFM\\detection-diseases-coffee\\imagenes de prueba\\image prueba.jpg: 480x640 1 rust, 14.3ms\n",
      "image 6/9 C:\\Users\\ALEX\\OneDrive\\Cursos\\Maestra en Big Data y Data Science\\Cursos-VIU\\Oblgatorios\\TFM\\detection-diseases-coffee\\imagenes de prueba\\imagen planta.jpeg: 480x640 1 healthy, 13.9ms\n",
      "image 7/9 C:\\Users\\ALEX\\OneDrive\\Cursos\\Maestra en Big Data y Data Science\\Cursos-VIU\\Oblgatorios\\TFM\\detection-diseases-coffee\\imagenes de prueba\\imagen2.jpg: 384x640 1 healthy, 9.7ms\n",
      "image 8/9 C:\\Users\\ALEX\\OneDrive\\Cursos\\Maestra en Big Data y Data Science\\Cursos-VIU\\Oblgatorios\\TFM\\detection-diseases-coffee\\imagenes de prueba\\miner.jpg: 448x640 1 healthy, 10.1ms\n",
      "image 9/9 C:\\Users\\ALEX\\OneDrive\\Cursos\\Maestra en Big Data y Data Science\\Cursos-VIU\\Oblgatorios\\TFM\\detection-diseases-coffee\\imagenes de prueba\\nuevo.jpg: 640x640 1 healthy, 2 miners, 1 phoma, 1 rust, 11.6ms\n",
      "Speed: 2.1ms preprocess, 12.3ms inference, 2.0ms postprocess per image at shape (1, 3, 640, 640)\n",
      "Results saved to \u001b[1mC:\\Users\\ALEX\\OneDrive\\Cursos\\Maestra en Big Data y Data Science\\Cursos-VIU\\Oblgatorios\\TFM\\Datasets\\predicciones\\comb\\predicciones\u001b[0m\n",
      "Predicciones guardadas en: C:\\Users\\ALEX\\OneDrive\\Cursos\\Maestría en Big Data y Data Science\\Cursos-VIU\\Oblgatorios\\TFM\\Datasets\\predicciones\\comb/predicciones\n"
     ]
    },
    {
     "ename": "",
     "evalue": "",
     "output_type": "error",
     "traceback": [
      "\u001b[1;31mEl kernel se bloqueó al ejecutar código en la celda actual o en una celda anterior. \n",
      "\n",
      "\u001b[1;31mRevise el código de las celdas para identificar una posible causa del error. \n",
      "\n",
      "\u001b[1;31mHaga clic <a href='https://aka.ms/vscodeJupyterKernelCrash'>aquí</a> para obtener más información. \n",
      "\n",
      "\u001b[1;31mVea Jupyter <a href='command:jupyter.viewOutput'>log</a> para obtener más detalles."
     ]
    }
   ],
   "source": [
    "import torch\n",
    "from ultralytics import YOLO\n",
    "import os\n",
    "\n",
    "# Cargar el modelo YOLO\n",
    "model_path = MODEL_DIR / 'fine_tuned' / 'YOLO11n.pt'\n",
    "modelo_pytorch = YOLO(model_path)  # Carga la arquitectura + pesos\n",
    "\n",
    "# Definir la carpeta de salida para predicciones\n",
    "pred_dir = OUTPUT_DIR / 'predictions'\n",
    "os.makedirs(pred_dir, exist_ok=True)  # Crear carpeta si no existe\n",
    "\n",
    "# Realizar predicciones y guardarlas en la carpeta de destino\n",
    "predictions = modelo_pytorch.predict(\n",
    "    source=r\"C:\\Users\\ALEX\\OneDrive\\Cursos\\Maestría en Big Data y Data Science\\Cursos-VIU\\Oblgatorios\\TFM\\detection-diseases-coffee\\imagenes de prueba\",\n",
    "    imgsz=640,\n",
    "    save=True,         # Guarda automáticamente las imágenes con anotaciones\n",
    "    project=pred_dir,  # Guarda los resultados en la carpeta personalizada\n",
    "    name=\"predicciones\"  # Nombre del subdirectorio dentro de `pred_dir`\n",
    ")\n",
    "\n",
    "print(f\"Predicciones guardadas en: {pred_dir}/predicciones\")"
   ]
  },
  {
   "cell_type": "markdown",
   "metadata": {},
   "source": [
    "## Exportación en tflite"
   ]
  },
  {
   "cell_type": "code",
   "execution_count": null,
   "metadata": {},
   "outputs": [
    {
     "name": "stderr",
     "output_type": "stream",
     "text": [
      "c:\\ProgramData\\miniconda3\\envs\\export_env\\lib\\site-packages\\tensorflow_addons\\utils\\tfa_eol_msg.py:23: UserWarning: \n",
      "\n",
      "TensorFlow Addons (TFA) has ended development and introduction of new features.\n",
      "TFA has entered a minimal maintenance and release mode until a planned end of life in May 2024.\n",
      "Please modify downstream libraries to take dependencies from other repositories in our TensorFlow community (e.g. Keras, Keras-CV, and Keras-NLP). \n",
      "\n",
      "For more information see: https://github.com/tensorflow/addons/issues/2807 \n",
      "\n",
      "  warnings.warn(\n"
     ]
    },
    {
     "name": "stdout",
     "output_type": "stream",
     "text": [
      "TensorFlow version: 2.12.0\n"
     ]
    }
   ],
   "source": [
    "import os\n",
    "os.environ[\"PROTOCOL_BUFFERS_PYTHON_IMPLEMENTATION\"] = \"python\"\n",
    "import onnx\n",
    "from onnx_tf.backend import prepare\n",
    "import tensorflow as tf\n",
    "\n",
    "print(\"TensorFlow version:\", tf.__version__)"
   ]
  },
  {
   "cell_type": "code",
   "execution_count": null,
   "metadata": {},
   "outputs": [],
   "source": [
    "# Ruta para el modelo ONNX\n",
    "onnx_path = MODEL_DIR / 'fine_tuned' / 'YOLO11n.onnx'\n",
    "\n",
    "# Cargar el modelo ONNX\n",
    "onnx_model = onnx.load(onnx_path)\n",
    "\n",
    "# Preparar la representación de TensorFlow\n",
    "tf_rep = prepare(onnx_model)"
   ]
  },
  {
   "cell_type": "code",
   "execution_count": null,
   "metadata": {},
   "outputs": [
    {
     "name": "stdout",
     "output_type": "stream",
     "text": [
      "Cantidad de clases en el modelo ONNX: 8400\n"
     ]
    }
   ],
   "source": [
    "# Obtener la información de los tensores de salida\n",
    "output_tensor = onnx_model.graph.output[0]\n",
    "output_shape = [dim.dim_value for dim in output_tensor.type.tensor_type.shape.dim]\n",
    "\n",
    "# La última dimensión suele ser el número de clases\n",
    "num_classes_onnx = output_shape[-1]\n",
    "\n",
    "print(f\"Cantidad de clases en el modelo ONNX: {num_classes_onnx}\")"
   ]
  },
  {
   "cell_type": "code",
   "execution_count": null,
   "metadata": {},
   "outputs": [],
   "source": [
    "saved_model_dir_base = \"C://TEMP_MODEL_YOLO11n\" #  Ruta MUY corta y simple\n",
    "saved_model_dir = os.path.join(saved_model_dir_base, \"OUT\") # Subdirectorio también muy corto\n",
    "\n",
    "# Asegurarse de que el directorio base exista \n",
    "os.makedirs(saved_model_dir_base, exist_ok=True) # Asegura que el directorio \"Modelo\" existe\n",
    "# Asegurarse de que el directorio de salida del SavedModel exista\n",
    "os.makedirs(saved_model_dir, exist_ok=True)"
   ]
  },
  {
   "cell_type": "code",
   "execution_count": null,
   "metadata": {},
   "outputs": [
    {
     "name": "stderr",
     "output_type": "stream",
     "text": [
      "WARNING:absl:Found untraced functions such as gen_tensor_dict while saving (showing 1 of 1). These functions will not be directly callable after loading.\n"
     ]
    },
    {
     "name": "stdout",
     "output_type": "stream",
     "text": [
      "INFO:tensorflow:Assets written to: C://TEMP_MODEL_YOLO11n\\OUT/assets\n"
     ]
    },
    {
     "name": "stderr",
     "output_type": "stream",
     "text": [
      "INFO:tensorflow:Assets written to: C://TEMP_MODEL_YOLO11n\\OUT/assets\n"
     ]
    },
    {
     "name": "stdout",
     "output_type": "stream",
     "text": [
      "Modelo convertido a TensorFlow SavedModel en: C://TEMP_MODEL_YOLO11n\\OUT\n"
     ]
    }
   ],
   "source": [
    "# Exportar el SavedModel\n",
    "tf_rep.export_graph(saved_model_dir)\n",
    "print(\"Modelo convertido a TensorFlow SavedModel en:\", saved_model_dir)"
   ]
  },
  {
   "cell_type": "code",
   "execution_count": null,
   "metadata": {},
   "outputs": [
    {
     "name": "stdout",
     "output_type": "stream",
     "text": [
      "Firmas del modelo: ['serving_default']\n"
     ]
    }
   ],
   "source": [
    "import tensorflow as tf\n",
    "\n",
    "# Cargar el modelo usando SavedModel API\n",
    "model = tf.saved_model.load(r\"C:\\TEMP_MODEL_YOLO11n\\OUT\")\n",
    "\n",
    "# Verificar las firmas del modelo\n",
    "print(\"Firmas del modelo:\", list(model.signatures.keys()))\n",
    "\n"
   ]
  },
  {
   "cell_type": "code",
   "execution_count": null,
   "metadata": {},
   "outputs": [
    {
     "name": "stdout",
     "output_type": "stream",
     "text": [
      "Cantidad de clases en el modelo SavedModel: 8400\n"
     ]
    }
   ],
   "source": [
    "# Obtener la salida del modelo desde la firma \"serving_default\"\n",
    "output_shape = list(model.signatures[\"serving_default\"].structured_outputs.values())[0].shape\n",
    "num_classes = output_shape[-1]  # Última dimensión representa las clases en clasificación\n",
    "\n",
    "print(f\"Cantidad de clases en el modelo SavedModel: {num_classes}\")"
   ]
  },
  {
   "cell_type": "code",
   "execution_count": null,
   "metadata": {},
   "outputs": [
    {
     "name": "stdout",
     "output_type": "stream",
     "text": [
      "Modelo exportado a TFLite y guardado en: Modelo\\YOLO11n.tflite\n"
     ]
    }
   ],
   "source": [
    "# Convertir el SavedModel a TFLite\n",
    "converter = tf.lite.TFLiteConverter.from_saved_model(saved_model_dir)\n",
    "converter.optimizations = [tf.lite.Optimize.DEFAULT]\n",
    "tflite_model = converter.convert()\n",
    "\n",
    "# Guardar el modelo TFLite\n",
    "tflite_path = MODEL_DIR / \"fine_tuned\" / \"YOLO11n.tflite\"\n",
    "with open(tflite_path, \"wb\") as f:\n",
    "    f.write(tflite_model)\n",
    "print(\"Modelo exportado a TFLite y guardado en:\", tflite_path)"
   ]
  }
 ],
 "metadata": {
  "kernelspec": {
   "display_name": "pytorch",
   "language": "python",
   "name": "python3"
  },
  "language_info": {
   "name": "python",
   "version": "3.10.16"
  }
 },
 "nbformat": 4,
 "nbformat_minor": 2
}
